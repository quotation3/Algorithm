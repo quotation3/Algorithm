{
  "nbformat": 4,
  "nbformat_minor": 0,
  "metadata": {
    "colab": {
      "name": "Level1_programmers_2018_kakao_blind_비밀지도.ipynb",
      "provenance": [],
      "authorship_tag": "ABX9TyMYLGAkHajZCtHCKaSRCext",
      "include_colab_link": true
    },
    "kernelspec": {
      "name": "python3",
      "display_name": "Python 3"
    }
  },
  "cells": [
    {
      "cell_type": "markdown",
      "metadata": {
        "id": "view-in-github",
        "colab_type": "text"
      },
      "source": [
        "<a href=\"https://colab.research.google.com/github/quotation3/Algorithm/blob/master/Level1_programmers_2018_kakao_blind_%EB%B9%84%EB%B0%80%EC%A7%80%EB%8F%84.ipynb\" target=\"_parent\"><img src=\"https://colab.research.google.com/assets/colab-badge.svg\" alt=\"Open In Colab\"/></a>"
      ]
    },
    {
      "cell_type": "markdown",
      "metadata": {
        "id": "DGYg_HZQP5JU"
      },
      "source": [
        "### 비밀지도"
      ]
    },
    {
      "cell_type": "code",
      "metadata": {
        "id": "cmia4R9TMajS"
      },
      "source": [
        "n = 5\r\n",
        "arr1 = \t[9, 20, 28, 18, 11]\r\n",
        "arr2 = \t[30, 1, 21, 17, 28]\r\n",
        "# 출력 \t[\"#####\",\"# # #\", \"### #\", \"# ##\", \"#####\"]"
      ],
      "execution_count": 3,
      "outputs": []
    },
    {
      "cell_type": "code",
      "metadata": {
        "id": "ZsswKS5li0eI"
      },
      "source": [
        "n = 6\r\n",
        "arr1 = [46, 33, 33 ,22, 31, 50]\r\n",
        "arr2 = [27 ,56, 19, 14, 14, 10]"
      ],
      "execution_count": 127,
      "outputs": []
    },
    {
      "cell_type": "code",
      "metadata": {
        "id": "UPTSWlCJW32H"
      },
      "source": [
        "def solution(n, arr1, arr2):\r\n",
        "    lis1 = []\r\n",
        "    lis2 = []\r\n",
        "    for i in arr1:\r\n",
        "        lis1.append(bin(i).replace('b',''))\r\n",
        "    for i in arr2:\r\n",
        "        lis2.append(bin(i).replace('b',''))\r\n",
        "    for idx,j in enumerate(lis1):\r\n",
        "        if len(j) < n:\r\n",
        "            lis1[idx]=('0'*(n-len(j))+j)\r\n",
        "        elif len(j) > n:\r\n",
        "            lis1[idx] = j[-n:]\r\n",
        "    for idx,j in enumerate(lis2):\r\n",
        "        if len(j) < n:\r\n",
        "            lis2[idx]=('0'*(n-len(j))+j)\r\n",
        "        elif len(j) > n:\r\n",
        "            lis2[idx] = j[-n:]\r\n",
        "\r\n",
        "    new_lis1 = []\r\n",
        "    for j in lis1:\r\n",
        "        if len(j) < n:\r\n",
        "            new_lis1.append('0'*(n-len(j))+str(j))\r\n",
        "        else:\r\n",
        "            new_lis1.append(j)\r\n",
        "    new_lis2 = []\r\n",
        "    for j in lis2:\r\n",
        "        if len(j) < n:\r\n",
        "            new_lis2.append('0'*(n-len(j))+str(j))\r\n",
        "        else:\r\n",
        "            new_lis2.append(j)\r\n",
        "\r\n",
        "    answer = [] \r\n",
        "    for i in range(n):\r\n",
        "        a = str(int(new_lis1[i]) + int(new_lis2[i]))\r\n",
        "        if len(a) < n:\r\n",
        "            answer.append('0'*(n-len(a))+a)\r\n",
        "        else:\r\n",
        "            answer.append(a)\r\n",
        "\r\n",
        "    result = []\r\n",
        "    for i in range(n):\r\n",
        "        tmp = []\r\n",
        "        for j in range(n):\r\n",
        "            if answer[i][j] != '0':\r\n",
        "                tmp.append('#')\r\n",
        "            else:\r\n",
        "                tmp.append(' ')\r\n",
        "        result.append(''.join(tmp))\r\n",
        "        \r\n",
        "    return result"
      ],
      "execution_count": 150,
      "outputs": []
    },
    {
      "cell_type": "code",
      "metadata": {
        "colab": {
          "base_uri": "https://localhost:8080/"
        },
        "id": "o8XnzH7CuJYi",
        "outputId": "74e58ae1-67fe-45e8-9f13-8602f087547c"
      },
      "source": [
        "solution(n, arr1, arr2)"
      ],
      "execution_count": 151,
      "outputs": [
        {
          "output_type": "execute_result",
          "data": {
            "text/plain": [
              "['######', '###  #', '##  ##', ' #### ', ' #####', '### # ']"
            ]
          },
          "metadata": {
            "tags": []
          },
          "execution_count": 151
        }
      ]
    },
    {
      "cell_type": "code",
      "metadata": {
        "id": "7Q0JzRdIc5qY"
      },
      "source": [
        "# 다른 풀이 (비트 연산자 이용)\r\n",
        "def solution(n, arr1, arr2):\r\n",
        "    answer = []\r\n",
        "    for i,j in zip(arr1,arr2):\r\n",
        "        a12 = str(bin(i|j)[2:])\r\n",
        "        a12=a12.rjust(n,'0')\r\n",
        "        a12=a12.replace('1','#')\r\n",
        "        a12=a12.replace('0',' ')\r\n",
        "        answer.append(a12)\r\n",
        "    return answer"
      ],
      "execution_count": 152,
      "outputs": []
    },
    {
      "cell_type": "code",
      "metadata": {
        "colab": {
          "base_uri": "https://localhost:8080/"
        },
        "id": "cZ82IcCGuLzC",
        "outputId": "1a32af08-a75b-45df-fda9-cd4eb175f22c"
      },
      "source": [
        "solution(n, arr1, arr2)"
      ],
      "execution_count": 153,
      "outputs": [
        {
          "output_type": "execute_result",
          "data": {
            "text/plain": [
              "['######', '###  #', '##  ##', ' #### ', ' #####', '### # ']"
            ]
          },
          "metadata": {
            "tags": []
          },
          "execution_count": 153
        }
      ]
    }
  ]
}