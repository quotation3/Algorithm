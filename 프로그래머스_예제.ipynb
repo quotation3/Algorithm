{
  "nbformat": 4,
  "nbformat_minor": 0,
  "metadata": {
    "colab": {
      "name": "프로그래머스_예제.ipynb",
      "provenance": [],
      "collapsed_sections": [],
      "authorship_tag": "ABX9TyPn7eBW4vlt1wXHTMNAHN4q",
      "include_colab_link": true
    },
    "kernelspec": {
      "name": "python3",
      "display_name": "Python 3"
    }
  },
  "cells": [
    {
      "cell_type": "markdown",
      "metadata": {
        "id": "view-in-github",
        "colab_type": "text"
      },
      "source": [
        "<a href=\"https://colab.research.google.com/github/quotation3/Algorithm/blob/master/%ED%94%84%EB%A1%9C%EA%B7%B8%EB%9E%98%EB%A8%B8%EC%8A%A4_%EC%98%88%EC%A0%9C.ipynb\" target=\"_parent\"><img src=\"https://colab.research.google.com/assets/colab-badge.svg\" alt=\"Open In Colab\"/></a>"
      ]
    },
    {
      "cell_type": "markdown",
      "metadata": {
        "id": "2HdnlCZsLLK7"
      },
      "source": [
        "두 수의 최소공배수(Least Common Multiple)란 입력된 두 수의 배수 중 공통이 되는 가장 작은 숫자를 의미합니다. 예를 들어 2와 7의 최소공배수는 14가 됩니다. 정의를 확장해서, n개의 수의 최소공배수는 n 개의 수들의 배수 중 공통이 되는 가장 작은 숫자가 됩니다. n개의 숫자를 담은 배열 arr이 입력되었을 때 이 수들의 최소공배수를 반환하는 함수, solution을 완성해 주세요."
      ]
    },
    {
      "cell_type": "code",
      "metadata": {
        "id": "KMycBFXhF6UU"
      },
      "source": [
        "arr1 = [2,6,8,14]\n",
        "# answer = 168\n",
        "arr2 = [1,2,3]\n",
        "# answer = 6"
      ],
      "execution_count": 1,
      "outputs": []
    },
    {
      "cell_type": "code",
      "metadata": {
        "id": "Kp6ezXgjF97M"
      },
      "source": [
        "from math import gcd\n",
        "\n",
        "def solution(arr):\n",
        "    answer = 1\n",
        "    for i in arr:\n",
        "        answer= (i*answer)/gcd(int(i),int(answer))\n",
        "    return answer"
      ],
      "execution_count": 2,
      "outputs": []
    },
    {
      "cell_type": "code",
      "metadata": {
        "id": "WrbuO7SNg2P1",
        "outputId": "d3946486-3e91-49df-8b32-a8fd28045df2",
        "colab": {
          "base_uri": "https://localhost:8080/"
        }
      },
      "source": [
        "solution(arr2)"
      ],
      "execution_count": 3,
      "outputs": [
        {
          "output_type": "execute_result",
          "data": {
            "text/plain": [
              "6.0"
            ]
          },
          "metadata": {
            "tags": []
          },
          "execution_count": 3
        }
      ]
    },
    {
      "cell_type": "markdown",
      "metadata": {
        "id": "9rKQTO8K3XLS"
      },
      "source": [
        "무인도에 갇힌 사람들을 구명보트를 이용하여 구출하려고 합니다. 구명보트는 작아서 한 번에 최대 2명씩 밖에 탈 수 없고, 무게 제한도 있습니다.\n",
        "\n",
        "예를 들어, 사람들의 몸무게가 [70kg, 50kg, 80kg, 50kg]이고 구명보트의 무게 제한이 100kg이라면 2번째 사람과 4번째 사람은 같이 탈 수 있지만 1번째 사람과 3번째 사람의 무게의 합은 150kg이므로 구명보트의 무게 제한을 초과하여 같이 탈 수 없습니다.\n",
        "\n",
        "구명보트를 최대한 적게 사용하여 모든 사람을 구출하려고 합니다.\n",
        "\n",
        "사람들의 몸무게를 담은 배열 people과 구명보트의 무게 제한 limit가 매개변수로 주어질 때, 모든 사람을 구출하기 위해 필요한 구명보트 개수의 최솟값을 return 하도록 solution 함수를 작성해주세요."
      ]
    },
    {
      "cell_type": "code",
      "metadata": {
        "id": "8--gZO_-3Ygk"
      },
      "source": [
        "people = [70, 50, 80, 50]\n",
        "limit = 100"
      ],
      "execution_count": 4,
      "outputs": []
    },
    {
      "cell_type": "code",
      "metadata": {
        "id": "0h5WGRo84HdS",
        "outputId": "4ae0fa31-5aa7-456d-bd32-be5df6c692a2",
        "colab": {
          "base_uri": "https://localhost:8080/"
        }
      },
      "source": [
        "people.sort()\n",
        "cnt = 0\n",
        "i = 0\n",
        "j = len(people)-1\n",
        "\n",
        "while i < j:\n",
        "    cnt += 1\n",
        "    if people[i] + people[j] <= limit: # 가장 작은 사람과 큰 사람을 같이 시도\n",
        "        i+=1\n",
        "    j-=1 # limit보다 크면 가장 큰 사람만 태운다\n",
        "cnt"
      ],
      "execution_count": 8,
      "outputs": [
        {
          "output_type": "execute_result",
          "data": {
            "text/plain": [
              "3"
            ]
          },
          "metadata": {
            "tags": []
          },
          "execution_count": 8
        }
      ]
    },
    {
      "cell_type": "code",
      "metadata": {
        "id": "VI-0lC94z8uJ"
      },
      "source": [
        "def solution(people, limit):\n",
        "    people.sort()\n",
        "    cnt = 0\n",
        "    i = 0\n",
        "    j = len(people)-1\n",
        "\n",
        "    while i < j:\n",
        "        cnt += 1\n",
        "        if people[i] + people[j] <= limit:\n",
        "            i+=1\n",
        "        j-=1\n",
        "    \n",
        "    return cnt"
      ],
      "execution_count": 9,
      "outputs": []
    },
    {
      "cell_type": "code",
      "metadata": {
        "id": "3C_Hncgl0Deh",
        "outputId": "7a612d9b-b143-4320-e579-b59d37fc5507",
        "colab": {
          "base_uri": "https://localhost:8080/"
        }
      },
      "source": [
        "solution(people, limit)"
      ],
      "execution_count": 10,
      "outputs": [
        {
          "output_type": "execute_result",
          "data": {
            "text/plain": [
              "3"
            ]
          },
          "metadata": {
            "tags": []
          },
          "execution_count": 10
        }
      ]
    }
  ]
}