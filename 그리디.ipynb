{
  "nbformat": 4,
  "nbformat_minor": 0,
  "metadata": {
    "colab": {
      "name": "그리디.ipynb",
      "provenance": [],
      "authorship_tag": "ABX9TyM7gPXJE6bFBawHCphfXxEG",
      "include_colab_link": true
    },
    "kernelspec": {
      "name": "python3",
      "display_name": "Python 3"
    }
  },
  "cells": [
    {
      "cell_type": "markdown",
      "metadata": {
        "id": "view-in-github",
        "colab_type": "text"
      },
      "source": [
        "<a href=\"https://colab.research.google.com/github/quotation3/Algorithm/blob/master/%EA%B7%B8%EB%A6%AC%EB%94%94.ipynb\" target=\"_parent\"><img src=\"https://colab.research.google.com/assets/colab-badge.svg\" alt=\"Open In Colab\"/></a>"
      ]
    },
    {
      "cell_type": "markdown",
      "metadata": {
        "id": "vhZ-zymi76zS"
      },
      "source": [
        "큰 수의 법칙"
      ]
    },
    {
      "cell_type": "code",
      "metadata": {
        "id": "Q6cdSuSJ5WYL",
        "outputId": "e9c38d64-3982-4863-fb61-fc4bef346792",
        "colab": {
          "base_uri": "https://localhost:8080/",
          "height": 53
        }
      },
      "source": [
        "n, m, k = map(int, input().split())\n",
        "data = list(map(int,input().split()))"
      ],
      "execution_count": 30,
      "outputs": [
        {
          "output_type": "stream",
          "text": [
            "5 8 3\n",
            "2 4 5 4 6\n"
          ],
          "name": "stdout"
        }
      ]
    },
    {
      "cell_type": "code",
      "metadata": {
        "id": "BJBmrc7e5uY6"
      },
      "source": [
        "data.sort()"
      ],
      "execution_count": 31,
      "outputs": []
    },
    {
      "cell_type": "code",
      "metadata": {
        "id": "cOcnmjUY6X31"
      },
      "source": [
        "first = data[n-1]\n",
        "second = data[n-2]"
      ],
      "execution_count": 32,
      "outputs": []
    },
    {
      "cell_type": "code",
      "metadata": {
        "id": "oiWGR3vI6tQ8",
        "outputId": "a0b36337-6b73-494a-bd2e-e57ab3c03cc4",
        "colab": {
          "base_uri": "https://localhost:8080/",
          "height": 35
        }
      },
      "source": [
        "result = 0\n",
        "while True:\n",
        "    for i in range(k):\n",
        "        if m==0:\n",
        "            break\n",
        "        result += first\n",
        "        m -= 1\n",
        "    if m ==0:\n",
        "        break\n",
        "    result += second\n",
        "\n",
        "print(result)"
      ],
      "execution_count": 33,
      "outputs": [
        {
          "output_type": "stream",
          "text": [
            "58\n"
          ],
          "name": "stdout"
        }
      ]
    },
    {
      "cell_type": "markdown",
      "metadata": {
        "id": "1D9QD-Qt9zOn"
      },
      "source": [
        "숫자카드게임"
      ]
    },
    {
      "cell_type": "code",
      "metadata": {
        "id": "LWC7O-DU91rd",
        "outputId": "cf7e42d8-064d-4c64-a6bc-aba608e71d6b",
        "colab": {
          "base_uri": "https://localhost:8080/",
          "height": 35
        }
      },
      "source": [
        "n,m = map(int, input().split())"
      ],
      "execution_count": 34,
      "outputs": [
        {
          "output_type": "stream",
          "text": [
            "3 3\n"
          ],
          "name": "stdout"
        }
      ]
    },
    {
      "cell_type": "code",
      "metadata": {
        "id": "xHHmbFVx97ai",
        "outputId": "e270c70e-1309-4e2e-fba5-14b71cb22642",
        "colab": {
          "base_uri": "https://localhost:8080/",
          "height": 89
        }
      },
      "source": [
        "result = []\n",
        "for i in range(n):\n",
        "    result.append(min(list(map(int, input().split()))))\n",
        "print(max(result))"
      ],
      "execution_count": 35,
      "outputs": [
        {
          "output_type": "stream",
          "text": [
            "3 1 2\n",
            "4 1 4\n",
            "2 2 2\n",
            "2\n"
          ],
          "name": "stdout"
        }
      ]
    },
    {
      "cell_type": "markdown",
      "metadata": {
        "id": "lidYF2vJ-o4m"
      },
      "source": [
        "1이 될 때 까지"
      ]
    },
    {
      "cell_type": "code",
      "metadata": {
        "id": "Y7R803Qy-sGi",
        "outputId": "4ffee3b0-be42-4e4b-88f8-8413f332d230",
        "colab": {
          "base_uri": "https://localhost:8080/",
          "height": 53
        }
      },
      "source": [
        "n, k = map(int, input().split())\n",
        "result = n//k\n",
        "result += n%k\n",
        "print(result)"
      ],
      "execution_count": 38,
      "outputs": [
        {
          "output_type": "stream",
          "text": [
            "25 5\n",
            "5\n"
          ],
          "name": "stdout"
        }
      ]
    }
  ]
}