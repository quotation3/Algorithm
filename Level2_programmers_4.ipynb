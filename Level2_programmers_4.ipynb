{
  "nbformat": 4,
  "nbformat_minor": 0,
  "metadata": {
    "colab": {
      "name": "Level2_programmers_4.ipynb",
      "provenance": [],
      "collapsed_sections": [],
      "authorship_tag": "ABX9TyPQy/qwBoorVqBBt3/QPjXF",
      "include_colab_link": true
    },
    "kernelspec": {
      "name": "python3",
      "display_name": "Python 3"
    },
    "language_info": {
      "name": "python"
    }
  },
  "cells": [
    {
      "cell_type": "markdown",
      "metadata": {
        "id": "view-in-github",
        "colab_type": "text"
      },
      "source": [
        "<a href=\"https://colab.research.google.com/github/quotation3/Algorithm/blob/master/Level2_programmers_4.ipynb\" target=\"_parent\"><img src=\"https://colab.research.google.com/assets/colab-badge.svg\" alt=\"Open In Colab\"/></a>"
      ]
    },
    {
      "cell_type": "markdown",
      "metadata": {
        "id": "u8OV2O9WlFwr"
      },
      "source": [
        "### 방문 길이"
      ]
    },
    {
      "cell_type": "code",
      "metadata": {
        "id": "OOzRgLb7lFIb"
      },
      "source": [
        "dirs = \"ULURRDLLU\"\n",
        "# answer = 8"
      ],
      "execution_count": null,
      "outputs": []
    },
    {
      "cell_type": "code",
      "metadata": {
        "id": "QxXGhKETlSZ_"
      },
      "source": [
        "x, y = [0, 0, -1, 1 ], [1, -1, 0, 0]\n",
        "d = {\"U\":0, \"D\":1, \"L\":2, \"R\":3}\n",
        "\n",
        "def solution(dirs):\n",
        "    answer = 0\n",
        "    visited = []\n",
        "    position = (0,0)\n",
        "    for command in dirs:\n",
        "        i = d[command]\n",
        "        new = (position[0]+x[i],position[1]+y[i])\n",
        "        if (abs(new[0]) > 5) or (abs(new[1])) > 5: continue\n",
        "        if (position,new) not in visited: \n",
        "            visited.append((position,new))\n",
        "            visited.append((new,position))\n",
        "            answer += 1\n",
        "        position = new\n",
        "    return answer"
      ],
      "execution_count": null,
      "outputs": []
    },
    {
      "cell_type": "code",
      "metadata": {
        "colab": {
          "base_uri": "https://localhost:8080/"
        },
        "id": "cXprdIdTmNa-",
        "outputId": "4c8e653d-8f03-40e2-c2a4-aeefceb5caa7"
      },
      "source": [
        "solution(dirs)"
      ],
      "execution_count": null,
      "outputs": [
        {
          "output_type": "execute_result",
          "data": {
            "text/plain": [
              "7"
            ]
          },
          "metadata": {
            "tags": []
          },
          "execution_count": 8
        }
      ]
    },
    {
      "cell_type": "markdown",
      "metadata": {
        "id": "cce_pcvBu2f0"
      },
      "source": [
        "### 숫자의 표현"
      ]
    },
    {
      "cell_type": "code",
      "metadata": {
        "id": "nh98RkbZu4Dt"
      },
      "source": [
        "n = 15\n",
        "# result 4"
      ],
      "execution_count": 7,
      "outputs": []
    },
    {
      "cell_type": "code",
      "metadata": {
        "id": "wif4WGXNvMsh"
      },
      "source": [
        "def solution(n):    \n",
        "    cnt = 1\n",
        "    for i in range(1,n//2+1):\n",
        "        a = i\n",
        "        while True:\n",
        "            if a >= n:\n",
        "                break\n",
        "            else:\n",
        "                a+=a+1\n",
        "        if a == n:\n",
        "            cnt+=1\n",
        "    return cnt"
      ],
      "execution_count": 14,
      "outputs": []
    },
    {
      "cell_type": "code",
      "metadata": {
        "colab": {
          "base_uri": "https://localhost:8080/"
        },
        "id": "uLSe3pvgwQCZ",
        "outputId": "a7ad4898-ddd6-4a3b-cf54-9219543877d5"
      },
      "source": [
        "solution(n)"
      ],
      "execution_count": 15,
      "outputs": [
        {
          "output_type": "execute_result",
          "data": {
            "text/plain": [
              "4"
            ]
          },
          "metadata": {
            "tags": []
          },
          "execution_count": 15
        }
      ]
    },
    {
      "cell_type": "markdown",
      "metadata": {
        "id": "18sOaZuY4lCH"
      },
      "source": [
        "### 이진 변환 반복하기"
      ]
    },
    {
      "cell_type": "code",
      "metadata": {
        "id": "q0IXQGDiwQt2"
      },
      "source": [
        "s = \"110010101001\""
      ],
      "execution_count": 37,
      "outputs": []
    },
    {
      "cell_type": "code",
      "metadata": {
        "colab": {
          "base_uri": "https://localhost:8080/"
        },
        "id": "HVRYBsI94tNa",
        "outputId": "f2da5204-a129-469a-b53c-324d0e978815"
      },
      "source": [
        "s = \"110010101001\"\n",
        "\n",
        "cnt = 0\n",
        "cnt_0 = 0\n",
        "\n",
        "while True:\n",
        "    if s != '1':\n",
        "        cnt += 1\n",
        "        cnt_0 += s.count('0')\n",
        "        s = '1'* s.count('1')\n",
        "        s = str(bin(len(s)))\n",
        "        s = str(int(s.replace('b','')))\n",
        "        print(s)\n",
        "\n",
        "    else:\n",
        "        break\n",
        "\n",
        "cnt, cnt_0"
      ],
      "execution_count": 35,
      "outputs": [
        {
          "output_type": "stream",
          "text": [
            "110\n",
            "10\n",
            "1\n"
          ],
          "name": "stdout"
        },
        {
          "output_type": "execute_result",
          "data": {
            "text/plain": [
              "(3, 8)"
            ]
          },
          "metadata": {
            "tags": []
          },
          "execution_count": 35
        }
      ]
    },
    {
      "cell_type": "code",
      "metadata": {
        "id": "OVQfr2NO42U2"
      },
      "source": [
        "def solution(s):\n",
        "    cnt = 0\n",
        "    cnt_0 = 0\n",
        "\n",
        "    while True:\n",
        "        if s != '1':\n",
        "            cnt += 1\n",
        "            cnt_0 += s.count('0')\n",
        "            s = '1'* s.count('1')\n",
        "            s = str(bin(len(s)))\n",
        "            s = str(int(s.replace('b','')))\n",
        "\n",
        "        else:\n",
        "            break\n",
        "\n",
        "    return [cnt, cnt_0]"
      ],
      "execution_count": 39,
      "outputs": []
    },
    {
      "cell_type": "code",
      "metadata": {
        "colab": {
          "base_uri": "https://localhost:8080/"
        },
        "id": "biKh7Z8D5Fm6",
        "outputId": "6a8e70a7-b5bf-4728-de24-8b4434b414d3"
      },
      "source": [
        "solution(s)"
      ],
      "execution_count": 40,
      "outputs": [
        {
          "output_type": "execute_result",
          "data": {
            "text/plain": [
              "[3, 8]"
            ]
          },
          "metadata": {
            "tags": []
          },
          "execution_count": 40
        }
      ]
    }
  ]
}