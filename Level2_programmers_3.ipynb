{
  "nbformat": 4,
  "nbformat_minor": 0,
  "metadata": {
    "colab": {
      "name": "Level2_programmers_3.ipynb",
      "provenance": [],
      "collapsed_sections": [],
      "authorship_tag": "ABX9TyN/6g8ve+pYgBDrOxcL63Qy",
      "include_colab_link": true
    },
    "kernelspec": {
      "name": "python3",
      "display_name": "Python 3"
    },
    "language_info": {
      "name": "python"
    }
  },
  "cells": [
    {
      "cell_type": "markdown",
      "metadata": {
        "id": "view-in-github",
        "colab_type": "text"
      },
      "source": [
        "<a href=\"https://colab.research.google.com/github/quotation3/Algorithm/blob/master/Level2_programmers_3.ipynb\" target=\"_parent\"><img src=\"https://colab.research.google.com/assets/colab-badge.svg\" alt=\"Open In Colab\"/></a>"
      ]
    },
    {
      "cell_type": "markdown",
      "metadata": {
        "id": "vNrro8cE2mRj"
      },
      "source": [
        "### 쿼드 압축 후 개수 세기"
      ]
    },
    {
      "cell_type": "code",
      "metadata": {
        "id": "J0LT3vlQ2geB"
      },
      "source": [
        "arr = [[1,1,0,0],[1,0,0,0],[1,0,0,1],[1,1,1,1]]\n",
        "# result [4,9]"
      ],
      "execution_count": null,
      "outputs": []
    },
    {
      "cell_type": "code",
      "metadata": {
        "id": "D2bv2jlX3B8J"
      },
      "source": [
        "def solution(arr):\n",
        "    answer = [0, 0]\n",
        "    N = len(arr)\n",
        "\n",
        "    def comp(x, y, n):\n",
        "        init = arr[x][y]  # 해당 네모값중 하나 # 모두 같아야 통과임\n",
        "        for i in range(x, x + n):\n",
        "            for j in range(y, y + n):\n",
        "                if arr[i][j] != init:  # 한번이라도 다르면 그 네모는 압축불가\n",
        "                    nn = n // 2\n",
        "                    comp(x, y, nn)\n",
        "                    comp(x, y + nn, nn)\n",
        "                    comp(x + nn, y, nn)\n",
        "                    comp(x + nn, y + nn, nn)\n",
        "                    return\n",
        "\n",
        "        # 무사히 다 통과했다면 압축가능\n",
        "        answer[init] += 1\n",
        "\n",
        "    comp(0, 0, N)\n",
        "    return answer"
      ],
      "execution_count": null,
      "outputs": []
    },
    {
      "cell_type": "code",
      "metadata": {
        "colab": {
          "base_uri": "https://localhost:8080/"
        },
        "id": "7yg37fvG38wT",
        "outputId": "98173c23-f1fa-4122-9060-7ec134f7710c"
      },
      "source": [
        "solution(arr)"
      ],
      "execution_count": null,
      "outputs": [
        {
          "output_type": "execute_result",
          "data": {
            "text/plain": [
              "[4, 9]"
            ]
          },
          "metadata": {
            "tags": []
          },
          "execution_count": 12
        }
      ]
    },
    {
      "cell_type": "code",
      "metadata": {
        "id": "xbV5qqLa2oRv"
      },
      "source": [
        "import numpy as np\n",
        "\n",
        "def solution(arr):\n",
        "    # 재귀함수 구현\n",
        "    def fn(a):\n",
        "        if np.all(a == 0): return np.array([1, 0])\n",
        "        if np.all(a == 1): return np.array([0, 1])\n",
        "        n = a.shape[0]//2\n",
        "        return fn(a[:n, :n]) + fn(a[n:, :n]) + fn(a[:n, n:]) + fn(a[n:, n:])\n",
        "\n",
        "    # 결과 리턴\n",
        "    return fn(np.array(arr)).tolist()"
      ],
      "execution_count": null,
      "outputs": []
    },
    {
      "cell_type": "code",
      "metadata": {
        "colab": {
          "base_uri": "https://localhost:8080/"
        },
        "id": "i-lrhMnb3Me9",
        "outputId": "95abfb31-2130-4d16-8c76-88b0c5705dfb"
      },
      "source": [
        "solution(arr)"
      ],
      "execution_count": null,
      "outputs": [
        {
          "output_type": "execute_result",
          "data": {
            "text/plain": [
              "[4, 9]"
            ]
          },
          "metadata": {
            "tags": []
          },
          "execution_count": 14
        }
      ]
    },
    {
      "cell_type": "markdown",
      "metadata": {
        "id": "58FWMEtiD0nc"
      },
      "source": [
        "### 가장 큰 정사각형 찾기기"
      ]
    },
    {
      "cell_type": "code",
      "metadata": {
        "id": "SsQkwB4ZD5s6"
      },
      "source": [
        "board = [[0,1,1,1],[1,1,1,1],[1,1,1,1],[0,0,1,0]]\n",
        "# answer = 9"
      ],
      "execution_count": null,
      "outputs": []
    },
    {
      "cell_type": "code",
      "metadata": {
        "id": "uUgHvn1ED_qP"
      },
      "source": [
        "def solution(board):\n",
        "    width = len(board[0])\n",
        "    height = len(board)\n",
        "    for x in range(1,height):\n",
        "        for y in range(1,width):\n",
        "            if board[x][y] >= 1:\n",
        "                board[x][y] = min(board[x-1][y-1], board[x-1][y], board[x][y-1]) + 1\n",
        "                # 왼쪽, 위쪽, 대각선왼쪽의 숫자들 중에서 가장 작은 숫자를 고른 후 거기에 +1\n",
        "                # 왼쪽, 위쪽, 대각선왼쪽의 숫자가 모두 1이라면 board[x][y]는 2가 될 것. 그렇다면 board[x][y]를 오른쪽하단 기준점으로 생각하면 인덱스 -2만큼은 원래가 모두 1이였다는 의미.\n",
        "                # 왼쪽, 위쪽, 대각선왼쪽의 숫자가 2라면 board[x][y]는 3이 될 것. 그렇다면 board[x][y]를 오른쪽하단 기준점으로 생각하면 인덱스 -3만큼은 원래가 모두 1이였다는 의미.\n",
        "    return max([item for row in board for item in row])**2"
      ],
      "execution_count": null,
      "outputs": []
    },
    {
      "cell_type": "code",
      "metadata": {
        "colab": {
          "base_uri": "https://localhost:8080/"
        },
        "id": "s6tWB2Q_Guji",
        "outputId": "c959748f-b33b-4f67-e36b-75f2f5e4cd0d"
      },
      "source": [
        "solution(board)"
      ],
      "execution_count": null,
      "outputs": [
        {
          "output_type": "execute_result",
          "data": {
            "text/plain": [
              "9"
            ]
          },
          "metadata": {
            "tags": []
          },
          "execution_count": 52
        }
      ]
    },
    {
      "cell_type": "markdown",
      "metadata": {
        "id": "GXRN2kreb_QF"
      },
      "source": [
        "### 튜플"
      ]
    },
    {
      "cell_type": "code",
      "metadata": {
        "id": "ORjYKMQfcAcg"
      },
      "source": [
        "s = '{{2},{2,1},{2,1,3},{2,1,3,4}}'\n",
        "# result = [2, 1, 3, 4]"
      ],
      "execution_count": null,
      "outputs": []
    },
    {
      "cell_type": "code",
      "metadata": {
        "id": "dY3t4H_bcbX2"
      },
      "source": [
        "# 길이별로 정렬해서 리스트에 추가\n",
        "\n",
        "def solution(s):\n",
        "    answer = []\n",
        "    s = s[2:-2]\n",
        "    s = s.split(\"},{\")\n",
        "    s.sort(key = len)\n",
        "    for i in s:\n",
        "        ii = i.split(',')\n",
        "        for j in ii:\n",
        "            if int(j) not in answer:\n",
        "                answer.append(int(j))\n",
        "    return answer"
      ],
      "execution_count": null,
      "outputs": []
    },
    {
      "cell_type": "code",
      "metadata": {
        "colab": {
          "base_uri": "https://localhost:8080/"
        },
        "id": "3M27FhZOeWxu",
        "outputId": "d8c532da-8585-48bb-e143-5199e10bf446"
      },
      "source": [
        "solution(s)"
      ],
      "execution_count": null,
      "outputs": [
        {
          "output_type": "execute_result",
          "data": {
            "text/plain": [
              "[2, 1, 3, 4]"
            ]
          },
          "metadata": {
            "tags": []
          },
          "execution_count": 86
        }
      ]
    },
    {
      "cell_type": "code",
      "metadata": {
        "id": "nmLRvw7djNIX"
      },
      "source": [
        "s = \"{{20,111},{111}}\"\n",
        "# result = [111, 20]"
      ],
      "execution_count": null,
      "outputs": []
    },
    {
      "cell_type": "code",
      "metadata": {
        "id": "X2VJ-erZiV5K"
      },
      "source": [
        "# 등장 횟수 많은 원소로 정렬\n",
        "\n",
        "from collections import Counter\n",
        "\n",
        "def solution(s):\n",
        "    s = s[2:-2]\n",
        "    s = s.split(\"},{\")\n",
        "    lis = []\n",
        "    for i in s:\n",
        "        lis.extend(i.split(','))\n",
        "    cnt = Counter(lis)\n",
        "    return list(map(int, [k for k, v in sorted(cnt.items(), key=lambda x: x[1], reverse=True)]))"
      ],
      "execution_count": null,
      "outputs": []
    },
    {
      "cell_type": "code",
      "metadata": {
        "colab": {
          "base_uri": "https://localhost:8080/"
        },
        "id": "nNIJsvd7jKYp",
        "outputId": "1158d4ec-be0f-478b-a324-037935269b66"
      },
      "source": [
        "solution(s)"
      ],
      "execution_count": null,
      "outputs": [
        {
          "output_type": "execute_result",
          "data": {
            "text/plain": [
              "[111, 20]"
            ]
          },
          "metadata": {
            "tags": []
          },
          "execution_count": 89
        }
      ]
    },
    {
      "cell_type": "markdown",
      "metadata": {
        "id": "uFPhRJj4nuTe"
      },
      "source": [
        "### 올바른 괄호"
      ]
    },
    {
      "cell_type": "code",
      "metadata": {
        "id": "fYIRqifgnvPH"
      },
      "source": [
        "s = \"()()\"\n",
        "# anwser true"
      ],
      "execution_count": 1,
      "outputs": []
    },
    {
      "cell_type": "code",
      "metadata": {
        "id": "ELGH-vwOn2QF"
      },
      "source": [
        "def solution(s):\n",
        "    answer = True\n",
        "    Queue = []\n",
        "    for i in s:\n",
        "        if i == '(':\n",
        "            Queue.append('(') # '('가 나오면 Queue에 append\n",
        "        else: \n",
        "            try:\n",
        "                Queue.pop() # ')'가 나오면 Queue에 있는 거 삭제\n",
        "            except:\n",
        "                return False # 삭제 안되면 false\n",
        "    if len(Queue) == 0:\n",
        "        return True # 다 나와서 Queue 길이가 0이면 true\n",
        "    else:\n",
        "        return False # 원소가 남아있으면 false"
      ],
      "execution_count": 4,
      "outputs": []
    },
    {
      "cell_type": "code",
      "metadata": {
        "colab": {
          "base_uri": "https://localhost:8080/"
        },
        "id": "yJI3bBPun745",
        "outputId": "20d67b78-8c43-43df-b821-dcd61b5a8a6f"
      },
      "source": [
        "solution(s)"
      ],
      "execution_count": 5,
      "outputs": [
        {
          "output_type": "execute_result",
          "data": {
            "text/plain": [
              "True"
            ]
          },
          "metadata": {
            "tags": []
          },
          "execution_count": 5
        }
      ]
    }
  ]
}