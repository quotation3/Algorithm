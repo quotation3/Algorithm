{
  "nbformat": 4,
  "nbformat_minor": 0,
  "metadata": {
    "colab": {
      "name": "Level2_programmers_3.ipynb",
      "provenance": [],
      "authorship_tag": "ABX9TyNEfsyy8TOqBuTWf9nZWuiZ",
      "include_colab_link": true
    },
    "kernelspec": {
      "name": "python3",
      "display_name": "Python 3"
    },
    "language_info": {
      "name": "python"
    }
  },
  "cells": [
    {
      "cell_type": "markdown",
      "metadata": {
        "id": "view-in-github",
        "colab_type": "text"
      },
      "source": [
        "<a href=\"https://colab.research.google.com/github/quotation3/Algorithm/blob/master/Level2_programmers_3.ipynb\" target=\"_parent\"><img src=\"https://colab.research.google.com/assets/colab-badge.svg\" alt=\"Open In Colab\"/></a>"
      ]
    },
    {
      "cell_type": "markdown",
      "metadata": {
        "id": "vNrro8cE2mRj"
      },
      "source": [
        "### 쿼드 압축 후 개수 세기"
      ]
    },
    {
      "cell_type": "code",
      "metadata": {
        "id": "J0LT3vlQ2geB"
      },
      "source": [
        "arr = [[1,1,0,0],[1,0,0,0],[1,0,0,1],[1,1,1,1]]\n",
        "# result [4,9]"
      ],
      "execution_count": 10,
      "outputs": []
    },
    {
      "cell_type": "code",
      "metadata": {
        "id": "D2bv2jlX3B8J"
      },
      "source": [
        "def solution(arr):\n",
        "    answer = [0, 0]\n",
        "    N = len(arr)\n",
        "\n",
        "    def comp(x, y, n):\n",
        "        init = arr[x][y]  # 해당 네모값중 하나 # 모두 같아야 통과임\n",
        "        for i in range(x, x + n):\n",
        "            for j in range(y, y + n):\n",
        "                if arr[i][j] != init:  # 한번이라도 다르면 그 네모는 압축불가\n",
        "                    nn = n // 2\n",
        "                    comp(x, y, nn)\n",
        "                    comp(x, y + nn, nn)\n",
        "                    comp(x + nn, y, nn)\n",
        "                    comp(x + nn, y + nn, nn)\n",
        "                    return\n",
        "\n",
        "        # 무사히 다 통과했다면 압축가능\n",
        "        answer[init] += 1\n",
        "\n",
        "    comp(0, 0, N)\n",
        "    return answer"
      ],
      "execution_count": 11,
      "outputs": []
    },
    {
      "cell_type": "code",
      "metadata": {
        "colab": {
          "base_uri": "https://localhost:8080/"
        },
        "id": "7yg37fvG38wT",
        "outputId": "98173c23-f1fa-4122-9060-7ec134f7710c"
      },
      "source": [
        "solution(arr)"
      ],
      "execution_count": 12,
      "outputs": [
        {
          "output_type": "execute_result",
          "data": {
            "text/plain": [
              "[4, 9]"
            ]
          },
          "metadata": {
            "tags": []
          },
          "execution_count": 12
        }
      ]
    },
    {
      "cell_type": "code",
      "metadata": {
        "id": "xbV5qqLa2oRv"
      },
      "source": [
        "import numpy as np\n",
        "\n",
        "def solution(arr):\n",
        "    # 재귀함수 구현\n",
        "    def fn(a):\n",
        "        if np.all(a == 0): return np.array([1, 0])\n",
        "        if np.all(a == 1): return np.array([0, 1])\n",
        "        n = a.shape[0]//2\n",
        "        return fn(a[:n, :n]) + fn(a[n:, :n]) + fn(a[:n, n:]) + fn(a[n:, n:])\n",
        "\n",
        "    # 결과 리턴\n",
        "    return fn(np.array(arr)).tolist()"
      ],
      "execution_count": 13,
      "outputs": []
    },
    {
      "cell_type": "code",
      "metadata": {
        "colab": {
          "base_uri": "https://localhost:8080/"
        },
        "id": "i-lrhMnb3Me9",
        "outputId": "95abfb31-2130-4d16-8c76-88b0c5705dfb"
      },
      "source": [
        "solution(arr)"
      ],
      "execution_count": 14,
      "outputs": [
        {
          "output_type": "execute_result",
          "data": {
            "text/plain": [
              "[4, 9]"
            ]
          },
          "metadata": {
            "tags": []
          },
          "execution_count": 14
        }
      ]
    }
  ]
}