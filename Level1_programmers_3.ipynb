{
  "nbformat": 4,
  "nbformat_minor": 0,
  "metadata": {
    "colab": {
      "name": "Level1_programmers_3.ipynb",
      "provenance": [],
      "collapsed_sections": [],
      "authorship_tag": "ABX9TyN2yBY+lOUak6aO3iGeoIbZ",
      "include_colab_link": true
    },
    "kernelspec": {
      "name": "python3",
      "display_name": "Python 3"
    }
  },
  "cells": [
    {
      "cell_type": "markdown",
      "metadata": {
        "id": "view-in-github",
        "colab_type": "text"
      },
      "source": [
        "<a href=\"https://colab.research.google.com/github/quotation3/Algorithm/blob/master/Level1_programmers_3.ipynb\" target=\"_parent\"><img src=\"https://colab.research.google.com/assets/colab-badge.svg\" alt=\"Open In Colab\"/></a>"
      ]
    },
    {
      "cell_type": "markdown",
      "metadata": {
        "id": "ULAUxgFoHn0c"
      },
      "source": [
        "### 소수 찾기"
      ]
    },
    {
      "cell_type": "code",
      "metadata": {
        "id": "UidHKSKFHdyN"
      },
      "source": [
        "n = 10\r\n",
        "# result 4"
      ],
      "execution_count": 26,
      "outputs": []
    },
    {
      "cell_type": "code",
      "metadata": {
        "colab": {
          "base_uri": "https://localhost:8080/"
        },
        "id": "ZLxRo02gHtbJ",
        "outputId": "7f45995b-a305-4a96-a39a-02c9ffe64daf"
      },
      "source": [
        "array = [False, False] + [True]*(n-1)\r\n",
        "\r\n",
        "for i in range(2,n+1):\r\n",
        "    if array[i] == True:\r\n",
        "        for j in range(i+i, n+1, i):\r\n",
        "            array[j]=False\r\n",
        "print(array)"
      ],
      "execution_count": 29,
      "outputs": [
        {
          "output_type": "stream",
          "text": [
            "[False, False, True, True, False, True, False, True, False, False, False]\n"
          ],
          "name": "stdout"
        }
      ]
    },
    {
      "cell_type": "code",
      "metadata": {
        "id": "Fdd4TewPIfVB"
      },
      "source": [
        "def solution(n):\r\n",
        "    \r\n",
        "    array = [False, False] + [True]*(n-1)\r\n",
        "\r\n",
        "    for i in range(2,n+1):\r\n",
        "        if array[i] == True:\r\n",
        "            for j in range(i+i, n+1, i):\r\n",
        "                array[j]=False\r\n",
        "                \r\n",
        "    return array.count(True)"
      ],
      "execution_count": 30,
      "outputs": []
    },
    {
      "cell_type": "code",
      "metadata": {
        "colab": {
          "base_uri": "https://localhost:8080/"
        },
        "id": "_h5b8vbDIhR2",
        "outputId": "cf3f86ac-4c6e-4cbf-e256-23fb16dd60ce"
      },
      "source": [
        "solution(10)"
      ],
      "execution_count": 31,
      "outputs": [
        {
          "output_type": "execute_result",
          "data": {
            "text/plain": [
              "4"
            ]
          },
          "metadata": {
            "tags": []
          },
          "execution_count": 31
        }
      ]
    },
    {
      "cell_type": "code",
      "metadata": {
        "id": "TXKFQtpZAmWm"
      },
      "source": [
        "# 다른 풀이\r\n",
        "def solution(n):\r\n",
        "    num=set(range(2,n+1))\r\n",
        "\r\n",
        "    for i in range(2,n+1):\r\n",
        "        if i in num:\r\n",
        "            num-=set(range(2*i,n+1,i))\r\n",
        "    return len(num)"
      ],
      "execution_count": 32,
      "outputs": []
    },
    {
      "cell_type": "markdown",
      "metadata": {
        "id": "WOGAbeA0AzHo"
      },
      "source": [
        "### 수박수박수박수박수박수?"
      ]
    },
    {
      "cell_type": "code",
      "metadata": {
        "id": "XUEAs46uA1dP"
      },
      "source": [
        "n = 3\r\n",
        "# return '수박수'"
      ],
      "execution_count": 33,
      "outputs": []
    },
    {
      "cell_type": "code",
      "metadata": {
        "id": "5vZT_o1GA68H"
      },
      "source": [
        "def solution(n):\r\n",
        "    answer = ''\r\n",
        "    for i in range(n):\r\n",
        "        if i%2 == 0:\r\n",
        "            answer+='수'\r\n",
        "        else:\r\n",
        "            answer+='박'\r\n",
        "    return answer"
      ],
      "execution_count": 35,
      "outputs": []
    },
    {
      "cell_type": "code",
      "metadata": {
        "colab": {
          "base_uri": "https://localhost:8080/",
          "height": 35
        },
        "id": "Ljbey-hRHK2A",
        "outputId": "2b8d3984-611b-4186-91d6-0d20d096ebd4"
      },
      "source": [
        "solution(n)"
      ],
      "execution_count": 36,
      "outputs": [
        {
          "output_type": "execute_result",
          "data": {
            "application/vnd.google.colaboratory.intrinsic+json": {
              "type": "string"
            },
            "text/plain": [
              "'수박수'"
            ]
          },
          "metadata": {
            "tags": []
          },
          "execution_count": 36
        }
      ]
    },
    {
      "cell_type": "code",
      "metadata": {
        "id": "rHnrRvCOHZGD"
      },
      "source": [
        "# 다른 풀이\r\n",
        "def water_melon(n):\r\n",
        "    s = \"수박\" * n\r\n",
        "    return s[:n]"
      ],
      "execution_count": 37,
      "outputs": []
    },
    {
      "cell_type": "markdown",
      "metadata": {
        "id": "UNYINqSvH65p"
      },
      "source": [
        "### 문자열을 정수로 바꾸기"
      ]
    },
    {
      "cell_type": "code",
      "metadata": {
        "id": "KQxEVXB_IMl5"
      },
      "source": [
        "s = '-1234'\r\n",
        "# return -1234"
      ],
      "execution_count": 38,
      "outputs": []
    },
    {
      "cell_type": "code",
      "metadata": {
        "id": "A-Pl_HxkIN3K"
      },
      "source": [
        "def solution(s):\r\n",
        "    return int(s)"
      ],
      "execution_count": 40,
      "outputs": []
    },
    {
      "cell_type": "code",
      "metadata": {
        "colab": {
          "base_uri": "https://localhost:8080/"
        },
        "id": "J2H4H_96ImPm",
        "outputId": "be8627f6-745e-4754-9505-4be6c6b407f6"
      },
      "source": [
        "solution(s)"
      ],
      "execution_count": 42,
      "outputs": [
        {
          "output_type": "execute_result",
          "data": {
            "text/plain": [
              "-1234"
            ]
          },
          "metadata": {
            "tags": []
          },
          "execution_count": 42
        }
      ]
    },
    {
      "cell_type": "markdown",
      "metadata": {
        "id": "wlcx7XbpXV4q"
      },
      "source": [
        "### 시저 암호"
      ]
    },
    {
      "cell_type": "code",
      "metadata": {
        "id": "J3dL2q9BXaME"
      },
      "source": [
        "s = 'AB'\r\n",
        "n = 1\r\n",
        "# result 'BC'"
      ],
      "execution_count": 43,
      "outputs": []
    },
    {
      "cell_type": "code",
      "metadata": {
        "id": "MbEI63OLXfJt"
      },
      "source": [
        "def solution(s, n):\r\n",
        "    s = list(s)\r\n",
        "\r\n",
        "    for i in range(len(s)):\r\n",
        "        if s[i].isupper():\r\n",
        "            s[i]=chr((ord(s[i])-ord('A')+ n)%26+ord('A'))\r\n",
        "\r\n",
        "        elif s[i].islower():\r\n",
        "            s[i]=chr((ord(s[i])-ord('a')+ n)%26+ord('a'))\r\n",
        "            \r\n",
        "    return \"\".join(s)"
      ],
      "execution_count": 44,
      "outputs": []
    },
    {
      "cell_type": "code",
      "metadata": {
        "colab": {
          "base_uri": "https://localhost:8080/",
          "height": 35
        },
        "id": "OBIc3oluXwf-",
        "outputId": "b31cbf6a-48e3-46b3-9003-7ab65b5618d9"
      },
      "source": [
        "solution(s, n)"
      ],
      "execution_count": 45,
      "outputs": [
        {
          "output_type": "execute_result",
          "data": {
            "application/vnd.google.colaboratory.intrinsic+json": {
              "type": "string"
            },
            "text/plain": [
              "'BC'"
            ]
          },
          "metadata": {
            "tags": []
          },
          "execution_count": 45
        }
      ]
    },
    {
      "cell_type": "markdown",
      "metadata": {
        "id": "wAOPgm_-YHai"
      },
      "source": [
        "### 약수의 합"
      ]
    },
    {
      "cell_type": "code",
      "metadata": {
        "id": "4t43jdGWYJZ0"
      },
      "source": [
        "n = 12\r\n",
        "# return 28"
      ],
      "execution_count": 46,
      "outputs": []
    },
    {
      "cell_type": "code",
      "metadata": {
        "id": "-4whF37sYMM7"
      },
      "source": [
        "def solution(n):\r\n",
        "    sum = 0\r\n",
        "    for i in range(1,n+1):\r\n",
        "        if n%i == 0:\r\n",
        "            sum+=i\r\n",
        "    return sum"
      ],
      "execution_count": 48,
      "outputs": []
    },
    {
      "cell_type": "code",
      "metadata": {
        "colab": {
          "base_uri": "https://localhost:8080/"
        },
        "id": "p5UqcXhVYczZ",
        "outputId": "88adcf96-b520-429e-98fc-7980009282db"
      },
      "source": [
        "solution(n)"
      ],
      "execution_count": 49,
      "outputs": [
        {
          "output_type": "execute_result",
          "data": {
            "text/plain": [
              "28"
            ]
          },
          "metadata": {
            "tags": []
          },
          "execution_count": 49
        }
      ]
    },
    {
      "cell_type": "code",
      "metadata": {
        "id": "DRP9IwCSZqCB"
      },
      "source": [
        "# 다른 풀이\r\n",
        "def sumDivisor(num):\r\n",
        "    return num + sum([i for i in range(1, (num // 2) + 1) if num % i == 0])\r\n",
        "    # 반 넘는 값은 계산 안해도 됨. 다만 num의 약수 중에는 num도 있으므로 num 따로 더해줘야함"
      ],
      "execution_count": 50,
      "outputs": []
    },
    {
      "cell_type": "markdown",
      "metadata": {
        "id": "_fCL6hRnaKaA"
      },
      "source": [
        "### 이상한 문자 만들기"
      ]
    },
    {
      "cell_type": "code",
      "metadata": {
        "id": "AEtxtV8faL_g"
      },
      "source": [
        "s = 'try hello world'\r\n",
        "# return 'TrY HeLlO WoRlD'"
      ],
      "execution_count": 57,
      "outputs": []
    },
    {
      "cell_type": "code",
      "metadata": {
        "id": "kVk-tAl1aSGp"
      },
      "source": [
        "def solution(s):\r\n",
        "    new = s.split(' ')\r\n",
        "    answer = ''\r\n",
        "    for word in new:\r\n",
        "        for idx,letter in enumerate(word):\r\n",
        "            if idx%2==0:\r\n",
        "                answer+=letter.upper()\r\n",
        "            else:\r\n",
        "                answer+=letter.lower()\r\n",
        "        answer+=' '\r\n",
        "    return answer[:-1]"
      ],
      "execution_count": 70,
      "outputs": []
    },
    {
      "cell_type": "code",
      "metadata": {
        "colab": {
          "base_uri": "https://localhost:8080/",
          "height": 35
        },
        "id": "fKinesOAa8ZE",
        "outputId": "16d5046e-a0e2-43fd-9d24-480c8359454f"
      },
      "source": [
        "solution(s)"
      ],
      "execution_count": 71,
      "outputs": [
        {
          "output_type": "execute_result",
          "data": {
            "application/vnd.google.colaboratory.intrinsic+json": {
              "type": "string"
            },
            "text/plain": [
              "'TrY HeLlO WoRlD'"
            ]
          },
          "metadata": {
            "tags": []
          },
          "execution_count": 71
        }
      ]
    },
    {
      "cell_type": "markdown",
      "metadata": {
        "id": "lAMwTI2NeSSV"
      },
      "source": [
        "### 자릿수 더하기"
      ]
    },
    {
      "cell_type": "code",
      "metadata": {
        "id": "zvq_h2rweUwx"
      },
      "source": [
        "n = 123\r\n",
        "# answer =6"
      ],
      "execution_count": 94,
      "outputs": []
    },
    {
      "cell_type": "code",
      "metadata": {
        "id": "LddSnPxQeZLV"
      },
      "source": [
        "def solution(n):\r\n",
        "    return sum(list(int(i) for i in str(n)))"
      ],
      "execution_count": 92,
      "outputs": []
    },
    {
      "cell_type": "code",
      "metadata": {
        "colab": {
          "base_uri": "https://localhost:8080/"
        },
        "id": "nYTriaBYe4eL",
        "outputId": "5ed7fa63-6c1e-44d4-d403-e552e8b84794"
      },
      "source": [
        "solution(n)"
      ],
      "execution_count": 95,
      "outputs": [
        {
          "output_type": "execute_result",
          "data": {
            "text/plain": [
              "6"
            ]
          },
          "metadata": {
            "tags": []
          },
          "execution_count": 95
        }
      ]
    },
    {
      "cell_type": "code",
      "metadata": {
        "id": "3bbbwfGFglJE"
      },
      "source": [
        "# 다른 풀이\r\n",
        "def sum_digit(number):\r\n",
        "    return sum(map(int,str(number)))\r\n",
        "    # map(f, iterable)은 각 요소가 함수 f에 의해 수행된 결과를 묶어서 리턴하는 함수\r\n",
        "    # str(number)각 인덱스에 int()함수를 수행해서 변환 후 sum()."
      ],
      "execution_count": 96,
      "outputs": []
    }
  ]
}