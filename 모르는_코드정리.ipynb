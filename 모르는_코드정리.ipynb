{
  "nbformat": 4,
  "nbformat_minor": 0,
  "metadata": {
    "colab": {
      "name": "모르는_코드정리.ipynb",
      "provenance": [],
      "collapsed_sections": [],
      "authorship_tag": "ABX9TyPmZcunMxpgcvNtKm9x0DqV",
      "include_colab_link": true
    },
    "kernelspec": {
      "name": "python3",
      "display_name": "Python 3"
    }
  },
  "cells": [
    {
      "cell_type": "markdown",
      "metadata": {
        "id": "view-in-github",
        "colab_type": "text"
      },
      "source": [
        "<a href=\"https://colab.research.google.com/github/quotation3/Algorithm/blob/master/%EB%AA%A8%EB%A5%B4%EB%8A%94_%EC%BD%94%EB%93%9C%EC%A0%95%EB%A6%AC.ipynb\" target=\"_parent\"><img src=\"https://colab.research.google.com/assets/colab-badge.svg\" alt=\"Open In Colab\"/></a>"
      ]
    },
    {
      "cell_type": "markdown",
      "metadata": {
        "id": "XqsLmBLG9UC-"
      },
      "source": [
        "### 횟수를 value로 하는 딕셔너리 변환"
      ]
    },
    {
      "cell_type": "markdown",
      "metadata": {
        "id": "quB_GqHh8_IS"
      },
      "source": [
        "리스트 두개에서 한쪽에 없는 문장 추출할때 -> 딕셔너리로 변환해서 딕셔너리끼리 마이너스 하면 그 차이가 출력됨. 거기서 key값만 출력"
      ]
    },
    {
      "cell_type": "code",
      "metadata": {
        "id": "kfPjNjTL8wzK",
        "outputId": "7d3f69c3-fc87-4d83-fe54-bc7e848898f4",
        "colab": {
          "base_uri": "https://localhost:8080/",
          "height": 35
        }
      },
      "source": [
        "import collections\n",
        "participant = ['leo', 'kiki', 'eden']\n",
        "collections.Counter(participant)"
      ],
      "execution_count": null,
      "outputs": [
        {
          "output_type": "execute_result",
          "data": {
            "text/plain": [
              "Counter({'eden': 1, 'kiki': 1, 'leo': 1})"
            ]
          },
          "metadata": {
            "tags": []
          },
          "execution_count": 1
        }
      ]
    },
    {
      "cell_type": "markdown",
      "metadata": {
        "id": "gA2zFSgh9hn1"
      },
      "source": [
        "### str에서 특정문자열로 시작하거나 끝나는 문자열을 찾기"
      ]
    },
    {
      "cell_type": "markdown",
      "metadata": {
        "id": "o2fdzbAy991B"
      },
      "source": [
        "인덱스로 시작위치랑 끝위치 설정가능\n",
        "* 리스트나 set 형태면 tuple로 변환해야함"
      ]
    },
    {
      "cell_type": "code",
      "metadata": {
        "id": "hOpfTR4_9vwO",
        "outputId": "8e9cfa3f-2c77-4b8d-c6d7-1c38975fb3ab",
        "colab": {
          "base_uri": "https://localhost:8080/",
          "height": 53
        }
      },
      "source": [
        "str = \"this is string example....wow!!!\"\n",
        "\n",
        "print (str.startswith('this'))\n",
        "print (str.startswith('is', 2, 4 ))"
      ],
      "execution_count": null,
      "outputs": [
        {
          "output_type": "stream",
          "text": [
            "True\n",
            "True\n"
          ],
          "name": "stdout"
        }
      ]
    },
    {
      "cell_type": "code",
      "metadata": {
        "id": "f0arIESw-K3F",
        "outputId": "af9f1b08-37a2-4f6c-99c3-d877390f6dfb",
        "colab": {
          "base_uri": "https://localhost:8080/",
          "height": 53
        }
      },
      "source": [
        "str = \"this is string example....wow!!!\"\n",
        "\n",
        "print (str.endswith('!!!'))\n",
        "print (str.endswith('wow', -6,-3))"
      ],
      "execution_count": null,
      "outputs": [
        {
          "output_type": "stream",
          "text": [
            "True\n",
            "True\n"
          ],
          "name": "stdout"
        }
      ]
    },
    {
      "cell_type": "markdown",
      "metadata": {
        "id": "h-yjNfiViHYp"
      },
      "source": [
        "### reduce함수. 누적 계산"
      ]
    },
    {
      "cell_type": "markdown",
      "metadata": {
        "id": "krDylGlFiVOc"
      },
      "source": [
        "1+2+3+4+5 합, 10은 초기값"
      ]
    },
    {
      "cell_type": "code",
      "metadata": {
        "id": "In7vZrGFiOY9",
        "outputId": "87b184de-7224-47e3-dfb0-6cab980a9b20",
        "colab": {
          "base_uri": "https://localhost:8080/",
          "height": 35
        }
      },
      "source": [
        "from functools import reduce\n",
        "\n",
        "reduce(lambda x, y: x+y, [1, 2, 3, 4, 5], 10)"
      ],
      "execution_count": null,
      "outputs": [
        {
          "output_type": "execute_result",
          "data": {
            "text/plain": [
              "25"
            ]
          },
          "metadata": {
            "tags": []
          },
          "execution_count": 10
        }
      ]
    },
    {
      "cell_type": "code",
      "metadata": {
        "id": "xFrcoKocilSd",
        "outputId": "912cea86-1904-4b03-e9d8-f8b9799ab95d",
        "colab": {
          "base_uri": "https://localhost:8080/",
          "height": 35
        }
      },
      "source": [
        "reduce(lambda x, y: x*y, range(1, 6))"
      ],
      "execution_count": null,
      "outputs": [
        {
          "output_type": "execute_result",
          "data": {
            "text/plain": [
              "120"
            ]
          },
          "metadata": {
            "tags": []
          },
          "execution_count": 11
        }
      ]
    },
    {
      "cell_type": "markdown",
      "metadata": {
        "id": "ML2O1_gVTFlV"
      },
      "source": [
        "### lambda로 정렬"
      ]
    },
    {
      "cell_type": "markdown",
      "metadata": {
        "id": "-CsIdCJMTR45"
      },
      "source": [
        "x[0]은 오름차순, x[1]은 내림름차순으로 정렬"
      ]
    },
    {
      "cell_type": "code",
      "metadata": {
        "id": "vPcSiTNFTPE8",
        "outputId": "98893cbb-36f2-48ff-b44f-477b79cf015b",
        "colab": {
          "base_uri": "https://localhost:8080/",
          "height": 35
        }
      },
      "source": [
        "lis = [[3,5],[3,4],[1,5]]\n",
        "\n",
        "sorted(lis, key = lambda x : (x[0], -x[1]))"
      ],
      "execution_count": null,
      "outputs": [
        {
          "output_type": "execute_result",
          "data": {
            "text/plain": [
              "[[1, 5], [3, 5], [3, 4]]"
            ]
          },
          "metadata": {
            "tags": []
          },
          "execution_count": 1
        }
      ]
    },
    {
      "cell_type": "markdown",
      "metadata": {
        "id": "zts8k0d7Vvk-"
      },
      "source": [
        "### map()"
      ]
    },
    {
      "cell_type": "markdown",
      "metadata": {
        "id": "5O07jRuzV0Li"
      },
      "source": [
        "map(함수, 리스트) : 이 함수는 함수와 리스트를 인자로 받는다.\n",
        "리스트로부터 원소를 하나씩 꺼내서 함수를 적용시킨 다음, 그 결과를 새로운 리스트에 담는다"
      ]
    },
    {
      "cell_type": "code",
      "metadata": {
        "id": "0YmW2bD4Vu00",
        "outputId": "98cc088d-a2b7-4c92-9596-5b3fbb5f4395",
        "colab": {
          "base_uri": "https://localhost:8080/"
        }
      },
      "source": [
        "list(map(lambda x: x ** 2, range(5))) "
      ],
      "execution_count": null,
      "outputs": [
        {
          "output_type": "execute_result",
          "data": {
            "text/plain": [
              "[0, 1, 4, 9, 16]"
            ]
          },
          "metadata": {
            "tags": []
          },
          "execution_count": 1
        }
      ]
    },
    {
      "cell_type": "markdown",
      "metadata": {
        "id": "EdywXlQQJvHK"
      },
      "source": [
        "### 에라토스테네스의 체 (소수 찾기)"
      ]
    },
    {
      "cell_type": "code",
      "metadata": {
        "id": "Ck1kPY0PJzKo"
      },
      "source": [
        "def eratos(n):\n",
        "    array = [True]*n\n",
        "\n",
        "    m = int(n**0.5) # 소수찾을땐 sqrt(n)까지만 검사 가능\n",
        "    for i in range(2,m+1):\n",
        "        if array[i]== True: # i가 소수인 경우\n",
        "            for j in range(i+i, n, i): # i이후 i의 배수들을 False 판정\n",
        "                array[j]=False\n",
        "        \n",
        "    return [i for i in range(2,n) if array[i]== True]"
      ],
      "execution_count": null,
      "outputs": []
    },
    {
      "cell_type": "code",
      "metadata": {
        "id": "Zq7QmClcLLjN",
        "outputId": "71cf907f-b668-4afc-d698-d66f8d1638cb",
        "colab": {
          "base_uri": "https://localhost:8080/"
        }
      },
      "source": [
        "eratos(10)"
      ],
      "execution_count": null,
      "outputs": [
        {
          "output_type": "execute_result",
          "data": {
            "text/plain": [
              "[2, 3, 5, 7]"
            ]
          },
          "metadata": {
            "tags": []
          },
          "execution_count": 2
        }
      ]
    },
    {
      "cell_type": "markdown",
      "metadata": {
        "id": "LysjB2CzASLU"
      },
      "source": [
        "### 중복순열 product"
      ]
    },
    {
      "cell_type": "markdown",
      "metadata": {
        "id": "ChkEXJ1_AWj_"
      },
      "source": [
        "중복조합은 combinations_with_replacement\n",
        "but 중복순열은 product (repeat으로 중복횟수 지정)"
      ]
    },
    {
      "cell_type": "markdown",
      "metadata": {
        "id": "qAenzoQ1OOkO"
      },
      "source": [
        "*는 리스트안에 있는 원소를 꺼내줌, *와 product결합하면 튜플에 있는거 조합 꺼내서 조합 만들어주는 듯"
      ]
    },
    {
      "cell_type": "code",
      "metadata": {
        "id": "J4RNE3O0AhT-",
        "outputId": "62c38285-7fbf-40a5-86d5-a4bab09eac3c",
        "colab": {
          "base_uri": "https://localhost:8080/"
        }
      },
      "source": [
        "from itertools import product\n",
        "lis = ['+','-']\n",
        "permute = product(lis,repeat=3)\n",
        "print(list(permute))"
      ],
      "execution_count": null,
      "outputs": [
        {
          "output_type": "stream",
          "text": [
            "[('+', '+', '+'), ('+', '+', '-'), ('+', '-', '+'), ('+', '-', '-'), ('-', '+', '+'), ('-', '+', '-'), ('-', '-', '+'), ('-', '-', '-')]\n"
          ],
          "name": "stdout"
        }
      ]
    },
    {
      "cell_type": "code",
      "metadata": {
        "id": "bICgeYxOOVYE",
        "outputId": "e1a25eaa-bb21-4eed-c6f6-244cb24b4907",
        "colab": {
          "base_uri": "https://localhost:8080/"
        }
      },
      "source": [
        "l = [(x, -x) for x in [1,1,1,1,1]]\n",
        "print(*l)"
      ],
      "execution_count": null,
      "outputs": [
        {
          "output_type": "stream",
          "text": [
            "(1, -1) (1, -1) (1, -1) (1, -1) (1, -1)\n"
          ],
          "name": "stdout"
        }
      ]
    },
    {
      "cell_type": "code",
      "metadata": {
        "id": "DVPz8WVJOWBz",
        "outputId": "104e39cb-9de7-4760-ecdb-9bdaef78170f",
        "colab": {
          "base_uri": "https://localhost:8080/"
        }
      },
      "source": [
        "list(product((*l)))"
      ],
      "execution_count": null,
      "outputs": [
        {
          "output_type": "execute_result",
          "data": {
            "text/plain": [
              "[(1, 1, 1, 1, 1),\n",
              " (1, 1, 1, 1, -1),\n",
              " (1, 1, 1, -1, 1),\n",
              " (1, 1, 1, -1, -1),\n",
              " (1, 1, -1, 1, 1),\n",
              " (1, 1, -1, 1, -1),\n",
              " (1, 1, -1, -1, 1),\n",
              " (1, 1, -1, -1, -1),\n",
              " (1, -1, 1, 1, 1),\n",
              " (1, -1, 1, 1, -1),\n",
              " (1, -1, 1, -1, 1),\n",
              " (1, -1, 1, -1, -1),\n",
              " (1, -1, -1, 1, 1),\n",
              " (1, -1, -1, 1, -1),\n",
              " (1, -1, -1, -1, 1),\n",
              " (1, -1, -1, -1, -1),\n",
              " (-1, 1, 1, 1, 1),\n",
              " (-1, 1, 1, 1, -1),\n",
              " (-1, 1, 1, -1, 1),\n",
              " (-1, 1, 1, -1, -1),\n",
              " (-1, 1, -1, 1, 1),\n",
              " (-1, 1, -1, 1, -1),\n",
              " (-1, 1, -1, -1, 1),\n",
              " (-1, 1, -1, -1, -1),\n",
              " (-1, -1, 1, 1, 1),\n",
              " (-1, -1, 1, 1, -1),\n",
              " (-1, -1, 1, -1, 1),\n",
              " (-1, -1, 1, -1, -1),\n",
              " (-1, -1, -1, 1, 1),\n",
              " (-1, -1, -1, 1, -1),\n",
              " (-1, -1, -1, -1, 1),\n",
              " (-1, -1, -1, -1, -1)]"
            ]
          },
          "metadata": {
            "tags": []
          },
          "execution_count": 5
        }
      ]
    },
    {
      "cell_type": "markdown",
      "metadata": {
        "id": "T9gSNVz4Tsdw"
      },
      "source": [
        "### 힙"
      ]
    },
    {
      "cell_type": "code",
      "metadata": {
        "id": "47ZTfHX1Tye8",
        "outputId": "1289652b-2b5e-46a5-c44b-1b40daa29578",
        "colab": {
          "base_uri": "https://localhost:8080/"
        }
      },
      "source": [
        "import heapq\n",
        "\n",
        "lis = [5,4,2,9,7]\n",
        "lis_sort = []\n",
        "for i in lis:\n",
        "    heapq.heappush(lis_sort,i) # heappush를 통해 정렬 : lis_sort리스트에 lis를 정렬\n",
        "lis_sort"
      ],
      "execution_count": null,
      "outputs": [
        {
          "output_type": "execute_result",
          "data": {
            "text/plain": [
              "[2, 5, 4, 9, 7]"
            ]
          },
          "metadata": {
            "tags": []
          },
          "execution_count": 3
        }
      ]
    },
    {
      "cell_type": "code",
      "metadata": {
        "id": "JIrDQMcNUQGc",
        "outputId": "dd8441c9-6a85-4dd4-e18b-7559e8d2046a",
        "colab": {
          "base_uri": "https://localhost:8080/"
        }
      },
      "source": [
        "lis = [5,4,2,9,7]\n",
        "heapq.heapify(lis) # lis를 보존한 상태로 정렬\n",
        "lis"
      ],
      "execution_count": null,
      "outputs": [
        {
          "output_type": "execute_result",
          "data": {
            "text/plain": [
              "[2, 4, 5, 9, 7]"
            ]
          },
          "metadata": {
            "tags": []
          },
          "execution_count": 4
        }
      ]
    },
    {
      "cell_type": "code",
      "metadata": {
        "id": "fC1IL3keUdEE",
        "outputId": "f12b28ff-b02d-4761-c3d4-08c47433b3a3",
        "colab": {
          "base_uri": "https://localhost:8080/"
        }
      },
      "source": [
        "lis = [5,4,2,9,7]\n",
        "heapq.heappop(lis) # heappop을 통해 첫번째 인덱스의 원소를 제거\n",
        "lis"
      ],
      "execution_count": null,
      "outputs": [
        {
          "output_type": "execute_result",
          "data": {
            "text/plain": [
              "[2, 4, 7, 9]"
            ]
          },
          "metadata": {
            "tags": []
          },
          "execution_count": 7
        }
      ]
    }
  ]
}