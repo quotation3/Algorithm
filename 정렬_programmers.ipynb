{
  "nbformat": 4,
  "nbformat_minor": 0,
  "metadata": {
    "colab": {
      "name": "정렬_programmers.ipynb",
      "provenance": [],
      "collapsed_sections": [
        "NHvRGbE1RdWV",
        "WHF31s_bA96H"
      ],
      "authorship_tag": "ABX9TyM6N3jm9ALUGC1e5wx/yM9l",
      "include_colab_link": true
    },
    "kernelspec": {
      "name": "python3",
      "display_name": "Python 3"
    }
  },
  "cells": [
    {
      "cell_type": "markdown",
      "metadata": {
        "id": "view-in-github",
        "colab_type": "text"
      },
      "source": [
        "<a href=\"https://colab.research.google.com/github/quotation3/Algorithm/blob/master/%EC%A0%95%EB%A0%AC_programmers.ipynb\" target=\"_parent\"><img src=\"https://colab.research.google.com/assets/colab-badge.svg\" alt=\"Open In Colab\"/></a>"
      ]
    },
    {
      "cell_type": "markdown",
      "metadata": {
        "id": "NHvRGbE1RdWV"
      },
      "source": [
        "### K번째 수"
      ]
    },
    {
      "cell_type": "markdown",
      "metadata": {
        "id": "xtthBFBtRhtJ"
      },
      "source": [
        "배열 array의 i번째 숫자부터 j번째 숫자까지 자르고 정렬했을 때, k번째에 있는 수를 구하려 합니다.\n",
        "\n",
        "예를 들어 array가 [1, 5, 2, 6, 3, 7, 4], i = 2, j = 5, k = 3이라면\n",
        "\n",
        "array의 2번째부터 5번째까지 자르면 [5, 2, 6, 3]입니다.\n",
        "1에서 나온 배열을 정렬하면 [2, 3, 5, 6]입니다.\n",
        "2에서 나온 배열의 3번째 숫자는 5입니다.\n",
        "배열 array, [i, j, k]를 원소로 가진 2차원 배열 commands가 매개변수로 주어질 때, commands의 모든 원소에 대해 앞서 설명한 연산을 적용했을 때 나온 결과를 배열에 담아 return 하도록 solution 함수를 작성해주세요."
      ]
    },
    {
      "cell_type": "code",
      "metadata": {
        "id": "22jWwK9uRXdC"
      },
      "source": [
        "array = [1, 5, 2, 6, 3, 7, 4]\n",
        "commands = \t[[2, 5, 3], [4, 4, 1], [1, 7, 3]]\n",
        "# return [5, 6, 3]"
      ],
      "execution_count": 112,
      "outputs": []
    },
    {
      "cell_type": "code",
      "metadata": {
        "id": "VjTOGMyDRuK7"
      },
      "source": [
        "def solution(array, commands):\n",
        "\n",
        "    answer = []\n",
        "    for i in commands:\n",
        "        lis = sorted(array[i[0]-1:i[1]])\n",
        "        answer.append(lis[i[2]-1])\n",
        "\n",
        "    return answer"
      ],
      "execution_count": 113,
      "outputs": []
    },
    {
      "cell_type": "code",
      "metadata": {
        "id": "DWdGZInmSfNV",
        "outputId": "1f9fe2b4-c517-4901-c6e6-d1847a39dc8a",
        "colab": {
          "base_uri": "https://localhost:8080/"
        }
      },
      "source": [
        "solution(array, commands)"
      ],
      "execution_count": 114,
      "outputs": [
        {
          "output_type": "execute_result",
          "data": {
            "text/plain": [
              "[5, 6, 3]"
            ]
          },
          "metadata": {
            "tags": []
          },
          "execution_count": 114
        }
      ]
    },
    {
      "cell_type": "code",
      "metadata": {
        "id": "HtvOskuGVoNl"
      },
      "source": [
        "def solution(array, commands):\n",
        "    return list(map(lambda x:sorted(array[x[0]-1:x[1]])[x[2]-1], commands))"
      ],
      "execution_count": 115,
      "outputs": []
    },
    {
      "cell_type": "markdown",
      "metadata": {
        "id": "WHF31s_bA96H"
      },
      "source": [
        "### 가장 큰 수"
      ]
    },
    {
      "cell_type": "markdown",
      "metadata": {
        "id": "TV8v_XOuA8bR"
      },
      "source": [
        "0 또는 양의 정수가 주어졌을 때, 정수를 이어 붙여 만들 수 있는 가장 큰 수를 알아내 주세요.\n",
        "\n",
        "예를 들어, 주어진 정수가 [6, 10, 2]라면 [6102, 6210, 1062, 1026, 2610, 2106]를 만들 수 있고, 이중 가장 큰 수는 6210입니다.\n",
        "\n",
        "0 또는 양의 정수가 담긴 배열 numbers가 매개변수로 주어질 때, 순서를 재배치하여 만들 수 있는 가장 큰 수를 문자열로 바꾸어 return 하도록 solution 함수를 작성해주세요."
      ]
    },
    {
      "cell_type": "code",
      "metadata": {
        "id": "LYK0bNuPBBt5"
      },
      "source": [
        "numbers = [6, 10, 2]\n",
        "# return '6210'"
      ],
      "execution_count": 116,
      "outputs": []
    },
    {
      "cell_type": "code",
      "metadata": {
        "id": "0vavPLmbCqf1"
      },
      "source": [
        "# permutations으로 시간 초과\n",
        "from itertools import permutations\n",
        "\n",
        "def solution(numbers):\n",
        "\n",
        "    lis = [str(i) for i in numbers]\n",
        "    permute = (list(permutations(lis,len(numbers))))\n",
        "    answer = [int(''.join(i)) for i in permute]\n",
        "\n",
        "    return str(max(answer))"
      ],
      "execution_count": 117,
      "outputs": []
    },
    {
      "cell_type": "code",
      "metadata": {
        "id": "juIuADkVC4mr",
        "outputId": "811e2b26-a625-475a-d9de-cc9592202ecb",
        "colab": {
          "base_uri": "https://localhost:8080/",
          "height": 35
        }
      },
      "source": [
        "solution(numbers)"
      ],
      "execution_count": 118,
      "outputs": [
        {
          "output_type": "execute_result",
          "data": {
            "application/vnd.google.colaboratory.intrinsic+json": {
              "type": "string"
            },
            "text/plain": [
              "'6210'"
            ]
          },
          "metadata": {
            "tags": []
          },
          "execution_count": 118
        }
      ]
    },
    {
      "cell_type": "code",
      "metadata": {
        "id": "BHuIJKnLDvDg"
      },
      "source": [
        "def solution(numbers):\n",
        "    numbers = list(map(str,numbers))\n",
        "    numbers = sorted(numbers, key=lambda x:(x[0],x[1%len(x)],x[2%len(x)],x[3%len(x)]), reverse=True)\n",
        "    answer = ''.join(numbers)\n",
        "    return answer if int(answer)!=0 else '0'"
      ],
      "execution_count": 119,
      "outputs": []
    },
    {
      "cell_type": "code",
      "metadata": {
        "id": "JPUydg-iHNb6",
        "outputId": "df49b7a7-7a3d-49a6-fd1b-469a4aa6ac9d",
        "colab": {
          "base_uri": "https://localhost:8080/",
          "height": 35
        }
      },
      "source": [
        "solution(numbers)"
      ],
      "execution_count": 120,
      "outputs": [
        {
          "output_type": "execute_result",
          "data": {
            "application/vnd.google.colaboratory.intrinsic+json": {
              "type": "string"
            },
            "text/plain": [
              "'6210'"
            ]
          },
          "metadata": {
            "tags": []
          },
          "execution_count": 120
        }
      ]
    },
    {
      "cell_type": "markdown",
      "metadata": {
        "id": "IA6t-sh-yuf5"
      },
      "source": [
        "### H-Index"
      ]
    },
    {
      "cell_type": "markdown",
      "metadata": {
        "id": "IgyqSF_8yxWj"
      },
      "source": [
        "H-Index는 과학자의 생산성과 영향력을 나타내는 지표입니다. 어느 과학자의 H-Index를 나타내는 값인 h를 구하려고 합니다. 위키백과1에 따르면, H-Index는 다음과 같이 구합니다.\n",
        "\n",
        "어떤 과학자가 발표한 논문 n편 중, h번 이상 인용된 논문이 h편 이상이고 나머지 논문이 h번 이하 인용되었다면 h의 최댓값이 이 과학자의 H-Index입니다.\n",
        "\n",
        "어떤 과학자가 발표한 논문의 인용 횟수를 담은 배열 citations가 매개변수로 주어질 때, 이 과학자의 H-Index를 return 하도록 solution 함수를 작성해주세요."
      ]
    },
    {
      "cell_type": "code",
      "metadata": {
        "id": "H-YZ2_SlyyoC"
      },
      "source": [
        "citations = [3, 0, 6, 1, 5]\n",
        "# return 3"
      ],
      "execution_count": 121,
      "outputs": []
    },
    {
      "cell_type": "markdown",
      "metadata": {
        "id": "xQrzesS60vs8"
      },
      "source": [
        "이 과학자가 발표한 논문의 수는 5편이고, 그중 3편의 논문은 3회 이상 인용되었습니다. 그리고 나머지 2편의 논문은 3회 이하 인용되었기 때문에 이 과학자의 H-Index는 3입니다.\n",
        "\n"
      ]
    },
    {
      "cell_type": "code",
      "metadata": {
        "id": "BukvCaz70xYs",
        "outputId": "7d4d1ca2-83d7-4c8b-945d-48e92c778cba",
        "colab": {
          "base_uri": "https://localhost:8080/"
        }
      },
      "source": [
        "len(citations)"
      ],
      "execution_count": 122,
      "outputs": [
        {
          "output_type": "execute_result",
          "data": {
            "text/plain": [
              "5"
            ]
          },
          "metadata": {
            "tags": []
          },
          "execution_count": 122
        }
      ]
    },
    {
      "cell_type": "code",
      "metadata": {
        "id": "ulhGeaiK03RK"
      },
      "source": [
        "def solution(citations):\n",
        "\n",
        "    for i in range(len(citations),-1,-1):\n",
        "        if sum(1 for j in citations if j>=i)>=i:\n",
        "            break\n",
        "\n",
        "    return i"
      ],
      "execution_count": 123,
      "outputs": []
    },
    {
      "cell_type": "code",
      "metadata": {
        "id": "pww1zqH641s2",
        "outputId": "2509d9e5-b0aa-4797-cb51-b254b4e0db69",
        "colab": {
          "base_uri": "https://localhost:8080/"
        }
      },
      "source": [
        "solution(citations)"
      ],
      "execution_count": 124,
      "outputs": [
        {
          "output_type": "execute_result",
          "data": {
            "text/plain": [
              "3"
            ]
          },
          "metadata": {
            "tags": []
          },
          "execution_count": 124
        }
      ]
    },
    {
      "cell_type": "markdown",
      "metadata": {
        "id": "XBnmmvNT5cjR"
      },
      "source": [
        "다른 풀이1 : 정렬한 후 [i]번째 값보다 크거나 같은 데이터가 전체길이에서 i 뺀 만큼 있을 때 i 출력 => i번째부터 끝까지의 데이터 개수가 i개일때"
      ]
    },
    {
      "cell_type": "code",
      "metadata": {
        "id": "Ub5pGP725d9m"
      },
      "source": [
        "def solution(citations):\n",
        "    citations = sorted(citations)\n",
        "    l = len(citations)\n",
        "    for i in range(l):\n",
        "        if citations[i] >= l-i:\n",
        "            return l-i\n",
        "    return 0"
      ],
      "execution_count": 125,
      "outputs": []
    },
    {
      "cell_type": "markdown",
      "metadata": {
        "id": "NZ7qaDfMIACD"
      },
      "source": [
        "다른풀이2 : enumerate(citations, start=1)함수를 써서 citations의 각 요소에 1부터 시작하는 인덱스(인덱스,요소)를 붙인다.인덱스를 붙인 상태에서 map함수를 이용해 각 요소와 인덱스를 비교해 min값을 가져오게 된다. 즉 (1,6)을 비교해 작은값 1, (2,5)를 비교해 작은값 2, (3,3)을 비교해 작은값 3, (4,1)을 비교해 작은값 1, (5,0)을 비교해 작은값 0을 가져와 (1,2,3,1,0)형태가 된다. 이중 max값을 반환하면 H-Index 중 최대값을 반환하게 된다.\n"
      ]
    },
    {
      "cell_type": "code",
      "metadata": {
        "id": "eJsRiwt7IEXI"
      },
      "source": [
        "def solution(citations):\n",
        "    citations.sort(reverse=True)\n",
        "    answer = max(map(min, enumerate(citations, start=1)))\n",
        "    return answer"
      ],
      "execution_count": 126,
      "outputs": []
    }
  ]
}