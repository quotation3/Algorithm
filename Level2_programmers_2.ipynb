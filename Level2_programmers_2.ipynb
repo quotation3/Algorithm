{
  "nbformat": 4,
  "nbformat_minor": 0,
  "metadata": {
    "colab": {
      "name": "Level2_programmers_2.ipynb",
      "provenance": [],
      "authorship_tag": "ABX9TyO0onmYFCYEW0Y2IgaWU76+",
      "include_colab_link": true
    },
    "kernelspec": {
      "name": "python3",
      "display_name": "Python 3"
    },
    "language_info": {
      "name": "python"
    }
  },
  "cells": [
    {
      "cell_type": "markdown",
      "metadata": {
        "id": "view-in-github",
        "colab_type": "text"
      },
      "source": [
        "<a href=\"https://colab.research.google.com/github/quotation3/Algorithm/blob/master/Level2_programmers_2.ipynb\" target=\"_parent\"><img src=\"https://colab.research.google.com/assets/colab-badge.svg\" alt=\"Open In Colab\"/></a>"
      ]
    },
    {
      "cell_type": "markdown",
      "metadata": {
        "id": "M02ey0i_F_2x"
      },
      "source": [
        "### 구명보트"
      ]
    },
    {
      "cell_type": "code",
      "metadata": {
        "id": "Tvi16tHFFyks"
      },
      "source": [
        "people = [70, 50, 80, 50]\n",
        "limit = 100\n",
        "# return 3"
      ],
      "execution_count": 47,
      "outputs": []
    },
    {
      "cell_type": "code",
      "metadata": {
        "id": "7WcefpsLgwBs"
      },
      "source": [
        "def solution(people, limit):\n",
        "    from collections import deque\n",
        "    people.sort()\n",
        "    people = deque(people)\n",
        "    length = len(people)\n",
        "    answer = 0\n",
        "    while length != 0:\n",
        "        limit_p = limit\n",
        "        temp = 0\n",
        "        pop = people.pop()\n",
        "        length -= 1\n",
        "        temp += pop\n",
        "        limit_p -= pop\n",
        "        if length >= 1:\n",
        "            pop_r = people[0]\n",
        "            if limit_p >= pop_r:\n",
        "                people.popleft()\n",
        "                length -=1\n",
        "        answer+=1\n",
        "    return answer"
      ],
      "execution_count": 48,
      "outputs": []
    },
    {
      "cell_type": "code",
      "metadata": {
        "id": "pHgS6msYi_eT"
      },
      "source": [
        "def solution(people, limit):\n",
        "    people.sort(reverse=True)\n",
        "    start, end = 0, len(people)-1\n",
        "    cnt = len(people)\n",
        "\n",
        "    while start<end:\n",
        "        if people[start] + people[end] <= limit:\n",
        "            end -= 1\n",
        "            cnt -= 1\n",
        "        start += 1\n",
        "    return cnt"
      ],
      "execution_count": 50,
      "outputs": []
    },
    {
      "cell_type": "code",
      "metadata": {
        "colab": {
          "base_uri": "https://localhost:8080/"
        },
        "id": "A-3n7uGWG8ja",
        "outputId": "edb4b196-12cf-4d40-8cb7-c0d8c9bf8639"
      },
      "source": [
        "solution(people, limit)"
      ],
      "execution_count": 51,
      "outputs": [
        {
          "output_type": "execute_result",
          "data": {
            "text/plain": [
              "3"
            ]
          },
          "metadata": {
            "tags": []
          },
          "execution_count": 51
        }
      ]
    }
  ]
}