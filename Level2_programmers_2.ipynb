{
  "nbformat": 4,
  "nbformat_minor": 0,
  "metadata": {
    "colab": {
      "name": "Level2_programmers_2.ipynb",
      "provenance": [],
      "authorship_tag": "ABX9TyPyZVUuZRM+LukHvjto0LSU",
      "include_colab_link": true
    },
    "kernelspec": {
      "name": "python3",
      "display_name": "Python 3"
    },
    "language_info": {
      "name": "python"
    }
  },
  "cells": [
    {
      "cell_type": "markdown",
      "metadata": {
        "id": "view-in-github",
        "colab_type": "text"
      },
      "source": [
        "<a href=\"https://colab.research.google.com/github/quotation3/Algorithm/blob/master/Level2_programmers_2.ipynb\" target=\"_parent\"><img src=\"https://colab.research.google.com/assets/colab-badge.svg\" alt=\"Open In Colab\"/></a>"
      ]
    },
    {
      "cell_type": "markdown",
      "metadata": {
        "id": "M02ey0i_F_2x"
      },
      "source": [
        "### 구명보트"
      ]
    },
    {
      "cell_type": "code",
      "metadata": {
        "id": "Tvi16tHFFyks"
      },
      "source": [
        "people = [70, 50, 80, 50]\n",
        "limit = 100\n",
        "# return 3"
      ],
      "execution_count": null,
      "outputs": []
    },
    {
      "cell_type": "code",
      "metadata": {
        "id": "7WcefpsLgwBs"
      },
      "source": [
        "def solution(people, limit):\n",
        "    from collections import deque\n",
        "    people.sort()\n",
        "    people = deque(people)\n",
        "    length = len(people)\n",
        "    answer = 0\n",
        "    while length != 0:\n",
        "        limit_p = limit\n",
        "        temp = 0\n",
        "        pop = people.pop()\n",
        "        length -= 1\n",
        "        temp += pop\n",
        "        limit_p -= pop\n",
        "        if length >= 1:\n",
        "            pop_r = people[0]\n",
        "            if limit_p >= pop_r:\n",
        "                people.popleft()\n",
        "                length -=1\n",
        "        answer+=1\n",
        "    return answer"
      ],
      "execution_count": null,
      "outputs": []
    },
    {
      "cell_type": "code",
      "metadata": {
        "id": "pHgS6msYi_eT"
      },
      "source": [
        "def solution(people, limit):\n",
        "    people.sort(reverse=True)\n",
        "    start, end = 0, len(people)-1\n",
        "    cnt = len(people)\n",
        "\n",
        "    while start<end:\n",
        "        if people[start] + people[end] <= limit:\n",
        "            end -= 1\n",
        "            cnt -= 1\n",
        "        start += 1\n",
        "    return cnt"
      ],
      "execution_count": null,
      "outputs": []
    },
    {
      "cell_type": "code",
      "metadata": {
        "colab": {
          "base_uri": "https://localhost:8080/"
        },
        "id": "A-3n7uGWG8ja",
        "outputId": "edb4b196-12cf-4d40-8cb7-c0d8c9bf8639"
      },
      "source": [
        "solution(people, limit)"
      ],
      "execution_count": null,
      "outputs": [
        {
          "output_type": "execute_result",
          "data": {
            "text/plain": [
              "3"
            ]
          },
          "metadata": {
            "tags": []
          },
          "execution_count": 51
        }
      ]
    },
    {
      "cell_type": "markdown",
      "metadata": {
        "id": "m9QWDsGHiA2N"
      },
      "source": [
        "### 순위 검색"
      ]
    },
    {
      "cell_type": "code",
      "metadata": {
        "id": "x1QgsVqaiDcb"
      },
      "source": [
        "info = [\"java backend junior pizza 150\",\"python frontend senior chicken 210\",\"python frontend senior chicken 150\",\"cpp backend senior pizza 260\",\"java backend junior chicken 80\",\"python backend senior chicken 50\"]\n",
        "query = [\"java and backend and junior and pizza 100\",\"python and frontend and senior and chicken 200\",\"cpp and - and senior and pizza 250\",\"- and backend and senior and - 150\",\"- and - and - and chicken 100\",\"- and - and - and - 150\"]\n",
        "# result = [1,1,1,1,2,4]"
      ],
      "execution_count": 25,
      "outputs": []
    },
    {
      "cell_type": "markdown",
      "metadata": {
        "id": "EAhiGF67BwXk"
      },
      "source": [
        "시간 초과"
      ]
    },
    {
      "cell_type": "code",
      "metadata": {
        "id": "Ys8DEzTppj8Q"
      },
      "source": [
        "def solution(info,query): \n",
        "    cond=[]\n",
        "    for i in range(len(query)):\n",
        "        a = query[i].replace('and','').split(' ')\n",
        "        cond.append([a[0],a[2],a[4],a[6],a[7]])\n",
        "\n",
        "    result = []\n",
        "\n",
        "    for j in range(len(query)):\n",
        "\n",
        "        new = [i.split(' ') for i in info]\n",
        "        tmp = []\n",
        "        if cond[j][0] == '-':\n",
        "            tmp = new\n",
        "        else:\n",
        "            for o in range(len(new)):\n",
        "                if new[o][0] == cond[j][0]:\n",
        "                    tmp.append(new[o])\n",
        "\n",
        "        tmp2 = []\n",
        "        if cond[j][1] == '-':\n",
        "            tmp2 = tmp\n",
        "        else:\n",
        "            for p in range(len(tmp)):\n",
        "                if tmp[p][1] == cond[j][1]:\n",
        "                    tmp2.append(tmp[p])\n",
        "\n",
        "        tmp3 = []\n",
        "        if cond[j][2] == '-':\n",
        "            tmp3=tmp2\n",
        "        else:\n",
        "            for q in range(len(tmp2)):\n",
        "                if tmp2[q][2] == cond[j][2]:\n",
        "                    tmp3.append(tmp2[q])\n",
        "                else:\n",
        "                    pass\n",
        "\n",
        "        tmp4 = []         \n",
        "        if cond[j][3] == '-':\n",
        "            tmp4 = tmp3\n",
        "        else:\n",
        "            for r in range(len(tmp3)):\n",
        "                if tmp3[r][3] == cond[j][3]:\n",
        "                    tmp4.append(tmp3[r])\n",
        "                else:\n",
        "                    pass\n",
        "\n",
        "        tmp5 = []\n",
        "        for s in range(len(tmp4)):\n",
        "            if int(tmp4[s][4]) >= int(cond[j][4]):\n",
        "                tmp5.append(tmp4[s])\n",
        "        result.append(len(tmp5))  \n",
        "\n",
        "    return result"
      ],
      "execution_count": 76,
      "outputs": []
    },
    {
      "cell_type": "code",
      "metadata": {
        "colab": {
          "base_uri": "https://localhost:8080/"
        },
        "id": "6ASnJgDmuQ9J",
        "outputId": "a5db803e-ab28-4c69-ea5a-c62663a8ff04"
      },
      "source": [
        "solution(info,query)"
      ],
      "execution_count": 77,
      "outputs": [
        {
          "output_type": "execute_result",
          "data": {
            "text/plain": [
              "[1, 1, 1, 1, 2, 4]"
            ]
          },
          "metadata": {
            "tags": []
          },
          "execution_count": 77
        }
      ]
    },
    {
      "cell_type": "code",
      "metadata": {
        "id": "tLd67HuU2cU3"
      },
      "source": [
        "from itertools import combinations\n",
        "\n",
        "\n",
        "def solution(info, query):\n",
        "    answer = []\n",
        "    # 0:개발언어, 1:직군, 2:경력, 3:소울푸드, 4:점수\n",
        "    combi_dict = dict()\n",
        "\n",
        "    for information in info:\n",
        "        temp = information.split(' ')\n",
        "        for i in range(5):\n",
        "            for combi_info in combinations(temp[:4], i):\n",
        "                sum_info = ''.join(combi_info)\n",
        "                if sum_info in combi_dict:\n",
        "                    combi_dict[sum_info].append(int(temp[-1]))\n",
        "                else:\n",
        "                    combi_dict[sum_info] = [int(temp[-1])]\n",
        "\n",
        "    for key in combi_dict.keys():\n",
        "        combi_dict[key].sort()\n",
        "\n",
        "    for commands in query:\n",
        "        combi_command = commands.split(' ')\n",
        "        target = int(combi_command[-1])\n",
        "        combi_command = combi_command[:-1]\n",
        "\n",
        "        for _ in range(3):\n",
        "            combi_command.remove('and')\n",
        "        while '-' in combi_command:\n",
        "            combi_command.remove('-')\n",
        "        combi_command = ''.join(combi_command)\n",
        "\n",
        "        if combi_command in combi_dict:\n",
        "            scores = combi_dict[combi_command]\n",
        "\n",
        "            left = 0\n",
        "            right = len(scores) - 1\n",
        "\n",
        "            while left <= right:\n",
        "                mid = (left + right) // 2\n",
        "\n",
        "                if target > scores[mid]:\n",
        "                    left = mid + 1\n",
        "                elif target <= scores[mid]:\n",
        "                    right = mid - 1\n",
        "\n",
        "            answer.append(len(scores) - left)\n",
        "        else:\n",
        "            answer.append(0)\n",
        "\n",
        "    return answer"
      ],
      "execution_count": 143,
      "outputs": []
    },
    {
      "cell_type": "code",
      "metadata": {
        "colab": {
          "base_uri": "https://localhost:8080/"
        },
        "id": "LeR3sibE2_pJ",
        "outputId": "443a87af-6d7c-4a8d-e1f8-d1375192f0ce"
      },
      "source": [
        "solution(info,query)"
      ],
      "execution_count": 144,
      "outputs": [
        {
          "output_type": "execute_result",
          "data": {
            "text/plain": [
              "[1, 1, 1, 1, 2, 4]"
            ]
          },
          "metadata": {
            "tags": []
          },
          "execution_count": 144
        }
      ]
    },
    {
      "cell_type": "code",
      "metadata": {
        "colab": {
          "base_uri": "https://localhost:8080/"
        },
        "id": "MLSE4I8X4azh",
        "outputId": "e3fdffc0-8182-49d4-c106-c75b888775b5"
      },
      "source": [
        "from itertools import combinations\n",
        "combi_dict = dict()\n",
        "\n",
        "for information in info:\n",
        "    temp = information.split(' ')\n",
        "    for i in range(5):\n",
        "        for combi_info in combinations(temp[:4], i):\n",
        "            sum_info = ''.join(combi_info)\n",
        "            if sum_info in combi_dict:\n",
        "                combi_dict[sum_info].append(int(temp[-1]))\n",
        "            else:\n",
        "                combi_dict[sum_info] = [int(temp[-1])]\n",
        "\n",
        "combi_dict"
      ],
      "execution_count": 145,
      "outputs": [
        {
          "output_type": "execute_result",
          "data": {
            "text/plain": [
              "{'': [150, 210, 150, 260, 80, 50],\n",
              " 'backend': [150, 260, 80, 50],\n",
              " 'backendchicken': [80, 50],\n",
              " 'backendjunior': [150, 80],\n",
              " 'backendjuniorchicken': [80],\n",
              " 'backendjuniorpizza': [150],\n",
              " 'backendpizza': [150, 260],\n",
              " 'backendsenior': [260, 50],\n",
              " 'backendseniorchicken': [50],\n",
              " 'backendseniorpizza': [260],\n",
              " 'chicken': [210, 150, 80, 50],\n",
              " 'cpp': [260],\n",
              " 'cppbackend': [260],\n",
              " 'cppbackendpizza': [260],\n",
              " 'cppbackendsenior': [260],\n",
              " 'cppbackendseniorpizza': [260],\n",
              " 'cpppizza': [260],\n",
              " 'cppsenior': [260],\n",
              " 'cppseniorpizza': [260],\n",
              " 'frontend': [210, 150],\n",
              " 'frontendchicken': [210, 150],\n",
              " 'frontendsenior': [210, 150],\n",
              " 'frontendseniorchicken': [210, 150],\n",
              " 'java': [150, 80],\n",
              " 'javabackend': [150, 80],\n",
              " 'javabackendchicken': [80],\n",
              " 'javabackendjunior': [150, 80],\n",
              " 'javabackendjuniorchicken': [80],\n",
              " 'javabackendjuniorpizza': [150],\n",
              " 'javabackendpizza': [150],\n",
              " 'javachicken': [80],\n",
              " 'javajunior': [150, 80],\n",
              " 'javajuniorchicken': [80],\n",
              " 'javajuniorpizza': [150],\n",
              " 'javapizza': [150],\n",
              " 'junior': [150, 80],\n",
              " 'juniorchicken': [80],\n",
              " 'juniorpizza': [150],\n",
              " 'pizza': [150, 260],\n",
              " 'python': [210, 150, 50],\n",
              " 'pythonbackend': [50],\n",
              " 'pythonbackendchicken': [50],\n",
              " 'pythonbackendsenior': [50],\n",
              " 'pythonbackendseniorchicken': [50],\n",
              " 'pythonchicken': [210, 150, 50],\n",
              " 'pythonfrontend': [210, 150],\n",
              " 'pythonfrontendchicken': [210, 150],\n",
              " 'pythonfrontendsenior': [210, 150],\n",
              " 'pythonfrontendseniorchicken': [210, 150],\n",
              " 'pythonsenior': [210, 150, 50],\n",
              " 'pythonseniorchicken': [210, 150, 50],\n",
              " 'senior': [210, 150, 260, 50],\n",
              " 'seniorchicken': [210, 150, 50],\n",
              " 'seniorpizza': [260]}"
            ]
          },
          "metadata": {
            "tags": []
          },
          "execution_count": 145
        }
      ]
    },
    {
      "cell_type": "code",
      "metadata": {
        "colab": {
          "base_uri": "https://localhost:8080/"
        },
        "id": "Sgw30y3I-Ksd",
        "outputId": "1b89df32-a377-46b9-c82d-086c03983305"
      },
      "source": [
        "for key in combi_dict.keys():\n",
        "        combi_dict[key].sort()\n",
        "combi_dict"
      ],
      "execution_count": 146,
      "outputs": [
        {
          "output_type": "execute_result",
          "data": {
            "text/plain": [
              "{'': [50, 80, 150, 150, 210, 260],\n",
              " 'backend': [50, 80, 150, 260],\n",
              " 'backendchicken': [50, 80],\n",
              " 'backendjunior': [80, 150],\n",
              " 'backendjuniorchicken': [80],\n",
              " 'backendjuniorpizza': [150],\n",
              " 'backendpizza': [150, 260],\n",
              " 'backendsenior': [50, 260],\n",
              " 'backendseniorchicken': [50],\n",
              " 'backendseniorpizza': [260],\n",
              " 'chicken': [50, 80, 150, 210],\n",
              " 'cpp': [260],\n",
              " 'cppbackend': [260],\n",
              " 'cppbackendpizza': [260],\n",
              " 'cppbackendsenior': [260],\n",
              " 'cppbackendseniorpizza': [260],\n",
              " 'cpppizza': [260],\n",
              " 'cppsenior': [260],\n",
              " 'cppseniorpizza': [260],\n",
              " 'frontend': [150, 210],\n",
              " 'frontendchicken': [150, 210],\n",
              " 'frontendsenior': [150, 210],\n",
              " 'frontendseniorchicken': [150, 210],\n",
              " 'java': [80, 150],\n",
              " 'javabackend': [80, 150],\n",
              " 'javabackendchicken': [80],\n",
              " 'javabackendjunior': [80, 150],\n",
              " 'javabackendjuniorchicken': [80],\n",
              " 'javabackendjuniorpizza': [150],\n",
              " 'javabackendpizza': [150],\n",
              " 'javachicken': [80],\n",
              " 'javajunior': [80, 150],\n",
              " 'javajuniorchicken': [80],\n",
              " 'javajuniorpizza': [150],\n",
              " 'javapizza': [150],\n",
              " 'junior': [80, 150],\n",
              " 'juniorchicken': [80],\n",
              " 'juniorpizza': [150],\n",
              " 'pizza': [150, 260],\n",
              " 'python': [50, 150, 210],\n",
              " 'pythonbackend': [50],\n",
              " 'pythonbackendchicken': [50],\n",
              " 'pythonbackendsenior': [50],\n",
              " 'pythonbackendseniorchicken': [50],\n",
              " 'pythonchicken': [50, 150, 210],\n",
              " 'pythonfrontend': [150, 210],\n",
              " 'pythonfrontendchicken': [150, 210],\n",
              " 'pythonfrontendsenior': [150, 210],\n",
              " 'pythonfrontendseniorchicken': [150, 210],\n",
              " 'pythonsenior': [50, 150, 210],\n",
              " 'pythonseniorchicken': [50, 150, 210],\n",
              " 'senior': [50, 150, 210, 260],\n",
              " 'seniorchicken': [50, 150, 210],\n",
              " 'seniorpizza': [260]}"
            ]
          },
          "metadata": {
            "tags": []
          },
          "execution_count": 146
        }
      ]
    },
    {
      "cell_type": "code",
      "metadata": {
        "colab": {
          "base_uri": "https://localhost:8080/"
        },
        "id": "Bf6CRgwf-LJs",
        "outputId": "5e1a0838-67c7-492b-ec85-2957da06d696"
      },
      "source": [
        "answer = []\n",
        "for commands in query:\n",
        "        combi_command = commands.split(' ')\n",
        "        target = int(combi_command[-1])\n",
        "        combi_command = combi_command[:-1]\n",
        "\n",
        "        for _ in range(3):\n",
        "            combi_command.remove('and')\n",
        "        while '-' in combi_command:\n",
        "            combi_command.remove('-')\n",
        "        combi_command = ''.join(combi_command)\n",
        "        print(combi_command)\n",
        "        if combi_command in combi_dict:\n",
        "            scores = combi_dict[combi_command]\n",
        "            print(scores)\n",
        "\n",
        "            left = 0\n",
        "            right = len(scores) - 1\n",
        "\n",
        "            while left <= right:\n",
        "                mid = (left + right) // 2\n",
        "\n",
        "                if target > scores[mid]:\n",
        "                    left = mid + 1\n",
        "                elif target <= scores[mid]:\n",
        "                    right = mid - 1\n",
        "            answer.append(len(scores) - left)\n",
        "        else:\n",
        "            answer.append(0)\n",
        "answer"
      ],
      "execution_count": 148,
      "outputs": [
        {
          "output_type": "stream",
          "text": [
            "javabackendjuniorpizza\n",
            "[150]\n",
            "pythonfrontendseniorchicken\n",
            "[150, 210]\n",
            "cppseniorpizza\n",
            "[260]\n",
            "backendsenior\n",
            "[50, 260]\n",
            "chicken\n",
            "[50, 80, 150, 210]\n",
            "\n",
            "[50, 80, 150, 150, 210, 260]\n"
          ],
          "name": "stdout"
        },
        {
          "output_type": "execute_result",
          "data": {
            "text/plain": [
              "[1, 1, 1, 1, 2, 4]"
            ]
          },
          "metadata": {
            "tags": []
          },
          "execution_count": 148
        }
      ]
    }
  ]
}