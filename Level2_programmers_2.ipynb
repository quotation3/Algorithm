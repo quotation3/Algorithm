{
  "nbformat": 4,
  "nbformat_minor": 0,
  "metadata": {
    "colab": {
      "name": "Level2_programmers_2.ipynb",
      "provenance": [],
      "authorship_tag": "ABX9TyNNN7oKeM2h/d5vpttmM4uk",
      "include_colab_link": true
    },
    "kernelspec": {
      "name": "python3",
      "display_name": "Python 3"
    }
  },
  "cells": [
    {
      "cell_type": "markdown",
      "metadata": {
        "id": "view-in-github",
        "colab_type": "text"
      },
      "source": [
        "<a href=\"https://colab.research.google.com/github/quotation3/Algorithm/blob/master/Level2_programmers_2.ipynb\" target=\"_parent\"><img src=\"https://colab.research.google.com/assets/colab-badge.svg\" alt=\"Open In Colab\"/></a>"
      ]
    },
    {
      "cell_type": "markdown",
      "metadata": {
        "id": "IEljCDzkjvo_"
      },
      "source": [
        "### 메뉴 리뉴얼"
      ]
    },
    {
      "cell_type": "code",
      "metadata": {
        "id": "vnsX8IZBivzm"
      },
      "source": [
        "orders = [\"ABCFG\", \"AC\", \"CDE\", \"ACDE\", \"BCFG\", \"ACDEH\"]\r\n",
        "course = [2,3,4]\r\n",
        "# result [\"AC\", \"ACDE\", \"BCFG\", \"CDE\"]"
      ],
      "execution_count": 40,
      "outputs": []
    },
    {
      "cell_type": "code",
      "metadata": {
        "id": "uNsij6fDj548"
      },
      "source": [
        "from itertools import combinations\r\n",
        "from collections import Counter\r\n",
        "\r\n",
        "def solution(orders, course):\r\n",
        "\r\n",
        "    answer = []\r\n",
        "\r\n",
        "    for k in course: # course의 원소만큼 조합을 만들자\r\n",
        "        candidates = []\r\n",
        "        for menu_li in orders:\r\n",
        "            for li in combinations(menu_li, k): # k개로 만들 수 있는 조합\r\n",
        "                res = ''.join(sorted(li))\r\n",
        "                candidates.append(res)\r\n",
        "        sorted_candidates = Counter(candidates).most_common() # 빈도가 높은 순서대로\r\n",
        "        answer += [menu for menu, cnt in sorted_candidates if cnt > 1 and cnt == sorted_candidates[0][1]] # 1이상 중에서 가장 빈도가 높은 거를 answer에 추가\r\n",
        "    return sorted(answer)"
      ],
      "execution_count": 42,
      "outputs": []
    },
    {
      "cell_type": "code",
      "metadata": {
        "colab": {
          "base_uri": "https://localhost:8080/"
        },
        "id": "Horm2iKytWPB",
        "outputId": "c678ca26-d265-42ed-c1b7-266b4513adab"
      },
      "source": [
        "solution(orders, course)"
      ],
      "execution_count": 43,
      "outputs": [
        {
          "output_type": "execute_result",
          "data": {
            "text/plain": [
              "['AC', 'ACDE', 'BCFG', 'CDE']"
            ]
          },
          "metadata": {
            "tags": []
          },
          "execution_count": 43
        }
      ]
    }
  ]
}