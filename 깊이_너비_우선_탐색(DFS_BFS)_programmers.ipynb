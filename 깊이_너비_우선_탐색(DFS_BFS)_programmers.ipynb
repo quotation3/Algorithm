{
  "nbformat": 4,
  "nbformat_minor": 0,
  "metadata": {
    "colab": {
      "name": "깊이/너비 우선 탐색(DFS/BFS)_programmers.ipynb",
      "provenance": [],
      "collapsed_sections": [],
      "authorship_tag": "ABX9TyMy10hMlNfnubZw/ERsHGiu",
      "include_colab_link": true
    },
    "kernelspec": {
      "name": "python3",
      "display_name": "Python 3"
    }
  },
  "cells": [
    {
      "cell_type": "markdown",
      "metadata": {
        "id": "view-in-github",
        "colab_type": "text"
      },
      "source": [
        "<a href=\"https://colab.research.google.com/github/quotation3/Algorithm/blob/master/%EA%B9%8A%EC%9D%B4_%EB%84%88%EB%B9%84_%EC%9A%B0%EC%84%A0_%ED%83%90%EC%83%89(DFS_BFS)_programmers.ipynb\" target=\"_parent\"><img src=\"https://colab.research.google.com/assets/colab-badge.svg\" alt=\"Open In Colab\"/></a>"
      ]
    },
    {
      "cell_type": "markdown",
      "metadata": {
        "id": "aWjSO9ic7GGd"
      },
      "source": [
        "### 타겟 넘버"
      ]
    },
    {
      "cell_type": "markdown",
      "metadata": {
        "id": "H2D_oUlq7Jgv"
      },
      "source": [
        "n개의 음이 아닌 정수가 있습니다. 이 수를 적절히 더하거나 빼서 타겟 넘버를 만들려고 합니다. 예를 들어 [1, 1, 1, 1, 1]로 숫자 3을 만들려면 다음 다섯 방법을 쓸 수 있습니다.\n",
        "-1+1+1+1+1 = 3\n",
        "+1-1+1+1+1 = 3\n",
        "+1+1-1+1+1 = 3\n",
        "+1+1+1-1+1 = 3\n",
        "+1+1+1+1-1 = 3\n",
        "사용할 수 있는 숫자가 담긴 배열 numbers, 타겟 넘버 target이 매개변수로 주어질 때 숫자를 적절히 더하고 빼서 타겟 넘버를 만드는 방법의 수를 return 하도록 solution 함수를 작성해주세요."
      ]
    },
    {
      "cell_type": "code",
      "metadata": {
        "id": "2hv0iF7y6_pA"
      },
      "source": [
        "numbers = [1,1,1,1,1]\n",
        "target = 3\n",
        "# return 5"
      ],
      "execution_count": 1,
      "outputs": []
    },
    {
      "cell_type": "code",
      "metadata": {
        "id": "aWV0Zp_e7YSL",
        "outputId": "82486a17-d10f-46f7-9d48-06e0b3f96abb",
        "colab": {
          "base_uri": "https://localhost:8080/"
        }
      },
      "source": [
        "from itertools import product\n",
        "lis = ['+','-']\n",
        "permute = product(lis,repeat=len(numbers))\n",
        "cal = list(permute)\n",
        "cal"
      ],
      "execution_count": 2,
      "outputs": [
        {
          "output_type": "execute_result",
          "data": {
            "text/plain": [
              "[('+', '+', '+', '+', '+'),\n",
              " ('+', '+', '+', '+', '-'),\n",
              " ('+', '+', '+', '-', '+'),\n",
              " ('+', '+', '+', '-', '-'),\n",
              " ('+', '+', '-', '+', '+'),\n",
              " ('+', '+', '-', '+', '-'),\n",
              " ('+', '+', '-', '-', '+'),\n",
              " ('+', '+', '-', '-', '-'),\n",
              " ('+', '-', '+', '+', '+'),\n",
              " ('+', '-', '+', '+', '-'),\n",
              " ('+', '-', '+', '-', '+'),\n",
              " ('+', '-', '+', '-', '-'),\n",
              " ('+', '-', '-', '+', '+'),\n",
              " ('+', '-', '-', '+', '-'),\n",
              " ('+', '-', '-', '-', '+'),\n",
              " ('+', '-', '-', '-', '-'),\n",
              " ('-', '+', '+', '+', '+'),\n",
              " ('-', '+', '+', '+', '-'),\n",
              " ('-', '+', '+', '-', '+'),\n",
              " ('-', '+', '+', '-', '-'),\n",
              " ('-', '+', '-', '+', '+'),\n",
              " ('-', '+', '-', '+', '-'),\n",
              " ('-', '+', '-', '-', '+'),\n",
              " ('-', '+', '-', '-', '-'),\n",
              " ('-', '-', '+', '+', '+'),\n",
              " ('-', '-', '+', '+', '-'),\n",
              " ('-', '-', '+', '-', '+'),\n",
              " ('-', '-', '+', '-', '-'),\n",
              " ('-', '-', '-', '+', '+'),\n",
              " ('-', '-', '-', '+', '-'),\n",
              " ('-', '-', '-', '-', '+'),\n",
              " ('-', '-', '-', '-', '-')]"
            ]
          },
          "metadata": {
            "tags": []
          },
          "execution_count": 2
        }
      ]
    },
    {
      "cell_type": "code",
      "metadata": {
        "id": "y_8Npa_P9CgW",
        "outputId": "aade3878-5391-4eee-e951-4e32471fae47",
        "colab": {
          "base_uri": "https://localhost:8080/"
        }
      },
      "source": [
        "result = []\n",
        "for i in range(len(cal)):\n",
        "    tmp = []\n",
        "    for j in range(len(numbers)):\n",
        "        tmp.extend(cal[i][j])\n",
        "        tmp.extend(str(numbers[j]))\n",
        "    result.append(tmp)\n",
        "result"
      ],
      "execution_count": 3,
      "outputs": [
        {
          "output_type": "execute_result",
          "data": {
            "text/plain": [
              "[['+', '1', '+', '1', '+', '1', '+', '1', '+', '1'],\n",
              " ['+', '1', '+', '1', '+', '1', '+', '1', '-', '1'],\n",
              " ['+', '1', '+', '1', '+', '1', '-', '1', '+', '1'],\n",
              " ['+', '1', '+', '1', '+', '1', '-', '1', '-', '1'],\n",
              " ['+', '1', '+', '1', '-', '1', '+', '1', '+', '1'],\n",
              " ['+', '1', '+', '1', '-', '1', '+', '1', '-', '1'],\n",
              " ['+', '1', '+', '1', '-', '1', '-', '1', '+', '1'],\n",
              " ['+', '1', '+', '1', '-', '1', '-', '1', '-', '1'],\n",
              " ['+', '1', '-', '1', '+', '1', '+', '1', '+', '1'],\n",
              " ['+', '1', '-', '1', '+', '1', '+', '1', '-', '1'],\n",
              " ['+', '1', '-', '1', '+', '1', '-', '1', '+', '1'],\n",
              " ['+', '1', '-', '1', '+', '1', '-', '1', '-', '1'],\n",
              " ['+', '1', '-', '1', '-', '1', '+', '1', '+', '1'],\n",
              " ['+', '1', '-', '1', '-', '1', '+', '1', '-', '1'],\n",
              " ['+', '1', '-', '1', '-', '1', '-', '1', '+', '1'],\n",
              " ['+', '1', '-', '1', '-', '1', '-', '1', '-', '1'],\n",
              " ['-', '1', '+', '1', '+', '1', '+', '1', '+', '1'],\n",
              " ['-', '1', '+', '1', '+', '1', '+', '1', '-', '1'],\n",
              " ['-', '1', '+', '1', '+', '1', '-', '1', '+', '1'],\n",
              " ['-', '1', '+', '1', '+', '1', '-', '1', '-', '1'],\n",
              " ['-', '1', '+', '1', '-', '1', '+', '1', '+', '1'],\n",
              " ['-', '1', '+', '1', '-', '1', '+', '1', '-', '1'],\n",
              " ['-', '1', '+', '1', '-', '1', '-', '1', '+', '1'],\n",
              " ['-', '1', '+', '1', '-', '1', '-', '1', '-', '1'],\n",
              " ['-', '1', '-', '1', '+', '1', '+', '1', '+', '1'],\n",
              " ['-', '1', '-', '1', '+', '1', '+', '1', '-', '1'],\n",
              " ['-', '1', '-', '1', '+', '1', '-', '1', '+', '1'],\n",
              " ['-', '1', '-', '1', '+', '1', '-', '1', '-', '1'],\n",
              " ['-', '1', '-', '1', '-', '1', '+', '1', '+', '1'],\n",
              " ['-', '1', '-', '1', '-', '1', '+', '1', '-', '1'],\n",
              " ['-', '1', '-', '1', '-', '1', '-', '1', '+', '1'],\n",
              " ['-', '1', '-', '1', '-', '1', '-', '1', '-', '1']]"
            ]
          },
          "metadata": {
            "tags": []
          },
          "execution_count": 3
        }
      ]
    },
    {
      "cell_type": "code",
      "metadata": {
        "id": "E5w-b8kVBDch",
        "outputId": "8d215d9f-b267-45ff-bed1-6360e9b72115",
        "colab": {
          "base_uri": "https://localhost:8080/"
        }
      },
      "source": [
        "answer = 0\n",
        "for k in result:\n",
        "    if eval(''.join(k)) == target:\n",
        "        answer+=1\n",
        "answer"
      ],
      "execution_count": 4,
      "outputs": [
        {
          "output_type": "execute_result",
          "data": {
            "text/plain": [
              "5"
            ]
          },
          "metadata": {
            "tags": []
          },
          "execution_count": 4
        }
      ]
    },
    {
      "cell_type": "code",
      "metadata": {
        "id": "z0L9UPzFB6XW"
      },
      "source": [
        "from itertools import product\n",
        "\n",
        "def solution(numbers, target):\n",
        "    \n",
        "    lis = ['+','-']\n",
        "    permute = product(lis,repeat=len(numbers))\n",
        "    cal = list(permute)\n",
        "    result = []\n",
        "    for i in range(len(cal)):\n",
        "        tmp = []\n",
        "        for j in range(len(numbers)):\n",
        "            tmp.extend(cal[i][j])\n",
        "            tmp.extend(str(numbers[j]))\n",
        "        result.append(tmp)\n",
        "    answer = 0\n",
        "    for k in result:\n",
        "        if eval(''.join(k)) == target:\n",
        "            answer+=1\n",
        "    return answer"
      ],
      "execution_count": 5,
      "outputs": []
    },
    {
      "cell_type": "code",
      "metadata": {
        "id": "qbhkPNRUCjQG",
        "outputId": "172fbb49-4318-4ad9-bf5e-c667806f0098",
        "colab": {
          "base_uri": "https://localhost:8080/"
        }
      },
      "source": [
        "solution(numbers, target)"
      ],
      "execution_count": 6,
      "outputs": [
        {
          "output_type": "execute_result",
          "data": {
            "text/plain": [
              "5"
            ]
          },
          "metadata": {
            "tags": []
          },
          "execution_count": 6
        }
      ]
    },
    {
      "cell_type": "markdown",
      "metadata": {
        "id": "spxs7QWKKJe8"
      },
      "source": [
        "시간초과로 수정. eval 안쓰고 바로 문자열 더해서 정수화한다음 누적으로 더함"
      ]
    },
    {
      "cell_type": "code",
      "metadata": {
        "id": "x-_bPWqyIw9G"
      },
      "source": [
        "from itertools import product\n",
        "\n",
        "def solution(numbers, target):\n",
        "    answer=0\n",
        "    for case in product(['+','-'], repeat=len(numbers)):\n",
        "        r = 0\n",
        "        for z in zip(case,map(str,numbers)):\n",
        "            r += int(z[0]+z[1])\n",
        "        if r==target:\n",
        "            answer += 1\n",
        "    return answer"
      ],
      "execution_count": 7,
      "outputs": []
    },
    {
      "cell_type": "markdown",
      "metadata": {
        "id": "Qf4cbvfJMBK_"
      },
      "source": [
        "다른 답안 : l 변수에 플러스 마이너스 두가지 경우를 넣고 product를 통해 경우의 수를 나열한 후 sum\n",
        "(*는 리스트안에 있는 원소를 꺼내줌, *와 product결합하면 튜플에 있는거 조합 꺼내서 조합 만들어주는 듯)"
      ]
    },
    {
      "cell_type": "code",
      "metadata": {
        "id": "6D1VmGeBLyBH"
      },
      "source": [
        "from itertools import product\n",
        "def solution(numbers, target):\n",
        "    l = [(x, -x) for x in numbers]\n",
        "    s = list(map(sum, product(*l)))\n",
        "    return s.count(target)"
      ],
      "execution_count": 8,
      "outputs": []
    },
    {
      "cell_type": "code",
      "metadata": {
        "id": "UN5vyZP1M1cD",
        "outputId": "b2f8d95f-7186-4922-c905-1e03ce0acf1b",
        "colab": {
          "base_uri": "https://localhost:8080/"
        }
      },
      "source": [
        "l = [(x, -x) for x in numbers]\n",
        "print(*l)"
      ],
      "execution_count": 9,
      "outputs": [
        {
          "output_type": "stream",
          "text": [
            "(1, -1) (1, -1) (1, -1) (1, -1) (1, -1)\n"
          ],
          "name": "stdout"
        }
      ]
    },
    {
      "cell_type": "code",
      "metadata": {
        "id": "CgCsakA6L57r",
        "outputId": "e376925c-87bf-4f3f-b696-1a626e1bb9ca",
        "colab": {
          "base_uri": "https://localhost:8080/"
        }
      },
      "source": [
        "list(product((*l)))"
      ],
      "execution_count": 10,
      "outputs": [
        {
          "output_type": "execute_result",
          "data": {
            "text/plain": [
              "[(1, 1, 1, 1, 1),\n",
              " (1, 1, 1, 1, -1),\n",
              " (1, 1, 1, -1, 1),\n",
              " (1, 1, 1, -1, -1),\n",
              " (1, 1, -1, 1, 1),\n",
              " (1, 1, -1, 1, -1),\n",
              " (1, 1, -1, -1, 1),\n",
              " (1, 1, -1, -1, -1),\n",
              " (1, -1, 1, 1, 1),\n",
              " (1, -1, 1, 1, -1),\n",
              " (1, -1, 1, -1, 1),\n",
              " (1, -1, 1, -1, -1),\n",
              " (1, -1, -1, 1, 1),\n",
              " (1, -1, -1, 1, -1),\n",
              " (1, -1, -1, -1, 1),\n",
              " (1, -1, -1, -1, -1),\n",
              " (-1, 1, 1, 1, 1),\n",
              " (-1, 1, 1, 1, -1),\n",
              " (-1, 1, 1, -1, 1),\n",
              " (-1, 1, 1, -1, -1),\n",
              " (-1, 1, -1, 1, 1),\n",
              " (-1, 1, -1, 1, -1),\n",
              " (-1, 1, -1, -1, 1),\n",
              " (-1, 1, -1, -1, -1),\n",
              " (-1, -1, 1, 1, 1),\n",
              " (-1, -1, 1, 1, -1),\n",
              " (-1, -1, 1, -1, 1),\n",
              " (-1, -1, 1, -1, -1),\n",
              " (-1, -1, -1, 1, 1),\n",
              " (-1, -1, -1, 1, -1),\n",
              " (-1, -1, -1, -1, 1),\n",
              " (-1, -1, -1, -1, -1)]"
            ]
          },
          "metadata": {
            "tags": []
          },
          "execution_count": 10
        }
      ]
    },
    {
      "cell_type": "markdown",
      "metadata": {
        "id": "3xI_2IidUrUp"
      },
      "source": [
        "### 네트워크"
      ]
    },
    {
      "cell_type": "markdown",
      "metadata": {
        "id": "L9DURsalUs-T"
      },
      "source": [
        "네트워크란 컴퓨터 상호 간에 정보를 교환할 수 있도록 연결된 형태를 의미합니다. 예를 들어, 컴퓨터 A와 컴퓨터 B가 직접적으로 연결되어있고, 컴퓨터 B와 컴퓨터 C가 직접적으로 연결되어 있을 때 컴퓨터 A와 컴퓨터 C도 간접적으로 연결되어 정보를 교환할 수 있습니다. 따라서 컴퓨터 A, B, C는 모두 같은 네트워크 상에 있다고 할 수 있습니다.\n",
        "\n",
        "컴퓨터의 개수 n, 연결에 대한 정보가 담긴 2차원 배열 computers가 매개변수로 주어질 때, 네트워크의 개수를 return 하도록 solution 함수를 작성하시오"
      ]
    },
    {
      "cell_type": "code",
      "metadata": {
        "id": "sqFzphRsUxtt"
      },
      "source": [
        "n = 3\n",
        "computers = [[1, 1, 0], [1, 1, 0], [0, 0, 1]]\n",
        "# return 2"
      ],
      "execution_count": 15,
      "outputs": []
    },
    {
      "cell_type": "code",
      "metadata": {
        "id": "H-dkcmJIei8d"
      },
      "source": [
        "def solution(n, computers):\n",
        "    answer = 0\n",
        "    visited = [0 for i in range(n)]\n",
        "    def dfs(computers, visited, start):\n",
        "        stack = [start]\n",
        "        while stack:\n",
        "            j = stack.pop()\n",
        "            if visited[j] == 0:\n",
        "                visited[j] = 1\n",
        "            for i in range(0, len(computers)):\n",
        "                if computers[j][i] ==1 and visited[i] == 0:\n",
        "                    stack.append(i)\n",
        "    i=0\n",
        "    while 0 in visited:\n",
        "        if visited[i] ==0:\n",
        "            dfs(computers, visited, i)\n",
        "            answer +=1\n",
        "        i+=1\n",
        "    return answer"
      ],
      "execution_count": 23,
      "outputs": []
    },
    {
      "cell_type": "code",
      "metadata": {
        "id": "Amu7oMIy2Tll",
        "outputId": "353233c3-d420-4f89-ccf6-df0f4f325075",
        "colab": {
          "base_uri": "https://localhost:8080/"
        }
      },
      "source": [
        "solution(n, computers)"
      ],
      "execution_count": 24,
      "outputs": [
        {
          "output_type": "execute_result",
          "data": {
            "text/plain": [
              "2"
            ]
          },
          "metadata": {
            "tags": []
          },
          "execution_count": 24
        }
      ]
    }
  ]
}