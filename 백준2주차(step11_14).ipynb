{
  "nbformat": 4,
  "nbformat_minor": 0,
  "metadata": {
    "colab": {
      "name": "백준2주차(step11-14).ipynb",
      "provenance": [],
      "collapsed_sections": [],
      "authorship_tag": "ABX9TyOJlLeWD6d6jm4/tEPmeqJX",
      "include_colab_link": true
    },
    "kernelspec": {
      "name": "python3",
      "display_name": "Python 3"
    }
  },
  "cells": [
    {
      "cell_type": "markdown",
      "metadata": {
        "id": "view-in-github",
        "colab_type": "text"
      },
      "source": [
        "<a href=\"https://colab.research.google.com/github/quotation3/Algorithm/blob/master/%EB%B0%B1%EC%A4%802%EC%A3%BC%EC%B0%A8(step11_14).ipynb\" target=\"_parent\"><img src=\"https://colab.research.google.com/assets/colab-badge.svg\" alt=\"Open In Colab\"/></a>"
      ]
    },
    {
      "cell_type": "markdown",
      "metadata": {
        "id": "XaFt2rbkJiad"
      },
      "source": [
        "재귀 - 팩토리얼"
      ]
    },
    {
      "cell_type": "code",
      "metadata": {
        "id": "ZPT33e-tBWWg",
        "colab": {
          "base_uri": "https://localhost:8080/"
        },
        "outputId": "149ca719-6b51-44e7-9754-64e1fed05fd6"
      },
      "source": [
        "n=int(input())\n",
        "def factorial(n):\n",
        "    if n <1 :\n",
        "        return 1\n",
        "    else:\n",
        "        return n*factorial(n-1)\n",
        "print(factorial(n))"
      ],
      "execution_count": 10,
      "outputs": [
        {
          "output_type": "stream",
          "text": [
            "5\n",
            "120\n"
          ],
          "name": "stdout"
        }
      ]
    },
    {
      "cell_type": "markdown",
      "metadata": {
        "id": "DqzOQoKYJl-7"
      },
      "source": [
        "재귀 - 피보나치"
      ]
    },
    {
      "cell_type": "code",
      "metadata": {
        "id": "zt7iHTsQCRBR",
        "colab": {
          "base_uri": "https://localhost:8080/"
        },
        "outputId": "659a6103-3c3a-4556-9f4f-26212de3d4af"
      },
      "source": [
        "n = int(input())\n",
        "def fibo(n):\n",
        "    if n==0:\n",
        "        return 0\n",
        "    elif n==1:\n",
        "        return 1\n",
        "    else:\n",
        "        return fibo(n-1)+fibo(n-2)\n",
        "print(fibo(n))"
      ],
      "execution_count": 11,
      "outputs": [
        {
          "output_type": "stream",
          "text": [
            "15\n",
            "610\n"
          ],
          "name": "stdout"
        }
      ]
    },
    {
      "cell_type": "markdown",
      "metadata": {
        "id": "jz2X97k8jBpj"
      },
      "source": [
        "브루트포스 - 덩치"
      ]
    },
    {
      "cell_type": "code",
      "metadata": {
        "id": "DiOTDdYjJqv_",
        "colab": {
          "base_uri": "https://localhost:8080/"
        },
        "outputId": "d451ec6f-1381-4b85-cd7a-b6a4a85707d6"
      },
      "source": [
        "n = int(input())\n",
        "info = []\n",
        "for i in range(n):\n",
        "    w, h = map(int, input().split())\n",
        "    info.append((w,h))\n",
        "\n",
        "for p in info:\n",
        "    rank = 0\n",
        "\n",
        "    for o in info:\n",
        "        if (p[0]!=o[0]) & (p[1]!=o[1]):\n",
        "            if p[0]<o[0] and  p[1]<o[1] :\n",
        "                rank+=1\n",
        "\n",
        "    print(rank+1)"
      ],
      "execution_count": 12,
      "outputs": [
        {
          "output_type": "stream",
          "text": [
            "5\n",
            "59 172\n",
            "72 172\n",
            "45 161\n",
            "47 155\n",
            "52 158\n",
            "1\n",
            "1\n",
            "3\n",
            "4\n",
            "3\n"
          ],
          "name": "stdout"
        }
      ]
    },
    {
      "cell_type": "code",
      "metadata": {
        "id": "NAa28gQWS6Wj",
        "colab": {
          "base_uri": "https://localhost:8080/"
        },
        "outputId": "74322e96-552d-4c6d-988c-17876f55bb55"
      },
      "source": [
        "n = int(input())\n",
        "info = []\n",
        "for i in range(n):\n",
        "    w, h = map(int, input().split())\n",
        "    info.append((w,h))\n",
        "\n",
        "for p in info:\n",
        "    rank = 0\n",
        "\n",
        "    for o in info:\n",
        "        if p[0]<o[0] and  p[1]<o[1] :\n",
        "            rank+=1\n",
        "\n",
        "    print(rank+1)"
      ],
      "execution_count": 13,
      "outputs": [
        {
          "output_type": "stream",
          "text": [
            "5\n",
            "59 172\n",
            "72 172\n",
            "45 161\n",
            "47 155\n",
            "52 158\n",
            "1\n",
            "1\n",
            "3\n",
            "4\n",
            "3\n"
          ],
          "name": "stdout"
        }
      ]
    },
    {
      "cell_type": "markdown",
      "metadata": {
        "id": "29B5V2rGjJPB"
      },
      "source": [
        "브루트포스 - 영화감독 숌"
      ]
    },
    {
      "cell_type": "code",
      "metadata": {
        "id": "KWEq9JzKYPT2",
        "colab": {
          "base_uri": "https://localhost:8080/"
        },
        "outputId": "5d56c436-7c54-4d03-cae4-74ce55c31684"
      },
      "source": [
        "n = int(input())\n",
        "movie = 666\n",
        "\n",
        "while n:\n",
        "    if \"666\" in str(movie):\n",
        "        n -= 1\n",
        "    movie += 1\n",
        "\n",
        "print(movie - 1)"
      ],
      "execution_count": 14,
      "outputs": [
        {
          "output_type": "stream",
          "text": [
            "5\n",
            "4666\n"
          ],
          "name": "stdout"
        }
      ]
    },
    {
      "cell_type": "markdown",
      "metadata": {
        "id": "3L4nF_g9jgOu"
      },
      "source": [
        "정렬 - 수 정렬하기"
      ]
    },
    {
      "cell_type": "code",
      "metadata": {
        "id": "GBGrqvpQjeeh",
        "colab": {
          "base_uri": "https://localhost:8080/"
        },
        "outputId": "654a6726-b47c-4c5c-d5ce-d524306d7b3c"
      },
      "source": [
        "n = int(input())\n",
        "lis = []\n",
        "for i in range(n):\n",
        "    lis.append(int(input()))\n",
        "\n",
        "lis.sort()\n",
        "\n",
        "for i in lis:\n",
        "    print(i)"
      ],
      "execution_count": 15,
      "outputs": [
        {
          "output_type": "stream",
          "text": [
            "9\n",
            "5\n",
            "1\n",
            "2\n",
            "3\n",
            "7\n",
            "2\n",
            "9\n",
            "6\n",
            "4\n",
            "1\n",
            "2\n",
            "2\n",
            "3\n",
            "4\n",
            "5\n",
            "6\n",
            "7\n",
            "9\n"
          ],
          "name": "stdout"
        }
      ]
    },
    {
      "cell_type": "markdown",
      "metadata": {
        "id": "XEynd39VpvLq"
      },
      "source": [
        "정렬 - 통계학"
      ]
    },
    {
      "cell_type": "code",
      "metadata": {
        "id": "ipqvm2GHptST",
        "colab": {
          "base_uri": "https://localhost:8080/"
        },
        "outputId": "dc1d65be-de8a-4e27-ce89-8aa6a1cdac6b"
      },
      "source": [
        "n = int(input())\n",
        "lis = []\n",
        "for i in range(n):\n",
        "    lis.append(int(input()))\n",
        "lis.sort()\n",
        "\n",
        "freq_lis = []\n",
        "\n",
        "if n==1:\n",
        "    print(lis[0])\n",
        "    print(lis[0])\n",
        "    print(1)\n",
        "    print(0)\n",
        "\n",
        "else:\n",
        "    for i in lis:\n",
        "        freq_lis.append(lis.count(i))\n",
        "        a = max(freq_lis)\n",
        "    print(round(sum(lis)/n))\n",
        "    print(lis[n//2])\n",
        "    print(a)\n",
        "    print(lis[n-1]-lis[0])"
      ],
      "execution_count": 16,
      "outputs": [
        {
          "output_type": "stream",
          "text": [
            "5\n",
            "1\n",
            "3\n",
            "7\n",
            "9\n",
            "50\n",
            "14\n",
            "7\n",
            "1\n",
            "49\n"
          ],
          "name": "stdout"
        }
      ]
    }
  ]
}