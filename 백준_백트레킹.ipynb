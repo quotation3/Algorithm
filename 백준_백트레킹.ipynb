{
  "nbformat": 4,
  "nbformat_minor": 0,
  "metadata": {
    "colab": {
      "name": "백준_백트레킹.ipynb",
      "provenance": [],
      "collapsed_sections": [],
      "authorship_tag": "ABX9TyNJfYPJctthpxgdgx1i6ZEC",
      "include_colab_link": true
    },
    "kernelspec": {
      "name": "python3",
      "display_name": "Python 3"
    }
  },
  "cells": [
    {
      "cell_type": "markdown",
      "metadata": {
        "id": "view-in-github",
        "colab_type": "text"
      },
      "source": [
        "<a href=\"https://colab.research.google.com/github/quotation3/Algorithm/blob/master/%EB%B0%B1%EC%A4%80_%EB%B0%B1%ED%8A%B8%EB%A0%88%ED%82%B9.ipynb\" target=\"_parent\"><img src=\"https://colab.research.google.com/assets/colab-badge.svg\" alt=\"Open In Colab\"/></a>"
      ]
    },
    {
      "cell_type": "markdown",
      "metadata": {
        "id": "DkGQYv2ElGL-"
      },
      "source": [
        "N과 M (1)"
      ]
    },
    {
      "cell_type": "code",
      "metadata": {
        "id": "uEqLavyMk7si",
        "outputId": "886dec99-91a3-4ecf-b19d-0b93deef1825",
        "colab": {
          "base_uri": "https://localhost:8080/",
          "height": 251
        }
      },
      "source": [
        "from itertools import permutations\n",
        "\n",
        "n,m = map(int, input().split())\n",
        "lis = []\n",
        "for i in range(1,n+1):\n",
        "    lis.append(i)\n",
        "for i in list(permutations(lis,m)):\n",
        "    print(' '.join(map(str, i)))"
      ],
      "execution_count": null,
      "outputs": [
        {
          "output_type": "stream",
          "text": [
            "4 2\n",
            "1 2\n",
            "1 3\n",
            "1 4\n",
            "2 1\n",
            "2 3\n",
            "2 4\n",
            "3 1\n",
            "3 2\n",
            "3 4\n",
            "4 1\n",
            "4 2\n",
            "4 3\n"
          ],
          "name": "stdout"
        }
      ]
    }
  ]
}