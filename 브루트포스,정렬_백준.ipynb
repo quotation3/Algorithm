{
  "nbformat": 4,
  "nbformat_minor": 0,
  "metadata": {
    "colab": {
      "name": "백준_브루트포스,정렬.ipynb",
      "provenance": [],
      "collapsed_sections": [],
      "authorship_tag": "ABX9TyP49TQZiGkWtA7DbbeRF5d2",
      "include_colab_link": true
    },
    "kernelspec": {
      "name": "python3",
      "display_name": "Python 3"
    }
  },
  "cells": [
    {
      "cell_type": "markdown",
      "metadata": {
        "id": "view-in-github",
        "colab_type": "text"
      },
      "source": [
        "<a href=\"https://colab.research.google.com/github/quotation3/Algorithm/blob/master/%EB%B0%B1%EC%A4%80_%EB%B8%8C%EB%A3%A8%ED%8A%B8%ED%8F%AC%EC%8A%A4%2C%EC%A0%95%EB%A0%AC.ipynb\" target=\"_parent\"><img src=\"https://colab.research.google.com/assets/colab-badge.svg\" alt=\"Open In Colab\"/></a>"
      ]
    },
    {
      "cell_type": "markdown",
      "metadata": {
        "id": "dURdw_CgGfMu"
      },
      "source": [
        "분해합 문제"
      ]
    },
    {
      "cell_type": "code",
      "metadata": {
        "id": "RioAJ1QkCUOh",
        "outputId": "0229ff81-1ab6-4a61-d707-f7bb17e06f24",
        "colab": {
          "base_uri": "https://localhost:8080/",
          "height": 53
        }
      },
      "source": [
        "def bunhae(n):\n",
        "    e = list(map(int,str(n)))\n",
        "    hap = n+sum(e)\n",
        "    return hap\n",
        "T = int(input())\n",
        "n=0\n",
        "while n<=T:\n",
        "    if bunhae(n) != T:\n",
        "        n+=1\n",
        "        result = 0\n",
        "    elif bunhae(n) == T:\n",
        "        result = n\n",
        "        break\n",
        "print(result)"
      ],
      "execution_count": 4,
      "outputs": [
        {
          "output_type": "stream",
          "text": [
            "216\n",
            "198\n"
          ],
          "name": "stdout"
        }
      ]
    },
    {
      "cell_type": "markdown",
      "metadata": {
        "id": "yMdvC2hgqvt4"
      },
      "source": [
        "블랙잭 문제"
      ]
    },
    {
      "cell_type": "code",
      "metadata": {
        "id": "7SVd-UjVliEz",
        "outputId": "48c60eee-779d-4198-9828-3791733a4992",
        "colab": {
          "base_uri": "https://localhost:8080/",
          "height": 233
        }
      },
      "source": [
        "from itertools import combinations\n",
        "\n",
        "n, m = map(int,input().split())\n",
        "arr = list(map(int, input().split()))\n",
        "\n",
        "result = list(combinations(arr,3))\n",
        "\n",
        "sum_lis = []\n",
        "for each in result:\n",
        "    if sum(each)<=m:\n",
        "        sum_lis.append(sum(each))\n",
        "print(max(sum_lis))"
      ],
      "execution_count": 7,
      "outputs": [
        {
          "output_type": "stream",
          "text": [
            "5 21\n",
            "5 6 7 8 9\n"
          ],
          "name": "stdout"
        },
        {
          "output_type": "execute_result",
          "data": {
            "text/plain": [
              "[(5, 6, 7),\n",
              " (5, 6, 8),\n",
              " (5, 6, 9),\n",
              " (5, 7, 8),\n",
              " (5, 7, 9),\n",
              " (5, 8, 9),\n",
              " (6, 7, 8),\n",
              " (6, 7, 9),\n",
              " (6, 8, 9),\n",
              " (7, 8, 9)]"
            ]
          },
          "metadata": {
            "tags": []
          },
          "execution_count": 7
        }
      ]
    },
    {
      "cell_type": "markdown",
      "metadata": {
        "id": "O3I0SuljrL1E"
      },
      "source": [
        "소트인사이드"
      ]
    },
    {
      "cell_type": "code",
      "metadata": {
        "id": "yw0W-1rJrM6R",
        "outputId": "4373dc81-e76c-4358-d51d-a01525d50294",
        "colab": {
          "base_uri": "https://localhost:8080/",
          "height": 53
        }
      },
      "source": [
        "n = int(input())\n",
        "\n",
        "lis = list(map(str, str(n)))\n",
        "lis.sort(reverse=True)\n",
        "print(int(''.join(lis)))"
      ],
      "execution_count": 18,
      "outputs": [
        {
          "output_type": "stream",
          "text": [
            "2143\n"
          ],
          "name": "stdout"
        },
        {
          "output_type": "execute_result",
          "data": {
            "text/plain": [
              "['2', '1', '4', '3']"
            ]
          },
          "metadata": {
            "tags": []
          },
          "execution_count": 18
        }
      ]
    },
    {
      "cell_type": "markdown",
      "metadata": {
        "id": "b5g1SdM9I7Rn"
      },
      "source": [
        "수 정렬하기2"
      ]
    },
    {
      "cell_type": "code",
      "metadata": {
        "id": "xmQiP8JgrgX9",
        "outputId": "bc8572fc-ce8a-4f46-a359-321778a5a058",
        "colab": {
          "base_uri": "https://localhost:8080/",
          "height": 215
        }
      },
      "source": [
        "n = int(input())\n",
        "\n",
        "lis = []\n",
        "for _ in range(n):\n",
        "    x = int(input())\n",
        "    lis.append(x)\n",
        "\n",
        "lis.sort(key=lambda x: x)\n",
        "for i in lis:\n",
        "    print(i)"
      ],
      "execution_count": 59,
      "outputs": [
        {
          "output_type": "stream",
          "text": [
            "5\n",
            "5\n",
            "4\n",
            "1\n",
            "2\n",
            "3\n",
            "1\n",
            "2\n",
            "3\n",
            "4\n",
            "5\n"
          ],
          "name": "stdout"
        }
      ]
    },
    {
      "cell_type": "markdown",
      "metadata": {
        "id": "y0a_eCUzs9l8"
      },
      "source": [
        "수 정렬하기3"
      ]
    },
    {
      "cell_type": "code",
      "metadata": {
        "id": "VmN5cxz6rdx0",
        "outputId": "d1fcda81-cde7-4e6e-cb48-ba2be36773ff",
        "colab": {
          "base_uri": "https://localhost:8080/",
          "height": 215
        }
      },
      "source": [
        "n = int(input())\n",
        "\n",
        "lis = []\n",
        "for _ in range(n):\n",
        "    x = int(input())\n",
        "    lis.append(x)\n",
        "\n",
        "count = [0]*10001\n",
        "\n",
        "for i in range(len(lis)):\n",
        "    count[lis[i]] += 1\n",
        "for i in range(len(count)):\n",
        "    for j in range(count[i]):\n",
        "        print(i)"
      ],
      "execution_count": 27,
      "outputs": [
        {
          "output_type": "stream",
          "text": [
            "5\n",
            "1\n",
            "3\n",
            "1\n",
            "2\n",
            "4\n",
            "1\n",
            "1\n",
            "2\n",
            "3\n",
            "4\n"
          ],
          "name": "stdout"
        }
      ]
    },
    {
      "cell_type": "markdown",
      "metadata": {
        "id": "9bkOtCStV-Ff"
      },
      "source": [
        "좌표정렬하기2"
      ]
    },
    {
      "cell_type": "code",
      "metadata": {
        "id": "urkklx_MV_qD",
        "outputId": "6b088bf3-fa82-4803-c99a-9923aa8ec805",
        "colab": {
          "base_uri": "https://localhost:8080/",
          "height": 215
        }
      },
      "source": [
        "n = int(input())\n",
        "\n",
        "lis = []\n",
        "for _ in range(n):\n",
        "    x = list(map(int, input().split()))\n",
        "    lis.append(x)\n",
        "\n",
        "lis.sort(key=lambda x: (x[1], x[0]))\n",
        "for i in lis:\n",
        "    print(i[0], i[1])"
      ],
      "execution_count": 53,
      "outputs": [
        {
          "output_type": "stream",
          "text": [
            "5\n",
            "0 4\n",
            "3 3\n",
            "2 2\n",
            "1 -1\n",
            "1 2\n",
            "1 -1\n",
            "1 2\n",
            "2 2\n",
            "3 3\n",
            "0 4\n"
          ],
          "name": "stdout"
        }
      ]
    },
    {
      "cell_type": "markdown",
      "metadata": {
        "id": "3_S-JkC6ihVT"
      },
      "source": [
        "단어정렬"
      ]
    },
    {
      "cell_type": "code",
      "metadata": {
        "id": "AN8JYmgbbI5T",
        "outputId": "055ddc55-fcdd-4b6e-caff-ef072d07428e",
        "colab": {
          "base_uri": "https://localhost:8080/",
          "height": 503
        }
      },
      "source": [
        "import sys\n",
        "n = int(input())\n",
        "lis = []\n",
        "for _ in range(n):\n",
        "    lis.append(input())\n",
        "\n",
        "lis.sort(key=lambda x: (len(x),x))\n",
        "for i in lis:\n",
        "    print(i)"
      ],
      "execution_count": 63,
      "outputs": [
        {
          "output_type": "stream",
          "text": [
            "13\n",
            "but\n",
            "i\n",
            "wont\n",
            "hesitate\n",
            "no\n",
            "more\n",
            "no\n",
            "more\n",
            "it\n",
            "cannot\n",
            "wait\n",
            "im\n",
            "yours\n",
            "i\n",
            "im\n",
            "it\n",
            "no\n",
            "no\n",
            "but\n",
            "more\n",
            "more\n",
            "wait\n",
            "wont\n",
            "yours\n",
            "cannot\n",
            "hesitate\n"
          ],
          "name": "stdout"
        }
      ]
    },
    {
      "cell_type": "markdown",
      "metadata": {
        "id": "pBVql5N0j7Ia"
      },
      "source": [
        "나이순정렬"
      ]
    },
    {
      "cell_type": "code",
      "metadata": {
        "id": "A9yKXFBGjmx5",
        "outputId": "dae9d948-a789-41f0-ef9d-fe1ab9605f8a",
        "colab": {
          "base_uri": "https://localhost:8080/",
          "height": 143
        }
      },
      "source": [
        "n = int(input())\n",
        "member = []\n",
        "for i in range(n):\n",
        "    member.append(list(input().split()))\n",
        "member.sort(key=lambda x: int(x[0]))\n",
        "for i in range(n):\n",
        "    print(member[i][0], member[i][1])"
      ],
      "execution_count": 66,
      "outputs": [
        {
          "output_type": "stream",
          "text": [
            "3\n",
            "21 Junkyu\n",
            "21 Dohyun\n",
            "20 Sunyoung\n",
            "20 Sunyoung\n",
            "21 Junkyu\n",
            "21 Dohyun\n"
          ],
          "name": "stdout"
        }
      ]
    }
  ]
}