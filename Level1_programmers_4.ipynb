{
  "nbformat": 4,
  "nbformat_minor": 0,
  "metadata": {
    "colab": {
      "name": "Level1_programmers_4.ipynb",
      "provenance": [],
      "authorship_tag": "ABX9TyPwnhxiuQCd6WGp+D8HoAGd",
      "include_colab_link": true
    },
    "kernelspec": {
      "name": "python3",
      "display_name": "Python 3"
    }
  },
  "cells": [
    {
      "cell_type": "markdown",
      "metadata": {
        "id": "view-in-github",
        "colab_type": "text"
      },
      "source": [
        "<a href=\"https://colab.research.google.com/github/quotation3/Algorithm/blob/master/Level1_programmers_4.ipynb\" target=\"_parent\"><img src=\"https://colab.research.google.com/assets/colab-badge.svg\" alt=\"Open In Colab\"/></a>"
      ]
    },
    {
      "cell_type": "markdown",
      "metadata": {
        "id": "MrnHnU4AadAW"
      },
      "source": [
        "### 자연수 뒤집어 배열로 만들기"
      ]
    },
    {
      "cell_type": "code",
      "metadata": {
        "id": "ipfP70VeaVSQ"
      },
      "source": [
        "n = 12345\r\n",
        "# return [5,4,3,2,1]"
      ],
      "execution_count": 30,
      "outputs": []
    },
    {
      "cell_type": "code",
      "metadata": {
        "id": "VxL1uBqRak7Y"
      },
      "source": [
        "def solution(n):\r\n",
        "    return list(reversed([int(i) for i in str(n)]))"
      ],
      "execution_count": 12,
      "outputs": []
    },
    {
      "cell_type": "code",
      "metadata": {
        "colab": {
          "base_uri": "https://localhost:8080/"
        },
        "id": "JjVqqEDcbR4G",
        "outputId": "d84f666d-167a-408b-843f-f04431c9dcef"
      },
      "source": [
        "solution(n)"
      ],
      "execution_count": 14,
      "outputs": [
        {
          "output_type": "execute_result",
          "data": {
            "text/plain": [
              "[5, 4, 3, 2, 1]"
            ]
          },
          "metadata": {
            "tags": []
          },
          "execution_count": 14
        }
      ]
    },
    {
      "cell_type": "code",
      "metadata": {
        "id": "ef9enPr3bPzm"
      },
      "source": [
        "# 다른 풀이\r\n",
        "def digit_reverse(n):\r\n",
        "    return list(map(int, reversed(str(n))))"
      ],
      "execution_count": 13,
      "outputs": []
    },
    {
      "cell_type": "markdown",
      "metadata": {
        "id": "s2hNBCIUbrw8"
      },
      "source": [
        "### 정수 내림차순으로 배치하기"
      ]
    },
    {
      "cell_type": "code",
      "metadata": {
        "id": "E2wepCYvbxYB"
      },
      "source": [
        "n = 118372\r\n",
        "# return 873211"
      ],
      "execution_count": 15,
      "outputs": []
    },
    {
      "cell_type": "code",
      "metadata": {
        "id": "ZWqp_mpCb19D"
      },
      "source": [
        "def solution(n):\r\n",
        "    lis = list(map(str,sorted(str(n),reverse=True)))\r\n",
        "    return int(''.join(lis))"
      ],
      "execution_count": 28,
      "outputs": []
    },
    {
      "cell_type": "code",
      "metadata": {
        "colab": {
          "base_uri": "https://localhost:8080/"
        },
        "id": "H4hrn21ychj0",
        "outputId": "e1dfd569-89b8-491a-a3f8-017f55a027f9"
      },
      "source": [
        "solution(n)"
      ],
      "execution_count": 29,
      "outputs": [
        {
          "output_type": "execute_result",
          "data": {
            "text/plain": [
              "873211"
            ]
          },
          "metadata": {
            "tags": []
          },
          "execution_count": 29
        }
      ]
    },
    {
      "cell_type": "code",
      "metadata": {
        "id": "ojJXgY9Sc8cW"
      },
      "source": [
        "# 다른 풀이\r\n",
        "def solution(n):\r\n",
        "    ls = list(str(n))\r\n",
        "    ls.sort(reverse = True)\r\n",
        "    return int(\"\".join(ls))"
      ],
      "execution_count": 35,
      "outputs": []
    },
    {
      "cell_type": "markdown",
      "metadata": {
        "id": "jeaxhTtMdKTh"
      },
      "source": [
        "### 정수 제곱근 판별"
      ]
    },
    {
      "cell_type": "code",
      "metadata": {
        "id": "EVIjXTTZdMFV"
      },
      "source": [
        "n = 121\r\n",
        "# return 144"
      ],
      "execution_count": 36,
      "outputs": []
    },
    {
      "cell_type": "code",
      "metadata": {
        "id": "yUzW9FD4dP5l"
      },
      "source": [
        "def solution(n):\r\n",
        "    if (n**0.5)%1 == 0:\r\n",
        "        return ((n**0.5)+1)**2\r\n",
        "    return -1"
      ],
      "execution_count": 37,
      "outputs": []
    },
    {
      "cell_type": "code",
      "metadata": {
        "colab": {
          "base_uri": "https://localhost:8080/"
        },
        "id": "E4EalAm3eIFw",
        "outputId": "659b59b7-608b-4d26-b9eb-8fd08321b12b"
      },
      "source": [
        "solution(n)"
      ],
      "execution_count": 38,
      "outputs": [
        {
          "output_type": "execute_result",
          "data": {
            "text/plain": [
              "144.0"
            ]
          },
          "metadata": {
            "tags": []
          },
          "execution_count": 38
        }
      ]
    },
    {
      "cell_type": "code",
      "metadata": {
        "id": "YA5cj__YeCI9"
      },
      "source": [
        "# 다른 풀이\r\n",
        "def nextSqure(n):\r\n",
        "    return n == int(n**.5)**2 and int(n**.5+1)**2 or -1\r\n",
        "    # 'and','or'쓰면 간단해짐"
      ],
      "execution_count": 39,
      "outputs": []
    },
    {
      "cell_type": "markdown",
      "metadata": {
        "id": "GqT7pds8eji5"
      },
      "source": [
        "### 제일 작은 수 제거하기"
      ]
    },
    {
      "cell_type": "code",
      "metadata": {
        "id": "auLKQopKelvb"
      },
      "source": [
        "arr = [4,3,2,1]\r\n",
        "# return [4,3,2]"
      ],
      "execution_count": 54,
      "outputs": []
    },
    {
      "cell_type": "code",
      "metadata": {
        "id": "FMhPjnOVeqma"
      },
      "source": [
        "def solution(arr):\r\n",
        "    if len(arr)>1:\r\n",
        "        arr.remove(min(arr))\r\n",
        "    else:\r\n",
        "        arr = [-1]\r\n",
        "    return arr"
      ],
      "execution_count": 50,
      "outputs": []
    },
    {
      "cell_type": "code",
      "metadata": {
        "colab": {
          "base_uri": "https://localhost:8080/"
        },
        "id": "-WtAGZx1foXu",
        "outputId": "b5aed8d7-042d-448f-faf7-484b9365c51a"
      },
      "source": [
        "solution(arr)"
      ],
      "execution_count": 51,
      "outputs": [
        {
          "output_type": "execute_result",
          "data": {
            "text/plain": [
              "[4, 3, 2]"
            ]
          },
          "metadata": {
            "tags": []
          },
          "execution_count": 51
        }
      ]
    },
    {
      "cell_type": "code",
      "metadata": {
        "id": "k0AAAe_Gf2cW"
      },
      "source": [
        "### 다른 풀이\r\n",
        "def rm_small(mylist):\r\n",
        "    return [i for i in mylist if i > min(mylist)] or [-1]\r\n",
        "    # 가장 작은 값보다 크면 리턴"
      ],
      "execution_count": 56,
      "outputs": []
    },
    {
      "cell_type": "markdown",
      "metadata": {
        "id": "ZQmPewhMgLp3"
      },
      "source": [
        "### 짝수와 홀수"
      ]
    },
    {
      "cell_type": "code",
      "metadata": {
        "id": "emZiYeqLgNio"
      },
      "source": [
        "num = 3\r\n",
        "# return 'Odd'"
      ],
      "execution_count": 58,
      "outputs": []
    },
    {
      "cell_type": "code",
      "metadata": {
        "id": "yw6PeHdjgSms"
      },
      "source": [
        "def solution(num):\r\n",
        "    return num%2==0 and 'Even' or 'Odd'"
      ],
      "execution_count": 59,
      "outputs": []
    },
    {
      "cell_type": "code",
      "metadata": {
        "colab": {
          "base_uri": "https://localhost:8080/",
          "height": 35
        },
        "id": "ddz04wsjgcrX",
        "outputId": "e21acbb1-8366-4e3c-81e3-463c4dbfac86"
      },
      "source": [
        "solution(num)"
      ],
      "execution_count": 60,
      "outputs": [
        {
          "output_type": "execute_result",
          "data": {
            "application/vnd.google.colaboratory.intrinsic+json": {
              "type": "string"
            },
            "text/plain": [
              "'Odd'"
            ]
          },
          "metadata": {
            "tags": []
          },
          "execution_count": 60
        }
      ]
    },
    {
      "cell_type": "markdown",
      "metadata": {
        "id": "d023jbhwg6JA"
      },
      "source": [
        "### 키패드 누르기"
      ]
    },
    {
      "cell_type": "code",
      "metadata": {
        "id": "1SilVk_Hg8NC"
      },
      "source": [
        "numbers = ['1', '3', '4', '5', '8','2', '1', '4', '5', '9', '5']\r\n",
        "hand = 'right'\r\n",
        "result = 'LRLLLRLLRRL'"
      ],
      "execution_count": null,
      "outputs": []
    },
    {
      "cell_type": "code",
      "metadata": {
        "id": "hgWaOoC9i-0C"
      },
      "source": [
        "l_num = [1,4,7,10]\r\n",
        "r_num = [3,6,9,12]\r\n",
        "m_num = [2,5,8,11]\r\n",
        "result = ''\r\n",
        "l_position = 10\r\n",
        "r_position = 12\r\n",
        "\r\n",
        "for i in numbers:\r\n",
        "    if int(i) in l_num:\r\n",
        "        result+='L'\r\n",
        "        l_position = int(i)\r\n",
        "    elif int(i) in r_num:\r\n",
        "        result+='R'\r\n",
        "        r_position = int(i)\r\n",
        "    else:\r\n",
        "        if l_num.index(l_position) = r_num.index(l_position):\r\n",
        "            if hand = 'right':\r\n",
        "                result+='R'\r\n",
        "                r_position = int(i)\r\n",
        "            else:\r\n",
        "                result+='L'\r\n",
        "                l_position = int(i)\r\n",
        "        else:\r\n",
        "                          \r\n"
      ],
      "execution_count": null,
      "outputs": []
    }
  ]
}