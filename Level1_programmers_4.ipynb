{
  "nbformat": 4,
  "nbformat_minor": 0,
  "metadata": {
    "colab": {
      "name": "Level1_programmers_4.ipynb",
      "provenance": [],
      "collapsed_sections": [],
      "authorship_tag": "ABX9TyMVnbRXC/NjLQwsozeOTyrm",
      "include_colab_link": true
    },
    "kernelspec": {
      "name": "python3",
      "display_name": "Python 3"
    }
  },
  "cells": [
    {
      "cell_type": "markdown",
      "metadata": {
        "id": "view-in-github",
        "colab_type": "text"
      },
      "source": [
        "<a href=\"https://colab.research.google.com/github/quotation3/Algorithm/blob/master/Level1_programmers_4.ipynb\" target=\"_parent\"><img src=\"https://colab.research.google.com/assets/colab-badge.svg\" alt=\"Open In Colab\"/></a>"
      ]
    },
    {
      "cell_type": "markdown",
      "metadata": {
        "id": "MrnHnU4AadAW"
      },
      "source": [
        "### 자연수 뒤집어 배열로 만들기"
      ]
    },
    {
      "cell_type": "code",
      "metadata": {
        "id": "ipfP70VeaVSQ"
      },
      "source": [
        "n = 12345\r\n",
        "# return [5,4,3,2,1]"
      ],
      "execution_count": 30,
      "outputs": []
    },
    {
      "cell_type": "code",
      "metadata": {
        "id": "VxL1uBqRak7Y"
      },
      "source": [
        "def solution(n):\r\n",
        "    return list(reversed([int(i) for i in str(n)]))"
      ],
      "execution_count": 12,
      "outputs": []
    },
    {
      "cell_type": "code",
      "metadata": {
        "colab": {
          "base_uri": "https://localhost:8080/"
        },
        "id": "JjVqqEDcbR4G",
        "outputId": "d84f666d-167a-408b-843f-f04431c9dcef"
      },
      "source": [
        "solution(n)"
      ],
      "execution_count": 14,
      "outputs": [
        {
          "output_type": "execute_result",
          "data": {
            "text/plain": [
              "[5, 4, 3, 2, 1]"
            ]
          },
          "metadata": {
            "tags": []
          },
          "execution_count": 14
        }
      ]
    },
    {
      "cell_type": "code",
      "metadata": {
        "id": "ef9enPr3bPzm"
      },
      "source": [
        "# 다른 풀이\r\n",
        "def digit_reverse(n):\r\n",
        "    return list(map(int, reversed(str(n))))"
      ],
      "execution_count": 13,
      "outputs": []
    },
    {
      "cell_type": "markdown",
      "metadata": {
        "id": "s2hNBCIUbrw8"
      },
      "source": [
        "### 정수 내림차순으로 배치하기"
      ]
    },
    {
      "cell_type": "code",
      "metadata": {
        "id": "E2wepCYvbxYB"
      },
      "source": [
        "n = 118372\r\n",
        "# return 873211"
      ],
      "execution_count": 15,
      "outputs": []
    },
    {
      "cell_type": "code",
      "metadata": {
        "id": "ZWqp_mpCb19D"
      },
      "source": [
        "def solution(n):\r\n",
        "    lis = list(map(str,sorted(str(n),reverse=True)))\r\n",
        "    return int(''.join(lis))"
      ],
      "execution_count": 28,
      "outputs": []
    },
    {
      "cell_type": "code",
      "metadata": {
        "colab": {
          "base_uri": "https://localhost:8080/"
        },
        "id": "H4hrn21ychj0",
        "outputId": "e1dfd569-89b8-491a-a3f8-017f55a027f9"
      },
      "source": [
        "solution(n)"
      ],
      "execution_count": 29,
      "outputs": [
        {
          "output_type": "execute_result",
          "data": {
            "text/plain": [
              "873211"
            ]
          },
          "metadata": {
            "tags": []
          },
          "execution_count": 29
        }
      ]
    },
    {
      "cell_type": "code",
      "metadata": {
        "id": "ojJXgY9Sc8cW"
      },
      "source": [
        "# 다른 풀이\r\n",
        "def solution(n):\r\n",
        "    ls = list(str(n))\r\n",
        "    ls.sort(reverse = True)\r\n",
        "    return int(\"\".join(ls))"
      ],
      "execution_count": 35,
      "outputs": []
    },
    {
      "cell_type": "markdown",
      "metadata": {
        "id": "jeaxhTtMdKTh"
      },
      "source": [
        "### 정수 제곱근 판별"
      ]
    },
    {
      "cell_type": "code",
      "metadata": {
        "id": "EVIjXTTZdMFV"
      },
      "source": [
        "n = 121\r\n",
        "# return 144"
      ],
      "execution_count": 36,
      "outputs": []
    },
    {
      "cell_type": "code",
      "metadata": {
        "id": "yUzW9FD4dP5l"
      },
      "source": [
        "def solution(n):\r\n",
        "    if (n**0.5)%1 == 0:\r\n",
        "        return ((n**0.5)+1)**2\r\n",
        "    return -1"
      ],
      "execution_count": 37,
      "outputs": []
    },
    {
      "cell_type": "code",
      "metadata": {
        "colab": {
          "base_uri": "https://localhost:8080/"
        },
        "id": "E4EalAm3eIFw",
        "outputId": "659b59b7-608b-4d26-b9eb-8fd08321b12b"
      },
      "source": [
        "solution(n)"
      ],
      "execution_count": 38,
      "outputs": [
        {
          "output_type": "execute_result",
          "data": {
            "text/plain": [
              "144.0"
            ]
          },
          "metadata": {
            "tags": []
          },
          "execution_count": 38
        }
      ]
    },
    {
      "cell_type": "code",
      "metadata": {
        "id": "YA5cj__YeCI9"
      },
      "source": [
        "# 다른 풀이\r\n",
        "def nextSqure(n):\r\n",
        "    return n == int(n**.5)**2 and int(n**.5+1)**2 or -1\r\n",
        "    # 'and','or'쓰면 간단해짐"
      ],
      "execution_count": 39,
      "outputs": []
    },
    {
      "cell_type": "markdown",
      "metadata": {
        "id": "GqT7pds8eji5"
      },
      "source": [
        "### 제일 작은 수 제거하기"
      ]
    },
    {
      "cell_type": "code",
      "metadata": {
        "id": "auLKQopKelvb"
      },
      "source": [
        "arr = [4,3,2,1]\r\n",
        "# return [4,3,2]"
      ],
      "execution_count": 54,
      "outputs": []
    },
    {
      "cell_type": "code",
      "metadata": {
        "id": "FMhPjnOVeqma"
      },
      "source": [
        "def solution(arr):\r\n",
        "    if len(arr)>1:\r\n",
        "        arr.remove(min(arr))\r\n",
        "    else:\r\n",
        "        arr = [-1]\r\n",
        "    return arr"
      ],
      "execution_count": 50,
      "outputs": []
    },
    {
      "cell_type": "code",
      "metadata": {
        "colab": {
          "base_uri": "https://localhost:8080/"
        },
        "id": "-WtAGZx1foXu",
        "outputId": "b5aed8d7-042d-448f-faf7-484b9365c51a"
      },
      "source": [
        "solution(arr)"
      ],
      "execution_count": 51,
      "outputs": [
        {
          "output_type": "execute_result",
          "data": {
            "text/plain": [
              "[4, 3, 2]"
            ]
          },
          "metadata": {
            "tags": []
          },
          "execution_count": 51
        }
      ]
    },
    {
      "cell_type": "code",
      "metadata": {
        "id": "k0AAAe_Gf2cW"
      },
      "source": [
        "### 다른 풀이\r\n",
        "def rm_small(mylist):\r\n",
        "    return [i for i in mylist if i > min(mylist)] or [-1]\r\n",
        "    # 가장 작은 값보다 크면 리턴"
      ],
      "execution_count": 56,
      "outputs": []
    },
    {
      "cell_type": "markdown",
      "metadata": {
        "id": "ZQmPewhMgLp3"
      },
      "source": [
        "### 짝수와 홀수"
      ]
    },
    {
      "cell_type": "code",
      "metadata": {
        "id": "emZiYeqLgNio"
      },
      "source": [
        "num = 3\r\n",
        "# return 'Odd'"
      ],
      "execution_count": 58,
      "outputs": []
    },
    {
      "cell_type": "code",
      "metadata": {
        "id": "yw6PeHdjgSms"
      },
      "source": [
        "def solution(num):\r\n",
        "    return num%2==0 and 'Even' or 'Odd'"
      ],
      "execution_count": 59,
      "outputs": []
    },
    {
      "cell_type": "code",
      "metadata": {
        "colab": {
          "base_uri": "https://localhost:8080/",
          "height": 35
        },
        "id": "ddz04wsjgcrX",
        "outputId": "e21acbb1-8366-4e3c-81e3-463c4dbfac86"
      },
      "source": [
        "solution(num)"
      ],
      "execution_count": 60,
      "outputs": [
        {
          "output_type": "execute_result",
          "data": {
            "application/vnd.google.colaboratory.intrinsic+json": {
              "type": "string"
            },
            "text/plain": [
              "'Odd'"
            ]
          },
          "metadata": {
            "tags": []
          },
          "execution_count": 60
        }
      ]
    },
    {
      "cell_type": "markdown",
      "metadata": {
        "id": "d023jbhwg6JA"
      },
      "source": [
        "### 키패드 누르기"
      ]
    },
    {
      "cell_type": "code",
      "metadata": {
        "id": "1SilVk_Hg8NC"
      },
      "source": [
        "numbers = ['1', '3', '4', '5', '8','2', '1', '4', '5', '9', '5']\r\n",
        "hand = 'right'\r\n",
        "# result = 'LRLLLRLLRRL'"
      ],
      "execution_count": 26,
      "outputs": []
    },
    {
      "cell_type": "code",
      "metadata": {
        "id": "hgWaOoC9i-0C"
      },
      "source": [
        "def solution(numbers, hand):\r\n",
        "    answer = ''\r\n",
        "    location = [[3, 1], [0, 0], [0, 1], [0, 2], [1, 0], [1, 1], [1, 2], [2, 0], [2, 1], [2, 2]]\r\n",
        "    left, right = [3, 0], [3, 2]\r\n",
        "    numbers = list(map(int,numbers))\r\n",
        "    for i in numbers:\r\n",
        "        if i in [1,4,7]:\r\n",
        "            answer += 'L'\r\n",
        "            left = location[i]\r\n",
        "        elif i in [3,6,9]:\r\n",
        "            answer += 'R'\r\n",
        "            right = location[i]\r\n",
        "        else:\r\n",
        "            l = abs(location[i][0] - left[0]) + abs(location[i][1] - left[1])\r\n",
        "            r = abs(location[i][0] - right[0]) + abs(location[i][1] - right[1])\r\n",
        "            if l < r:\r\n",
        "                answer += 'L'\r\n",
        "                left = location[i]\r\n",
        "            elif l > r:\r\n",
        "                answer += 'R'\r\n",
        "                right = location[i]\r\n",
        "            else:\r\n",
        "                answer += hand[0].upper() # hand의 앞글자 따기\r\n",
        "                if hand == 'right':\r\n",
        "                    right = location[i]\r\n",
        "                else:\r\n",
        "                    left = location[i]                \r\n",
        "\r\n",
        "    return answer"
      ],
      "execution_count": 31,
      "outputs": []
    },
    {
      "cell_type": "code",
      "metadata": {
        "colab": {
          "base_uri": "https://localhost:8080/",
          "height": 35
        },
        "id": "Jlwv8qnDxlj_",
        "outputId": "53936cda-14f6-4f44-b0f8-83f0239c212b"
      },
      "source": [
        "solution(numbers, hand)"
      ],
      "execution_count": 32,
      "outputs": [
        {
          "output_type": "execute_result",
          "data": {
            "application/vnd.google.colaboratory.intrinsic+json": {
              "type": "string"
            },
            "text/plain": [
              "'LRLLLRLLRRL'"
            ]
          },
          "metadata": {
            "tags": []
          },
          "execution_count": 32
        }
      ]
    },
    {
      "cell_type": "markdown",
      "metadata": {
        "id": "knpyOVAR6PKJ"
      },
      "source": [
        "### 최대공약수와 최소공배수"
      ]
    },
    {
      "cell_type": "code",
      "metadata": {
        "id": "_lnqNRj26SKW"
      },
      "source": [
        "n = 3\r\n",
        "m = 12\r\n",
        "# return [3,12]"
      ],
      "execution_count": 53,
      "outputs": []
    },
    {
      "cell_type": "code",
      "metadata": {
        "id": "z9R75olU6f4n"
      },
      "source": [
        "def solution(n, m):\r\n",
        "    yaksu = []\r\n",
        "    for i in range(1,n+1):\r\n",
        "        if m*i%n == 0:\r\n",
        "            baesu = m*i\r\n",
        "            break\r\n",
        "            \r\n",
        "    for i in range(1,n+1):\r\n",
        "        if n%i == 0 and m%i == 0:\r\n",
        "            yaksu.append(i)\r\n",
        "            \r\n",
        "    answer = [max(yaksu),baesu]\r\n",
        "    \r\n",
        "    return answer"
      ],
      "execution_count": 61,
      "outputs": []
    },
    {
      "cell_type": "code",
      "metadata": {
        "colab": {
          "base_uri": "https://localhost:8080/"
        },
        "id": "Y7bVo2WD7l3q",
        "outputId": "c896f6fd-f29c-4298-c8df-ad0cd07f24dc"
      },
      "source": [
        "solution(n, m)"
      ],
      "execution_count": 62,
      "outputs": [
        {
          "output_type": "execute_result",
          "data": {
            "text/plain": [
              "[3, 12]"
            ]
          },
          "metadata": {
            "tags": []
          },
          "execution_count": 62
        }
      ]
    },
    {
      "cell_type": "markdown",
      "metadata": {
        "id": "7vsLk_rK9g5d"
      },
      "source": [
        "유클리드 호제법 : 2개의 자연수(또는 정식) a, b에 대해서 a를 b로 나눈 나머지를 r이라 하면(단, a>b), a와 b의 최대공약수는 b와 r의 최대공약수와 같다\r\n",
        "\r\n",
        "ex) 1071과 1029의 최대공약수를 구하면,\r\n",
        "1071은 1029로 나누어떨어지지 않기 때문에, 1071을 1029로 나눈 나머지를 구한다. ≫ 42\r\n",
        "1029는 42로 나누어떨어지지 않기 때문에, 1029를 42로 나눈 나머지를 구한다. ≫ 21\r\n",
        "42는 21로 나누어떨어진다. "
      ]
    },
    {
      "cell_type": "code",
      "metadata": {
        "id": "BqufEXAC9qfH"
      },
      "source": [
        "# 유클리드 호제법\r\n",
        "def gcdlcm(a, b):\r\n",
        "    c, d = max(a, b), min(a, b)\r\n",
        "    t = 1\r\n",
        "    while t > 0:\r\n",
        "        t = c % d # 최댓값과 최솟값을 나눈 나머지를 t라 한다\r\n",
        "        c, d = d, t # 최솟값과 t의 나머지를 구하는 과정을 반복한다\r\n",
        "    answer = [c, int(a*b/c)]\r\n",
        "\r\n",
        "    return answer"
      ],
      "execution_count": 65,
      "outputs": []
    },
    {
      "cell_type": "code",
      "metadata": {
        "colab": {
          "base_uri": "https://localhost:8080/"
        },
        "id": "cu0ttIdQ-AOb",
        "outputId": "300a3d05-9ad8-4634-a87c-5da5ebe0042b"
      },
      "source": [
        "gcdlcm(3, 12)"
      ],
      "execution_count": 66,
      "outputs": [
        {
          "output_type": "execute_result",
          "data": {
            "text/plain": [
              "[3, 12]"
            ]
          },
          "metadata": {
            "tags": []
          },
          "execution_count": 66
        }
      ]
    }
  ]
}