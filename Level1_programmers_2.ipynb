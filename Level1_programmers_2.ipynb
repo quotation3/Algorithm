{
  "nbformat": 4,
  "nbformat_minor": 0,
  "metadata": {
    "colab": {
      "name": "Level1_programmers_2.ipynb",
      "provenance": [],
      "collapsed_sections": [],
      "authorship_tag": "ABX9TyMBt6HZbDVuQbNDJIDslCHL",
      "include_colab_link": true
    },
    "kernelspec": {
      "name": "python3",
      "display_name": "Python 3"
    }
  },
  "cells": [
    {
      "cell_type": "markdown",
      "metadata": {
        "id": "view-in-github",
        "colab_type": "text"
      },
      "source": [
        "<a href=\"https://colab.research.google.com/github/quotation3/Algorithm/blob/master/Level1_programmers_2.ipynb\" target=\"_parent\"><img src=\"https://colab.research.google.com/assets/colab-badge.svg\" alt=\"Open In Colab\"/></a>"
      ]
    },
    {
      "cell_type": "markdown",
      "metadata": {
        "id": "ptCwi_xEsyAl"
      },
      "source": [
        "### 2016년"
      ]
    },
    {
      "cell_type": "code",
      "metadata": {
        "id": "_45FxJJhsv23"
      },
      "source": [
        "a = 5\r\n",
        "b = 24\r\n",
        "# result = 'TUE'"
      ],
      "execution_count": 7,
      "outputs": []
    },
    {
      "cell_type": "code",
      "metadata": {
        "colab": {
          "base_uri": "https://localhost:8080/",
          "height": 35
        },
        "id": "xsiveMcLthB7",
        "outputId": "190e6200-81c3-4510-a5da-48b72c93cc67"
      },
      "source": [
        "day = ['THU','FRI','SAT','SUN','MON','TUE','WED']\r\n",
        "month = [31,29,31,30,31,30,31,31,30,31,30,31]\r\n",
        "stack_day = sum(month[:a-1])+b\r\n",
        "answer= day[stack_day%7]\r\n",
        "answer"
      ],
      "execution_count": 8,
      "outputs": [
        {
          "output_type": "execute_result",
          "data": {
            "application/vnd.google.colaboratory.intrinsic+json": {
              "type": "string"
            },
            "text/plain": [
              "'TUE'"
            ]
          },
          "metadata": {
            "tags": []
          },
          "execution_count": 8
        }
      ]
    },
    {
      "cell_type": "code",
      "metadata": {
        "id": "QVz6-Jq1wcKN"
      },
      "source": [
        "def solution(a, b):\r\n",
        "    day = ['THU','FRI','SAT','SUN','MON','TUE','WED']\r\n",
        "    month = [31,29,31,30,31,30,31,31,30,31,30,31]\r\n",
        "    stack_day = sum(month[:a-1])+b\r\n",
        "    answer= day[stack_day%7]\r\n",
        "    return answer"
      ],
      "execution_count": 9,
      "outputs": []
    },
    {
      "cell_type": "code",
      "metadata": {
        "colab": {
          "base_uri": "https://localhost:8080/",
          "height": 35
        },
        "id": "WH-dYIFHwh1H",
        "outputId": "22ecde07-8400-4309-eb8b-0a820f4e27fd"
      },
      "source": [
        "solution(a, b)"
      ],
      "execution_count": 10,
      "outputs": [
        {
          "output_type": "execute_result",
          "data": {
            "application/vnd.google.colaboratory.intrinsic+json": {
              "type": "string"
            },
            "text/plain": [
              "'TUE'"
            ]
          },
          "metadata": {
            "tags": []
          },
          "execution_count": 10
        }
      ]
    },
    {
      "cell_type": "code",
      "metadata": {
        "id": "Dh4_yegqxYZu"
      },
      "source": [
        "# 함수 활용\r\n",
        "import datetime\r\n",
        "\r\n",
        "def getDayName(a,b):\r\n",
        "    t = 'MON TUE WED THU FRI SAT SUN'.split()\r\n",
        "    return t[datetime.datetime(2016, a, b).weekday()]"
      ],
      "execution_count": 11,
      "outputs": []
    },
    {
      "cell_type": "markdown",
      "metadata": {
        "id": "9kn-3xVfyNJ2"
      },
      "source": [
        "### 3진법 뒤집기"
      ]
    },
    {
      "cell_type": "code",
      "metadata": {
        "id": "XhVm2n5KyOxy"
      },
      "source": [
        "n = 45\r\n",
        "# result = 7"
      ],
      "execution_count": 16,
      "outputs": []
    },
    {
      "cell_type": "code",
      "metadata": {
        "colab": {
          "base_uri": "https://localhost:8080/"
        },
        "id": "Qe7U9RmW6tMz",
        "outputId": "03e334a5-1733-46e9-fbb9-bf64694b0715"
      },
      "source": [
        "lis = []\r\n",
        "while n>=1:\r\n",
        "    lis.append(str(n%3)) # 3으로 나눈 나머지를 리스트에 넣어준다\r\n",
        "    n = n//3\r\n",
        "# 거꾸로 넣어줘야하는데 다시 반전해야하므로 그냥 변환시킨다\r\n",
        "int(''.join(lis),3)"
      ],
      "execution_count": 13,
      "outputs": [
        {
          "output_type": "execute_result",
          "data": {
            "text/plain": [
              "7"
            ]
          },
          "metadata": {
            "tags": []
          },
          "execution_count": 13
        }
      ]
    },
    {
      "cell_type": "code",
      "metadata": {
        "id": "VSicWxSq9Kne"
      },
      "source": [
        "def solution(n):\r\n",
        "    lis = []\r\n",
        "    while n>=1:\r\n",
        "        lis.append(str(n%3))\r\n",
        "        n = n//3\r\n",
        "    answer = int(''.join(lis),3)\r\n",
        "    return answer"
      ],
      "execution_count": 17,
      "outputs": []
    },
    {
      "cell_type": "code",
      "metadata": {
        "colab": {
          "base_uri": "https://localhost:8080/"
        },
        "id": "PxKmwTMiEeZk",
        "outputId": "00cfee50-174e-40df-d303-6f153cf54ac0"
      },
      "source": [
        "solution(n)"
      ],
      "execution_count": 18,
      "outputs": [
        {
          "output_type": "execute_result",
          "data": {
            "text/plain": [
              "7"
            ]
          },
          "metadata": {
            "tags": []
          },
          "execution_count": 18
        }
      ]
    },
    {
      "cell_type": "markdown",
      "metadata": {
        "id": "EL-UiXV-Jl63"
      },
      "source": [
        "### 가운데 글자 가져오기"
      ]
    },
    {
      "cell_type": "code",
      "metadata": {
        "id": "EzBR4MycJpBf"
      },
      "source": [
        "s = 'abcde'\r\n",
        "# return 'c'"
      ],
      "execution_count": 19,
      "outputs": []
    },
    {
      "cell_type": "code",
      "metadata": {
        "colab": {
          "base_uri": "https://localhost:8080/"
        },
        "id": "L6H9zY8mJu9l",
        "outputId": "10d7cde2-3ab0-42d2-c46e-df566153d8c5"
      },
      "source": [
        "if len(s)%2!=0:\r\n",
        "    print(s[len(s)//2])\r\n",
        "else:\r\n",
        "    print(s[len(s)//2-1:len(s)//2+1])"
      ],
      "execution_count": 20,
      "outputs": [
        {
          "output_type": "stream",
          "text": [
            "c\n"
          ],
          "name": "stdout"
        }
      ]
    },
    {
      "cell_type": "code",
      "metadata": {
        "id": "T5rrFqPlas4_"
      },
      "source": [
        "def solution(s):\r\n",
        "    if len(s)%2!=0:\r\n",
        "        return s[len(s)//2]\r\n",
        "    else:\r\n",
        "        return s[len(s)//2-1:len(s)//2+1]"
      ],
      "execution_count": 21,
      "outputs": []
    },
    {
      "cell_type": "code",
      "metadata": {
        "colab": {
          "base_uri": "https://localhost:8080/",
          "height": 35
        },
        "id": "5NjKCE1Pa2DV",
        "outputId": "392d35e8-2a06-4208-ef1a-60cfdfc72be3"
      },
      "source": [
        "solution(s)"
      ],
      "execution_count": 22,
      "outputs": [
        {
          "output_type": "execute_result",
          "data": {
            "application/vnd.google.colaboratory.intrinsic+json": {
              "type": "string"
            },
            "text/plain": [
              "'c'"
            ]
          },
          "metadata": {
            "tags": []
          },
          "execution_count": 22
        }
      ]
    },
    {
      "cell_type": "markdown",
      "metadata": {
        "id": "VBszMl6rdGvg"
      },
      "source": [
        "### 같은 숫자는 싫어"
      ]
    },
    {
      "cell_type": "code",
      "metadata": {
        "id": "szRL4jptdJeY"
      },
      "source": [
        "arr = [1,1,3,3,0,1,1]\r\n",
        "# answer = [1,3,0,1]"
      ],
      "execution_count": 23,
      "outputs": []
    },
    {
      "cell_type": "code",
      "metadata": {
        "colab": {
          "base_uri": "https://localhost:8080/"
        },
        "id": "8qIGJZnTdOtn",
        "outputId": "4b61ae77-4e5d-49f2-9e95-62b8d469619a"
      },
      "source": [
        "answer = []\r\n",
        "for i in arr:\r\n",
        "    if len(answer) == 0:\r\n",
        "        answer.append(i)\r\n",
        "    else:\r\n",
        "        if i != answer[len(answer)-1]:\r\n",
        "            answer.append(i)\r\n",
        "        else:\r\n",
        "            pass\r\n",
        "answer"
      ],
      "execution_count": 24,
      "outputs": [
        {
          "output_type": "execute_result",
          "data": {
            "text/plain": [
              "[1, 3, 0, 1]"
            ]
          },
          "metadata": {
            "tags": []
          },
          "execution_count": 24
        }
      ]
    },
    {
      "cell_type": "code",
      "metadata": {
        "id": "jlHeG0F2eCZl"
      },
      "source": [
        "def solution(arr):\r\n",
        "    answer = []\r\n",
        "    for i in arr:\r\n",
        "        if len(answer) == 0:\r\n",
        "            answer.append(i)\r\n",
        "        else:\r\n",
        "            if i != answer[len(answer)-1]:\r\n",
        "                answer.append(i)\r\n",
        "            else:\r\n",
        "                pass\r\n",
        "    return answer"
      ],
      "execution_count": 25,
      "outputs": []
    },
    {
      "cell_type": "code",
      "metadata": {
        "colab": {
          "base_uri": "https://localhost:8080/"
        },
        "id": "PK6Att4meG4X",
        "outputId": "b70f0d89-0623-4217-ee2c-013bd0f189c7"
      },
      "source": [
        "solution(arr)"
      ],
      "execution_count": 26,
      "outputs": [
        {
          "output_type": "execute_result",
          "data": {
            "text/plain": [
              "[1, 3, 0, 1]"
            ]
          },
          "metadata": {
            "tags": []
          },
          "execution_count": 26
        }
      ]
    },
    {
      "cell_type": "code",
      "metadata": {
        "id": "AYQlEy2Kei9r"
      },
      "source": [
        "# 다른 풀이\r\n",
        "def no_continuous(s):\r\n",
        "    a = []\r\n",
        "    for i in s:\r\n",
        "        if a[-1:] == [i]: continue #[-1:]을 하면 빈 배열도 에러 안뜸\r\n",
        "        a.append(i)\r\n",
        "    return a\r\n",
        "    # 슬라이싱은 인덱스 범위 초과해도 에러 안뜸"
      ],
      "execution_count": 27,
      "outputs": []
    },
    {
      "cell_type": "markdown",
      "metadata": {
        "id": "1KwX7o3RgWZ3"
      },
      "source": [
        "### 나누어 떨어지는 숫자 배열"
      ]
    },
    {
      "cell_type": "code",
      "metadata": {
        "id": "kLEKuaUCgYVs"
      },
      "source": [
        "arr = [5, 9, 7, 10]\r\n",
        "divisor = 5\r\n",
        "# return = [5, 10]"
      ],
      "execution_count": 28,
      "outputs": []
    },
    {
      "cell_type": "code",
      "metadata": {
        "colab": {
          "base_uri": "https://localhost:8080/"
        },
        "id": "EcPmc9DDYnb-",
        "outputId": "c40bbc11-cdcd-47a2-bf7b-0a5a2874f24e"
      },
      "source": [
        "lis = []\r\n",
        "for i in arr:\r\n",
        "    if i % divisor == 0:\r\n",
        "        lis.append(i)\r\n",
        "if len(lis) == 0:\r\n",
        "    lis = [-1]\r\n",
        "sorted(lis)"
      ],
      "execution_count": 29,
      "outputs": [
        {
          "output_type": "execute_result",
          "data": {
            "text/plain": [
              "[5, 10]"
            ]
          },
          "metadata": {
            "tags": []
          },
          "execution_count": 29
        }
      ]
    },
    {
      "cell_type": "code",
      "metadata": {
        "id": "5rAzcmEDZGxW"
      },
      "source": [
        "def solution(arr, divisor):\r\n",
        "    lis = []\r\n",
        "    for i in arr:\r\n",
        "        if i % divisor == 0:\r\n",
        "            lis.append(i)\r\n",
        "    if len(lis) == 0:\r\n",
        "        lis = [-1]\r\n",
        "    return sorted(lis)"
      ],
      "execution_count": 30,
      "outputs": []
    },
    {
      "cell_type": "code",
      "metadata": {
        "colab": {
          "base_uri": "https://localhost:8080/"
        },
        "id": "Y7iI9dg4ZITG",
        "outputId": "71530676-6389-4ed9-da12-1bd0796057f9"
      },
      "source": [
        "solution(arr, divisor)"
      ],
      "execution_count": 31,
      "outputs": [
        {
          "output_type": "execute_result",
          "data": {
            "text/plain": [
              "[5, 10]"
            ]
          },
          "metadata": {
            "tags": []
          },
          "execution_count": 31
        }
      ]
    },
    {
      "cell_type": "code",
      "metadata": {
        "id": "2AmycfJ6ZewK"
      },
      "source": [
        "# 다른 풀이\r\n",
        "def solution(arr, divisor):\r\n",
        "    return sorted([n for n in arr if n%divisor == 0]) or [-1] # 앞에꺼가 거짓이면 뒤에 [-1] 출력"
      ],
      "execution_count": 32,
      "outputs": []
    }
  ]
}