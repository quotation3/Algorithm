{
  "nbformat": 4,
  "nbformat_minor": 0,
  "metadata": {
    "colab": {
      "name": "Level1_programmers_2.ipynb",
      "provenance": [],
      "collapsed_sections": [],
      "authorship_tag": "ABX9TyMeXZxs6knVSV77OyI3nZ9+",
      "include_colab_link": true
    },
    "kernelspec": {
      "name": "python3",
      "display_name": "Python 3"
    }
  },
  "cells": [
    {
      "cell_type": "markdown",
      "metadata": {
        "id": "view-in-github",
        "colab_type": "text"
      },
      "source": [
        "<a href=\"https://colab.research.google.com/github/quotation3/Algorithm/blob/master/Level1_programmers_2.ipynb\" target=\"_parent\"><img src=\"https://colab.research.google.com/assets/colab-badge.svg\" alt=\"Open In Colab\"/></a>"
      ]
    },
    {
      "cell_type": "markdown",
      "metadata": {
        "id": "ptCwi_xEsyAl"
      },
      "source": [
        "### 2016년"
      ]
    },
    {
      "cell_type": "code",
      "metadata": {
        "id": "_45FxJJhsv23"
      },
      "source": [
        "a = 5\r\n",
        "b = 24\r\n",
        "# result = 'TUE'"
      ],
      "execution_count": 3,
      "outputs": []
    },
    {
      "cell_type": "code",
      "metadata": {
        "colab": {
          "base_uri": "https://localhost:8080/",
          "height": 35
        },
        "id": "xsiveMcLthB7",
        "outputId": "f50902d6-3c54-405a-950b-a142ebe57ecc"
      },
      "source": [
        "day = ['THU','FRI','SAT','SUN','MON','TUE','WED']\r\n",
        "month = [31,29,31,30,31,30,31,31,30,31,30,31]\r\n",
        "stack_day = sum(month[:a-1])+b\r\n",
        "answer= day[stack_day%7]\r\n",
        "answer"
      ],
      "execution_count": 4,
      "outputs": [
        {
          "output_type": "execute_result",
          "data": {
            "application/vnd.google.colaboratory.intrinsic+json": {
              "type": "string"
            },
            "text/plain": [
              "'TUE'"
            ]
          },
          "metadata": {
            "tags": []
          },
          "execution_count": 4
        }
      ]
    },
    {
      "cell_type": "code",
      "metadata": {
        "id": "QVz6-Jq1wcKN"
      },
      "source": [
        "def solution(a, b):\r\n",
        "    day = ['THU','FRI','SAT','SUN','MON','TUE','WED']\r\n",
        "    month = [31,29,31,30,31,30,31,31,30,31,30,31]\r\n",
        "    stack_day = sum(month[:a-1])+b\r\n",
        "    answer= day[stack_day%7]\r\n",
        "    return answer"
      ],
      "execution_count": 5,
      "outputs": []
    },
    {
      "cell_type": "code",
      "metadata": {
        "colab": {
          "base_uri": "https://localhost:8080/",
          "height": 35
        },
        "id": "WH-dYIFHwh1H",
        "outputId": "f08294b4-44a0-489d-baee-6b7064c5f9b9"
      },
      "source": [
        "solution(a, b)"
      ],
      "execution_count": 6,
      "outputs": [
        {
          "output_type": "execute_result",
          "data": {
            "application/vnd.google.colaboratory.intrinsic+json": {
              "type": "string"
            },
            "text/plain": [
              "'TUE'"
            ]
          },
          "metadata": {
            "tags": []
          },
          "execution_count": 6
        }
      ]
    },
    {
      "cell_type": "code",
      "metadata": {
        "id": "Dh4_yegqxYZu"
      },
      "source": [
        "# 함수 활용\r\n",
        "import datetime\r\n",
        "\r\n",
        "def getDayName(a,b):\r\n",
        "    t = 'MON TUE WED THU FRI SAT SUN'.split()\r\n",
        "    return t[datetime.datetime(2016, a, b).weekday()]"
      ],
      "execution_count": null,
      "outputs": []
    },
    {
      "cell_type": "markdown",
      "metadata": {
        "id": "9kn-3xVfyNJ2"
      },
      "source": [
        "### 3진법 뒤집기"
      ]
    },
    {
      "cell_type": "code",
      "metadata": {
        "id": "XhVm2n5KyOxy"
      },
      "source": [
        "n = 45\r\n",
        "# result = 7"
      ],
      "execution_count": 34,
      "outputs": []
    },
    {
      "cell_type": "code",
      "metadata": {
        "colab": {
          "base_uri": "https://localhost:8080/"
        },
        "id": "Qe7U9RmW6tMz",
        "outputId": "7ec5f52d-f7b6-432a-b24a-27425aac3780"
      },
      "source": [
        "lis = []\r\n",
        "while n>=1:\r\n",
        "    lis.append(str(n%3)) # 3으로 나눈 나머지를 리스트에 넣어준다\r\n",
        "    n = n//3\r\n",
        "# 거꾸로 넣어줘야하는데 다시 반전해야하므로 그냥 변환시킨다\r\n",
        "int(''.join(lis),3)"
      ],
      "execution_count": 31,
      "outputs": [
        {
          "output_type": "execute_result",
          "data": {
            "text/plain": [
              "7"
            ]
          },
          "metadata": {
            "tags": []
          },
          "execution_count": 31
        }
      ]
    },
    {
      "cell_type": "code",
      "metadata": {
        "id": "VSicWxSq9Kne"
      },
      "source": [
        "def solution(n):\r\n",
        "    lis = []\r\n",
        "    while n>=1:\r\n",
        "        lis.append(str(n%3))\r\n",
        "        n = n//3\r\n",
        "    answer = int(''.join(lis),3)\r\n",
        "    return answer"
      ],
      "execution_count": 32,
      "outputs": []
    },
    {
      "cell_type": "code",
      "metadata": {
        "colab": {
          "base_uri": "https://localhost:8080/"
        },
        "id": "PxKmwTMiEeZk",
        "outputId": "dae09e76-e384-46f0-c713-53a9d13909a5"
      },
      "source": [
        "solution(n)"
      ],
      "execution_count": 35,
      "outputs": [
        {
          "output_type": "execute_result",
          "data": {
            "text/plain": [
              "7"
            ]
          },
          "metadata": {
            "tags": []
          },
          "execution_count": 35
        }
      ]
    }
  ]
}