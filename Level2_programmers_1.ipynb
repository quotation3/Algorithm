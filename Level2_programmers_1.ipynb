{
  "nbformat": 4,
  "nbformat_minor": 0,
  "metadata": {
    "colab": {
      "name": "Level2_programmers_1.ipynb",
      "provenance": [],
      "collapsed_sections": [],
      "authorship_tag": "ABX9TyPN35OnzG9WRl1WmzCBvzXO",
      "include_colab_link": true
    },
    "kernelspec": {
      "name": "python3",
      "display_name": "Python 3"
    }
  },
  "cells": [
    {
      "cell_type": "markdown",
      "metadata": {
        "id": "view-in-github",
        "colab_type": "text"
      },
      "source": [
        "<a href=\"https://colab.research.google.com/github/quotation3/Algorithm/blob/master/Level2_programmers_1.ipynb\" target=\"_parent\"><img src=\"https://colab.research.google.com/assets/colab-badge.svg\" alt=\"Open In Colab\"/></a>"
      ]
    },
    {
      "cell_type": "markdown",
      "metadata": {
        "id": "ygzvQ0v8jM_9"
      },
      "source": [
        "### 멀쩡한 사각형"
      ]
    },
    {
      "cell_type": "code",
      "metadata": {
        "id": "I0P46eIujToB"
      },
      "source": [
        "w = 8\r\n",
        "h = 12\r\n",
        "# result 80"
      ],
      "execution_count": null,
      "outputs": []
    },
    {
      "cell_type": "code",
      "metadata": {
        "id": "ZEBcoGOxjQGS"
      },
      "source": [
        "import math\r\n",
        "def solution(w,h):\r\n",
        "    return w*h-(w+h-math.gcd(w,h))"
      ],
      "execution_count": null,
      "outputs": []
    },
    {
      "cell_type": "code",
      "metadata": {
        "colab": {
          "base_uri": "https://localhost:8080/"
        },
        "id": "WNBsn7kHjaij",
        "outputId": "7d75a3bf-e4ab-4b85-d519-a35079d966bf"
      },
      "source": [
        "solution(w,h)"
      ],
      "execution_count": null,
      "outputs": [
        {
          "output_type": "execute_result",
          "data": {
            "text/plain": [
              "80"
            ]
          },
          "metadata": {
            "tags": []
          },
          "execution_count": 34
        }
      ]
    },
    {
      "cell_type": "markdown",
      "metadata": {
        "id": "0HZqm39rVCZ6"
      },
      "source": [
        "### 프린터"
      ]
    },
    {
      "cell_type": "code",
      "metadata": {
        "id": "_iSWGfaaGa8j"
      },
      "source": [
        "priorities = [2, 1, 3, 2]\r\n",
        "location =2 \r\n",
        "#return 1"
      ],
      "execution_count": null,
      "outputs": []
    },
    {
      "cell_type": "code",
      "metadata": {
        "id": "TlxhyKD9eljZ"
      },
      "source": [
        "from collections import deque\r\n",
        "\r\n",
        "def solution(priorities, location):\r\n",
        "  answer = 0\r\n",
        "  d = deque([(v,i) for i,v in enumerate(priorities)])\r\n",
        "\r\n",
        "  while len(d):\r\n",
        "      item = d.popleft()\r\n",
        "      if d and max(d)[0] > item[0]:\r\n",
        "          d.append(item)\r\n",
        "      else:\r\n",
        "          answer += 1\r\n",
        "          if item[1] == location:\r\n",
        "              break\r\n",
        "  return answer"
      ],
      "execution_count": null,
      "outputs": []
    },
    {
      "cell_type": "code",
      "metadata": {
        "colab": {
          "base_uri": "https://localhost:8080/"
        },
        "id": "NEWTDvfJjc6Q",
        "outputId": "ef10475d-d06d-4060-bd91-45c70eec5edb"
      },
      "source": [
        "solution(priorities, location)"
      ],
      "execution_count": null,
      "outputs": [
        {
          "output_type": "execute_result",
          "data": {
            "text/plain": [
              "1"
            ]
          },
          "metadata": {
            "tags": []
          },
          "execution_count": 37
        }
      ]
    },
    {
      "cell_type": "markdown",
      "metadata": {
        "id": "BM2liypGjmfJ"
      },
      "source": [
        "### 다리를 지나는 트럭"
      ]
    },
    {
      "cell_type": "code",
      "metadata": {
        "id": "S25P2e7_joC4"
      },
      "source": [
        "bridge_length = 2\r\n",
        "weight = 10\r\n",
        "truck_weights = [7,4,5,6]\r\n",
        "# return 8"
      ],
      "execution_count": null,
      "outputs": []
    },
    {
      "cell_type": "code",
      "metadata": {
        "id": "ft1Qwf2RjyLP"
      },
      "source": [
        "def solution(bridge_length, weight, truck_weights):\r\n",
        "    time = 0\r\n",
        "    q = [0] * bridge_length\r\n",
        "    \r\n",
        "    while q: # q가 존재할때까지\r\n",
        "        time += 1\r\n",
        "        q.pop(0)\r\n",
        "        if truck_weights: # 트럭이 있을 때까지\r\n",
        "            if sum(q) + truck_weights[0] <= weight:\r\n",
        "                q.append(truck_weights.pop(0))\r\n",
        "            else:\r\n",
        "                q.append(0)\r\n",
        "        # 트럭이 없으면 q없어지므로 while문 종료\r\n",
        "    return time"
      ],
      "execution_count": null,
      "outputs": []
    },
    {
      "cell_type": "code",
      "metadata": {
        "colab": {
          "base_uri": "https://localhost:8080/"
        },
        "id": "G-3MZulOjz-X",
        "outputId": "b9ef74cb-8e86-42ea-860f-0dd789ce46fb"
      },
      "source": [
        "solution(bridge_length, weight, truck_weights)"
      ],
      "execution_count": null,
      "outputs": [
        {
          "output_type": "execute_result",
          "data": {
            "text/plain": [
              "2"
            ]
          },
          "metadata": {
            "tags": []
          },
          "execution_count": 42
        }
      ]
    },
    {
      "cell_type": "markdown",
      "metadata": {
        "id": "z-h_MGMNAMKe"
      },
      "source": [
        "### 스킬트리"
      ]
    },
    {
      "cell_type": "code",
      "metadata": {
        "id": "cbYdAegUAP2r"
      },
      "source": [
        "skill = 'CBD'\r\n",
        "skill_trees = ['BACDE', 'CBADF', 'AECB', 'BDA']\r\n",
        "# return 2"
      ],
      "execution_count": 73,
      "outputs": []
    },
    {
      "cell_type": "code",
      "metadata": {
        "id": "_kekF3TwF5no"
      },
      "source": [
        "def solution(skill, skill_trees):\r\n",
        "    answer = 0\r\n",
        "    skill = list(skill)\r\n",
        "    flag = []\r\n",
        "    for i in skill_trees:\r\n",
        "        # 가능한 스킬인지 검증 \r\n",
        "        post_skill_trees = []\r\n",
        "        for j in list(i):\r\n",
        "            if j in skill:\r\n",
        "                post_skill_trees.append(j) # skill_trees 단어중에서 skill의 스펠링과 겹치는 것만 리스트화\r\n",
        "        \r\n",
        "        for idx, j in enumerate(post_skill_trees): # 만든 리스트의 인덱스 비교\r\n",
        "            if j != skill[idx]:\r\n",
        "                flag.append(-1)\r\n",
        "                break\r\n",
        "        \r\n",
        "    return len(skill_trees) + sum(flag)"
      ],
      "execution_count": 55,
      "outputs": []
    },
    {
      "cell_type": "code",
      "metadata": {
        "colab": {
          "base_uri": "https://localhost:8080/"
        },
        "id": "44XMk9KsSI0r",
        "outputId": "50753146-7dd1-4642-9523-2a31fea2e231"
      },
      "source": [
        "solution(skill, skill_trees)"
      ],
      "execution_count": 56,
      "outputs": [
        {
          "output_type": "execute_result",
          "data": {
            "text/plain": [
              "2"
            ]
          },
          "metadata": {
            "tags": []
          },
          "execution_count": 56
        }
      ]
    },
    {
      "cell_type": "code",
      "metadata": {
        "id": "22jc2j9dR29N"
      },
      "source": [
        "def solution(skill, skill_trees):\r\n",
        "    answer = 0\r\n",
        "\r\n",
        "    for skills in skill_trees:\r\n",
        "        skill_list = list(skill)\r\n",
        "\r\n",
        "        for s in skills:\r\n",
        "            if s in skill:\r\n",
        "                if s != skill_list.pop(0):\r\n",
        "                    break\r\n",
        "        else:\r\n",
        "            answer += 1\r\n",
        "\r\n",
        "    return answer"
      ],
      "execution_count": 72,
      "outputs": []
    },
    {
      "cell_type": "code",
      "metadata": {
        "id": "CUaOsypfVnCS",
        "outputId": "15ed51f2-0ff3-40fd-fb9f-a6e682b0e9c2",
        "colab": {
          "base_uri": "https://localhost:8080/"
        }
      },
      "source": [
        "solution(skill, skill_trees)"
      ],
      "execution_count": 75,
      "outputs": [
        {
          "output_type": "execute_result",
          "data": {
            "text/plain": [
              "2"
            ]
          },
          "metadata": {
            "tags": []
          },
          "execution_count": 75
        }
      ]
    }
  ]
}