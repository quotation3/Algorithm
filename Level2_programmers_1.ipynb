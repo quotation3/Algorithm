{
  "nbformat": 4,
  "nbformat_minor": 0,
  "metadata": {
    "colab": {
      "name": "Level2_programmers_1.ipynb",
      "provenance": [],
      "collapsed_sections": [],
      "authorship_tag": "ABX9TyPgB3qPSlPbsOcloTXyrMP+",
      "include_colab_link": true
    },
    "kernelspec": {
      "name": "python3",
      "display_name": "Python 3"
    }
  },
  "cells": [
    {
      "cell_type": "markdown",
      "metadata": {
        "id": "view-in-github",
        "colab_type": "text"
      },
      "source": [
        "<a href=\"https://colab.research.google.com/github/quotation3/Algorithm/blob/master/Level2_programmers_1.ipynb\" target=\"_parent\"><img src=\"https://colab.research.google.com/assets/colab-badge.svg\" alt=\"Open In Colab\"/></a>"
      ]
    },
    {
      "cell_type": "markdown",
      "metadata": {
        "id": "ygzvQ0v8jM_9"
      },
      "source": [
        "### 멀쩡한 사각형"
      ]
    },
    {
      "cell_type": "code",
      "metadata": {
        "id": "I0P46eIujToB"
      },
      "source": [
        "w = 8\r\n",
        "h = 12\r\n",
        "# result 80"
      ],
      "execution_count": 33,
      "outputs": []
    },
    {
      "cell_type": "code",
      "metadata": {
        "id": "ZEBcoGOxjQGS"
      },
      "source": [
        "import math\r\n",
        "def solution(w,h):\r\n",
        "    return w*h-(w+h-math.gcd(w,h))"
      ],
      "execution_count": 32,
      "outputs": []
    },
    {
      "cell_type": "code",
      "metadata": {
        "colab": {
          "base_uri": "https://localhost:8080/"
        },
        "id": "WNBsn7kHjaij",
        "outputId": "7d75a3bf-e4ab-4b85-d519-a35079d966bf"
      },
      "source": [
        "solution(w,h)"
      ],
      "execution_count": 34,
      "outputs": [
        {
          "output_type": "execute_result",
          "data": {
            "text/plain": [
              "80"
            ]
          },
          "metadata": {
            "tags": []
          },
          "execution_count": 34
        }
      ]
    },
    {
      "cell_type": "markdown",
      "metadata": {
        "id": "0HZqm39rVCZ6"
      },
      "source": [
        "### 프린터"
      ]
    },
    {
      "cell_type": "code",
      "metadata": {
        "id": "_iSWGfaaGa8j"
      },
      "source": [
        "priorities = [2, 1, 3, 2]\r\n",
        "location =2 \r\n",
        "#return 1"
      ],
      "execution_count": 35,
      "outputs": []
    },
    {
      "cell_type": "code",
      "metadata": {
        "id": "TlxhyKD9eljZ"
      },
      "source": [
        "from collections import deque\r\n",
        "\r\n",
        "def solution(priorities, location):\r\n",
        "  answer = 0\r\n",
        "  d = deque([(v,i) for i,v in enumerate(priorities)])\r\n",
        "\r\n",
        "  while len(d):\r\n",
        "      item = d.popleft()\r\n",
        "      if d and max(d)[0] > item[0]:\r\n",
        "          d.append(item)\r\n",
        "      else:\r\n",
        "          answer += 1\r\n",
        "          if item[1] == location:\r\n",
        "              break\r\n",
        "  return answer"
      ],
      "execution_count": 36,
      "outputs": []
    },
    {
      "cell_type": "code",
      "metadata": {
        "colab": {
          "base_uri": "https://localhost:8080/"
        },
        "id": "NEWTDvfJjc6Q",
        "outputId": "ef10475d-d06d-4060-bd91-45c70eec5edb"
      },
      "source": [
        "solution(priorities, location)"
      ],
      "execution_count": 37,
      "outputs": [
        {
          "output_type": "execute_result",
          "data": {
            "text/plain": [
              "1"
            ]
          },
          "metadata": {
            "tags": []
          },
          "execution_count": 37
        }
      ]
    },
    {
      "cell_type": "markdown",
      "metadata": {
        "id": "BM2liypGjmfJ"
      },
      "source": [
        "### 다리를 지나는 트럭"
      ]
    },
    {
      "cell_type": "code",
      "metadata": {
        "id": "S25P2e7_joC4"
      },
      "source": [
        "bridge_length = 2\r\n",
        "weight = 10\r\n",
        "truck_weights = [7,4,5,6]\r\n",
        "# return 8"
      ],
      "execution_count": 38,
      "outputs": []
    },
    {
      "cell_type": "code",
      "metadata": {
        "id": "ft1Qwf2RjyLP"
      },
      "source": [
        "def solution(bridge_length, weight, truck_weights):\r\n",
        "    time = 0\r\n",
        "    q = [0] * bridge_length\r\n",
        "    \r\n",
        "    while q: # q가 존재할때까지\r\n",
        "        time += 1\r\n",
        "        q.pop(0)\r\n",
        "        if truck_weights: # 트럭이 있을 때까지\r\n",
        "            if sum(q) + truck_weights[0] <= weight:\r\n",
        "                q.append(truck_weights.pop(0))\r\n",
        "            else:\r\n",
        "                q.append(0)\r\n",
        "        # 트럭이 없으면 q없어지므로 while문 종료\r\n",
        "    return time"
      ],
      "execution_count": 41,
      "outputs": []
    },
    {
      "cell_type": "code",
      "metadata": {
        "colab": {
          "base_uri": "https://localhost:8080/"
        },
        "id": "G-3MZulOjz-X",
        "outputId": "b9ef74cb-8e86-42ea-860f-0dd789ce46fb"
      },
      "source": [
        "solution(bridge_length, weight, truck_weights)"
      ],
      "execution_count": 42,
      "outputs": [
        {
          "output_type": "execute_result",
          "data": {
            "text/plain": [
              "2"
            ]
          },
          "metadata": {
            "tags": []
          },
          "execution_count": 42
        }
      ]
    }
  ]
}