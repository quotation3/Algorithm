{
  "nbformat": 4,
  "nbformat_minor": 0,
  "metadata": {
    "colab": {
      "name": "Level2_programmers_1.ipynb",
      "provenance": [],
      "collapsed_sections": [],
      "authorship_tag": "ABX9TyO/OFDLSEV6QiESe7QT8dxO",
      "include_colab_link": true
    },
    "kernelspec": {
      "name": "python3",
      "display_name": "Python 3"
    }
  },
  "cells": [
    {
      "cell_type": "markdown",
      "metadata": {
        "id": "view-in-github",
        "colab_type": "text"
      },
      "source": [
        "<a href=\"https://colab.research.google.com/github/quotation3/Algorithm/blob/master/Level2_programmers_1.ipynb\" target=\"_parent\"><img src=\"https://colab.research.google.com/assets/colab-badge.svg\" alt=\"Open In Colab\"/></a>"
      ]
    },
    {
      "cell_type": "markdown",
      "metadata": {
        "id": "ygzvQ0v8jM_9"
      },
      "source": [
        "### 멀쩡한 사각형"
      ]
    },
    {
      "cell_type": "code",
      "metadata": {
        "id": "I0P46eIujToB"
      },
      "source": [
        "w = 8\r\n",
        "h = 12\r\n",
        "# result 80"
      ],
      "execution_count": null,
      "outputs": []
    },
    {
      "cell_type": "code",
      "metadata": {
        "id": "ZEBcoGOxjQGS"
      },
      "source": [
        "import math\r\n",
        "def solution(w,h):\r\n",
        "    return w*h-(w+h-math.gcd(w,h))"
      ],
      "execution_count": null,
      "outputs": []
    },
    {
      "cell_type": "code",
      "metadata": {
        "colab": {
          "base_uri": "https://localhost:8080/"
        },
        "id": "WNBsn7kHjaij",
        "outputId": "7d75a3bf-e4ab-4b85-d519-a35079d966bf"
      },
      "source": [
        "solution(w,h)"
      ],
      "execution_count": null,
      "outputs": [
        {
          "output_type": "execute_result",
          "data": {
            "text/plain": [
              "80"
            ]
          },
          "metadata": {
            "tags": []
          },
          "execution_count": 34
        }
      ]
    },
    {
      "cell_type": "markdown",
      "metadata": {
        "id": "0HZqm39rVCZ6"
      },
      "source": [
        "### 프린터"
      ]
    },
    {
      "cell_type": "code",
      "metadata": {
        "id": "_iSWGfaaGa8j"
      },
      "source": [
        "priorities = [2, 1, 3, 2]\r\n",
        "location =2 \r\n",
        "#return 1"
      ],
      "execution_count": null,
      "outputs": []
    },
    {
      "cell_type": "code",
      "metadata": {
        "id": "TlxhyKD9eljZ"
      },
      "source": [
        "from collections import deque\r\n",
        "\r\n",
        "def solution(priorities, location):\r\n",
        "  answer = 0\r\n",
        "  d = deque([(v,i) for i,v in enumerate(priorities)])\r\n",
        "\r\n",
        "  while len(d):\r\n",
        "      item = d.popleft()\r\n",
        "      if d and max(d)[0] > item[0]:\r\n",
        "          d.append(item)\r\n",
        "      else:\r\n",
        "          answer += 1\r\n",
        "          if item[1] == location:\r\n",
        "              break\r\n",
        "  return answer"
      ],
      "execution_count": null,
      "outputs": []
    },
    {
      "cell_type": "code",
      "metadata": {
        "colab": {
          "base_uri": "https://localhost:8080/"
        },
        "id": "NEWTDvfJjc6Q",
        "outputId": "ef10475d-d06d-4060-bd91-45c70eec5edb"
      },
      "source": [
        "solution(priorities, location)"
      ],
      "execution_count": null,
      "outputs": [
        {
          "output_type": "execute_result",
          "data": {
            "text/plain": [
              "1"
            ]
          },
          "metadata": {
            "tags": []
          },
          "execution_count": 37
        }
      ]
    },
    {
      "cell_type": "markdown",
      "metadata": {
        "id": "BM2liypGjmfJ"
      },
      "source": [
        "### 다리를 지나는 트럭"
      ]
    },
    {
      "cell_type": "code",
      "metadata": {
        "id": "S25P2e7_joC4"
      },
      "source": [
        "bridge_length = 2\r\n",
        "weight = 10\r\n",
        "truck_weights = [7,4,5,6]\r\n",
        "# return 8"
      ],
      "execution_count": null,
      "outputs": []
    },
    {
      "cell_type": "code",
      "metadata": {
        "id": "ft1Qwf2RjyLP"
      },
      "source": [
        "def solution(bridge_length, weight, truck_weights):\r\n",
        "    time = 0\r\n",
        "    q = [0] * bridge_length\r\n",
        "    \r\n",
        "    while q: # q가 존재할때까지\r\n",
        "        time += 1\r\n",
        "        q.pop(0)\r\n",
        "        if truck_weights: # 트럭이 있을 때까지\r\n",
        "            if sum(q) + truck_weights[0] <= weight:\r\n",
        "                q.append(truck_weights.pop(0))\r\n",
        "            else:\r\n",
        "                q.append(0)\r\n",
        "        # 트럭이 없으면 q없어지므로 while문 종료\r\n",
        "    return time"
      ],
      "execution_count": null,
      "outputs": []
    },
    {
      "cell_type": "code",
      "metadata": {
        "colab": {
          "base_uri": "https://localhost:8080/"
        },
        "id": "G-3MZulOjz-X",
        "outputId": "b9ef74cb-8e86-42ea-860f-0dd789ce46fb"
      },
      "source": [
        "solution(bridge_length, weight, truck_weights)"
      ],
      "execution_count": null,
      "outputs": [
        {
          "output_type": "execute_result",
          "data": {
            "text/plain": [
              "2"
            ]
          },
          "metadata": {
            "tags": []
          },
          "execution_count": 42
        }
      ]
    },
    {
      "cell_type": "markdown",
      "metadata": {
        "id": "z-h_MGMNAMKe"
      },
      "source": [
        "### 스킬트리"
      ]
    },
    {
      "cell_type": "code",
      "metadata": {
        "id": "cbYdAegUAP2r"
      },
      "source": [
        "skill = 'CBD'\r\n",
        "skill_trees = ['BACDE', 'CBADF', 'AECB', 'BDA']\r\n",
        "# return 2"
      ],
      "execution_count": null,
      "outputs": []
    },
    {
      "cell_type": "code",
      "metadata": {
        "id": "_kekF3TwF5no"
      },
      "source": [
        "def solution(skill, skill_trees):\r\n",
        "    answer = 0\r\n",
        "    skill = list(skill)\r\n",
        "    flag = []\r\n",
        "    for i in skill_trees:\r\n",
        "        # 가능한 스킬인지 검증 \r\n",
        "        post_skill_trees = []\r\n",
        "        for j in list(i):\r\n",
        "            if j in skill:\r\n",
        "                post_skill_trees.append(j) # skill_trees 단어중에서 skill의 스펠링과 겹치는 것만 리스트화\r\n",
        "        \r\n",
        "        for idx, j in enumerate(post_skill_trees): # 만든 리스트의 인덱스 비교\r\n",
        "            if j != skill[idx]:\r\n",
        "                flag.append(-1)\r\n",
        "                break\r\n",
        "        \r\n",
        "    return len(skill_trees) + sum(flag)"
      ],
      "execution_count": null,
      "outputs": []
    },
    {
      "cell_type": "code",
      "metadata": {
        "colab": {
          "base_uri": "https://localhost:8080/"
        },
        "id": "44XMk9KsSI0r",
        "outputId": "50753146-7dd1-4642-9523-2a31fea2e231"
      },
      "source": [
        "solution(skill, skill_trees)"
      ],
      "execution_count": null,
      "outputs": [
        {
          "output_type": "execute_result",
          "data": {
            "text/plain": [
              "2"
            ]
          },
          "metadata": {
            "tags": []
          },
          "execution_count": 56
        }
      ]
    },
    {
      "cell_type": "code",
      "metadata": {
        "id": "22jc2j9dR29N"
      },
      "source": [
        "def solution(skill, skill_trees):\r\n",
        "    answer = 0\r\n",
        "\r\n",
        "    for skills in skill_trees:\r\n",
        "        skill_list = list(skill)\r\n",
        "\r\n",
        "        for s in skills:\r\n",
        "            if s in skill:\r\n",
        "                if s != skill_list.pop(0):\r\n",
        "                    break\r\n",
        "        else:\r\n",
        "            answer += 1\r\n",
        "\r\n",
        "    return answer"
      ],
      "execution_count": null,
      "outputs": []
    },
    {
      "cell_type": "code",
      "metadata": {
        "colab": {
          "base_uri": "https://localhost:8080/"
        },
        "id": "CUaOsypfVnCS",
        "outputId": "15ed51f2-0ff3-40fd-fb9f-a6e682b0e9c2"
      },
      "source": [
        "solution(skill, skill_trees)"
      ],
      "execution_count": null,
      "outputs": [
        {
          "output_type": "execute_result",
          "data": {
            "text/plain": [
              "2"
            ]
          },
          "metadata": {
            "tags": []
          },
          "execution_count": 75
        }
      ]
    },
    {
      "cell_type": "code",
      "metadata": {
        "id": "IXyJMhNzV0XS"
      },
      "source": [
        "def solution(skill,skill_tree):\r\n",
        "    answer=0\r\n",
        "    for i in skill_tree:\r\n",
        "        skillist=''\r\n",
        "        for z in i:\r\n",
        "            if z in skill:\r\n",
        "                skillist+=z\r\n",
        "        if skillist==skill[0:len(skillist)]:\r\n",
        "            answer+=1\r\n",
        "    return answer"
      ],
      "execution_count": null,
      "outputs": []
    },
    {
      "cell_type": "code",
      "metadata": {
        "colab": {
          "base_uri": "https://localhost:8080/"
        },
        "id": "IsrE6Y8TV1s5",
        "outputId": "61010439-3eba-497e-ac67-d03a08f87fb6"
      },
      "source": [
        "solution(skill, skill_trees)"
      ],
      "execution_count": null,
      "outputs": [
        {
          "output_type": "execute_result",
          "data": {
            "text/plain": [
              "2"
            ]
          },
          "metadata": {
            "tags": []
          },
          "execution_count": 77
        }
      ]
    },
    {
      "cell_type": "markdown",
      "metadata": {
        "id": "pqHeAj1m8i7Q"
      },
      "source": [
        "### 124나라의 숫자"
      ]
    },
    {
      "cell_type": "code",
      "metadata": {
        "id": "RGQfzLw-8y91"
      },
      "source": [
        "n = 4\r\n",
        "# result 11"
      ],
      "execution_count": null,
      "outputs": []
    },
    {
      "cell_type": "code",
      "metadata": {
        "id": "5ovlJy_08k34"
      },
      "source": [
        "def solution(n):\r\n",
        "    if n<=3:\r\n",
        "        return '124'[n-1]\r\n",
        "    else:\r\n",
        "        q,r = divmod(n-1,3)\r\n",
        "        return solution(q) + '124'[r]"
      ],
      "execution_count": null,
      "outputs": []
    },
    {
      "cell_type": "code",
      "metadata": {
        "colab": {
          "base_uri": "https://localhost:8080/",
          "height": 35
        },
        "id": "Yq8Yczpc84Ni",
        "outputId": "b4f3dd2f-af5d-45aa-c4b4-7cd5f612acea"
      },
      "source": [
        "solution(n)"
      ],
      "execution_count": null,
      "outputs": [
        {
          "output_type": "execute_result",
          "data": {
            "application/vnd.google.colaboratory.intrinsic+json": {
              "type": "string"
            },
            "text/plain": [
              "'11'"
            ]
          },
          "metadata": {
            "tags": []
          },
          "execution_count": 5
        }
      ]
    },
    {
      "cell_type": "markdown",
      "metadata": {
        "id": "tyC43up2Jji2"
      },
      "source": [
        "### 문자열 압축"
      ]
    },
    {
      "cell_type": "code",
      "metadata": {
        "id": "uuAL7IeNJktG"
      },
      "source": [
        "s = 'aabbaccc'\r\n",
        "# result 7"
      ],
      "execution_count": null,
      "outputs": []
    },
    {
      "cell_type": "code",
      "metadata": {
        "id": "Tdr8lf01QRWx"
      },
      "source": [
        "def solution(s):\r\n",
        "    cand = [len(s)]\r\n",
        "\r\n",
        "    for size in range(1, len(s)):\r\n",
        "        compressed = \"\"\r\n",
        "        # string 갯수 단위로 쪼개기 *\r\n",
        "        splited = [s[i:i+size] for i in range(0, len(s), size)]\r\n",
        "        count = 1\r\n",
        "\r\n",
        "        for j in range(1, len(splited)):\r\n",
        "            if splited[j-1] == splited[j]:\r\n",
        "                count+=1\r\n",
        "            else:\r\n",
        "                if count>1:\r\n",
        "                    compressed += (str(count)+splited[j-1])\r\n",
        "        \r\n",
        "                else:\r\n",
        "                    compressed += splited[j-1]\r\n",
        "                count=1\r\n",
        "        \r\n",
        "        if count > 1:\r\n",
        "            compressed += (str(count) + splited[-1])\r\n",
        "        else:\r\n",
        "            compressed += splited[-1]\r\n",
        "        \r\n",
        "        cand.append(len(compressed))\r\n",
        "\r\n",
        "    return min(cand)"
      ],
      "execution_count": null,
      "outputs": []
    },
    {
      "cell_type": "code",
      "metadata": {
        "colab": {
          "base_uri": "https://localhost:8080/"
        },
        "id": "pJLBYW0vQc9Z",
        "outputId": "4d9c0850-e67a-4f11-943b-027554991cad"
      },
      "source": [
        "solution(s)"
      ],
      "execution_count": null,
      "outputs": [
        {
          "output_type": "execute_result",
          "data": {
            "text/plain": [
              "7"
            ]
          },
          "metadata": {
            "tags": []
          },
          "execution_count": 41
        }
      ]
    },
    {
      "cell_type": "markdown",
      "metadata": {
        "id": "VOpYrLF0uK_g"
      },
      "source": [
        "### 삼각 달팽이"
      ]
    },
    {
      "cell_type": "code",
      "metadata": {
        "id": "43geV0jbuN6i"
      },
      "source": [
        "n = 4\r\n",
        "# result [1,2,9,3,10,8,4,5,6,7]"
      ],
      "execution_count": null,
      "outputs": []
    },
    {
      "cell_type": "code",
      "metadata": {
        "colab": {
          "base_uri": "https://localhost:8080/"
        },
        "id": "bRkdzrP2uS4P",
        "outputId": "713eab58-6998-4e14-f29d-6d2ac36414c9"
      },
      "source": [
        "n=6\r\n",
        "lis = [[0] * n for _ in range(n)]\r\n",
        "lis"
      ],
      "execution_count": null,
      "outputs": [
        {
          "output_type": "execute_result",
          "data": {
            "text/plain": [
              "[[0, 0, 0, 0, 0, 0],\n",
              " [0, 0, 0, 0, 0, 0],\n",
              " [0, 0, 0, 0, 0, 0],\n",
              " [0, 0, 0, 0, 0, 0],\n",
              " [0, 0, 0, 0, 0, 0],\n",
              " [0, 0, 0, 0, 0, 0]]"
            ]
          },
          "metadata": {
            "tags": []
          },
          "execution_count": 8
        }
      ]
    },
    {
      "cell_type": "code",
      "metadata": {
        "id": "5q5ZzDnh0WuO"
      },
      "source": [
        "def solution(n):\r\n",
        "\r\n",
        "    li = [[0] * n for _ in range(n)] # n*n인 2차원 행렬\r\n",
        "    x, y = -1, 0\r\n",
        "    num = 1\r\n",
        "\r\n",
        "    for i in range(n):\r\n",
        "        for j in range(i, n):\r\n",
        "\r\n",
        "            if i % 3 == 0: # 3으로 나누어떨어지면 밑으로 +1\r\n",
        "                x += 1\r\n",
        "            elif i % 3 == 1: # 나머지가 1이면 옆으로 +1\r\n",
        "                y += 1\r\n",
        "            elif i % 3 == 2: # 나머지가 2이면 대각선 위로 -1\r\n",
        "                x -= 1\r\n",
        "                y -= 1\r\n",
        "\r\n",
        "            li[x][y] = num # num은 돌때마다 +1\r\n",
        "\r\n",
        "            num += 1\r\n",
        "    return [x for x in sum(li, []) if x != 0] # 2차원 행렬 flatten해서 0인 원소 제거"
      ],
      "execution_count": null,
      "outputs": []
    },
    {
      "cell_type": "code",
      "metadata": {
        "colab": {
          "base_uri": "https://localhost:8080/"
        },
        "id": "mPpbGwF10l03",
        "outputId": "432d042a-e605-44d8-ce73-c9969bd942c8"
      },
      "source": [
        "solution(4)"
      ],
      "execution_count": null,
      "outputs": [
        {
          "output_type": "execute_result",
          "data": {
            "text/plain": [
              "[1, 2, 9, 3, 10, 8, 4, 5, 6, 7]"
            ]
          },
          "metadata": {
            "tags": []
          },
          "execution_count": 30
        }
      ]
    },
    {
      "cell_type": "markdown",
      "metadata": {
        "id": "n4jC6r804yv6"
      },
      "source": [
        "큰 수 만들기"
      ]
    },
    {
      "cell_type": "code",
      "metadata": {
        "id": "q5IgzuT-4z3Q"
      },
      "source": [
        "number = '1231234'\r\n",
        "k = 3\r\n",
        "# return 3234"
      ],
      "execution_count": 62,
      "outputs": []
    },
    {
      "cell_type": "code",
      "metadata": {
        "id": "kP2m8aHKAcVz"
      },
      "source": [
        "# 실패\r\n",
        "# 작은 수를 날리는게 아니라 제일 큰 수가 앞에 와야함\r\n",
        "\r\n",
        "def solution(number, k):\r\n",
        "    answer = ''\r\n",
        "    li = list(map(int, list(number)))\r\n",
        "    ls = []\r\n",
        "    for idx, i in enumerate(li):\r\n",
        "        ls.append([idx,i])\r\n",
        "    mini = sorted(ls, key=lambda x: (x[1], x[0]))[:k]\r\n",
        "    idx_ls = []\r\n",
        "    for i in mini:\r\n",
        "        idx_ls.append(i[0])\r\n",
        "    for i in range(len(li)):\r\n",
        "        if i in idx_ls:\r\n",
        "            pass\r\n",
        "        else:\r\n",
        "            answer+=str(li[i])\r\n",
        "    return answer"
      ],
      "execution_count": 38,
      "outputs": []
    },
    {
      "cell_type": "code",
      "metadata": {
        "id": "vA1Dgyt8Etuu"
      },
      "source": [
        "# 실패 (시간초과)\r\n",
        "\r\n",
        "from itertools import combinations\r\n",
        "\r\n",
        "def solution(number, k):\r\n",
        "    idx_ls = [i for i in range(len(number))]\r\n",
        "    idx_com = list(combinations(idx_ls,k))\r\n",
        "    li = list(map(int, list(number)))\r\n",
        "    result_ls = []\r\n",
        "    for each_idx in idx_com:\r\n",
        "        result = ''\r\n",
        "        for i in range(len(li)):\r\n",
        "            if i not in each_idx:\r\n",
        "                result+=str(li[i])\r\n",
        "            else:\r\n",
        "                pass\r\n",
        "        result_ls.append(result)\r\n",
        "    return str(max(result_ls))"
      ],
      "execution_count": null,
      "outputs": []
    },
    {
      "cell_type": "code",
      "metadata": {
        "id": "_NJFK9sOMKU0"
      },
      "source": [
        "def solution(number, k):\r\n",
        "    collected = []\r\n",
        "\r\n",
        "    for (i, num) in enumerate(number):\r\n",
        "        while len(collected) > 0 and collected[-1] < num and k > 0: # collected에 원소가 있고 마지막 원소가 num보다 작으면 뒤에서부터 제거\r\n",
        "            collected.pop()\r\n",
        "            k -= 1\r\n",
        "        \r\n",
        "        if k == 0:\r\n",
        "            collected += number[i:] # i번째 인덱스부터 끝까지 붙이기 (앞에서 이미 숫자 제거했기 때문)\r\n",
        "            break\r\n",
        "\r\n",
        "        collected.append(num)\r\n",
        "\r\n",
        "    collected = collected[:-k] if k > 0 else collected # k개만큼 자르기\r\n",
        "    answer = \"\".join(collected)\r\n",
        "    return answer"
      ],
      "execution_count": 67,
      "outputs": []
    },
    {
      "cell_type": "code",
      "metadata": {
        "colab": {
          "base_uri": "https://localhost:8080/",
          "height": 35
        },
        "id": "XtYIaX8FOVcR",
        "outputId": "1f324c4f-fc34-4aaf-fb90-4bf7fb2dfa14"
      },
      "source": [
        "solution(number, k)"
      ],
      "execution_count": 68,
      "outputs": [
        {
          "output_type": "execute_result",
          "data": {
            "application/vnd.google.colaboratory.intrinsic+json": {
              "type": "string"
            },
            "text/plain": [
              "'3234'"
            ]
          },
          "metadata": {
            "tags": []
          },
          "execution_count": 68
        }
      ]
    }
  ]
}