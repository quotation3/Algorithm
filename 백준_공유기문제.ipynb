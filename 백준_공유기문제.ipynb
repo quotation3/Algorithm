{
  "nbformat": 4,
  "nbformat_minor": 0,
  "metadata": {
    "colab": {
      "name": "백준_공유기문제.ipynb",
      "provenance": [],
      "collapsed_sections": [],
      "authorship_tag": "ABX9TyOKd9DCZPuTAeXsYvBot/En",
      "include_colab_link": true
    },
    "kernelspec": {
      "name": "python3",
      "display_name": "Python 3"
    }
  },
  "cells": [
    {
      "cell_type": "markdown",
      "metadata": {
        "id": "view-in-github",
        "colab_type": "text"
      },
      "source": [
        "<a href=\"https://colab.research.google.com/github/quotation3/Algorithm/blob/master/%EB%B0%B1%EC%A4%80_%EA%B3%B5%EC%9C%A0%EA%B8%B0%EB%AC%B8%EC%A0%9C.ipynb\" target=\"_parent\"><img src=\"https://colab.research.google.com/assets/colab-badge.svg\" alt=\"Open In Colab\"/></a>"
      ]
    },
    {
      "cell_type": "code",
      "metadata": {
        "id": "MJAG9_2hy0WI",
        "outputId": "ad9ecfd5-294a-4bfd-e36c-057db34528ab",
        "colab": {
          "base_uri": "https://localhost:8080/",
          "height": 35
        }
      },
      "source": [
        "from itertools import combinations\n",
        "\n",
        "data = [1,2,8,4,9]\n",
        "data.sort()\n",
        "result = list(combinations(data,3))\n",
        "print(result)"
      ],
      "execution_count": null,
      "outputs": [
        {
          "output_type": "stream",
          "text": [
            "[(1, 2, 4), (1, 2, 8), (1, 2, 9), (1, 4, 8), (1, 4, 9), (1, 8, 9), (2, 4, 8), (2, 4, 9), (2, 8, 9), (4, 8, 9)]\n"
          ],
          "name": "stdout"
        }
      ]
    },
    {
      "cell_type": "code",
      "metadata": {
        "id": "5PGadMkV0qKM",
        "outputId": "fbc4b840-d862-4f99-cacf-a8de854aa481",
        "colab": {
          "base_uri": "https://localhost:8080/",
          "height": 197
        }
      },
      "source": [
        "distance = []\n",
        "for each in result:\n",
        "    tmp = []\n",
        "    for j in range(1,3):\n",
        "        tmp.append(each[j]-each[j-1])\n",
        "    distance.append(tmp)\n",
        "distance"
      ],
      "execution_count": null,
      "outputs": [
        {
          "output_type": "execute_result",
          "data": {
            "text/plain": [
              "[[1, 2],\n",
              " [1, 6],\n",
              " [1, 7],\n",
              " [3, 4],\n",
              " [3, 5],\n",
              " [7, 1],\n",
              " [2, 4],\n",
              " [2, 5],\n",
              " [6, 1],\n",
              " [4, 1]]"
            ]
          },
          "metadata": {
            "tags": []
          },
          "execution_count": 9
        }
      ]
    },
    {
      "cell_type": "code",
      "metadata": {
        "id": "164b0TTc22yw",
        "outputId": "10792f62-4b89-4e0b-a72a-73defe3d89b5",
        "colab": {
          "base_uri": "https://localhost:8080/",
          "height": 35
        }
      },
      "source": [
        "min_lis = []\n",
        "for i in distance:\n",
        "    min_lis.append(min(i))\n",
        "max(min_lis)"
      ],
      "execution_count": null,
      "outputs": [
        {
          "output_type": "execute_result",
          "data": {
            "text/plain": [
              "3"
            ]
          },
          "metadata": {
            "tags": []
          },
          "execution_count": 10
        }
      ]
    },
    {
      "cell_type": "code",
      "metadata": {
        "id": "MlHpQQFN3JXJ",
        "outputId": "6d5d7aa8-f4f5-4950-933a-eff4961722b5",
        "colab": {
          "base_uri": "https://localhost:8080/",
          "height": 143
        }
      },
      "source": [
        "from itertools import combinations\n",
        "\n",
        "sys.setrecursionlimit(10**9)\n",
        "\n",
        "n, c = map(int, input().split())\n",
        "house = []\n",
        "for _ in range(n):\n",
        "    x=int(input())\n",
        "    house.append(x)\n",
        "\n",
        "\n",
        "house.sort()\n",
        "result = list(combinations(house,c))\n",
        "\n",
        "distance = []\n",
        "for each in result:\n",
        "    tmp = []\n",
        "    for j in range(1,c):\n",
        "        tmp.append(each[j]-each[j-1])\n",
        "    distance.append(tmp)\n",
        "\n",
        "min_lis = []\n",
        "for i in distance:\n",
        "    min_lis.append(min(i))\n",
        "\n",
        "print(max(min_lis))"
      ],
      "execution_count": null,
      "outputs": [
        {
          "output_type": "stream",
          "text": [
            "5 3\n",
            "1\n",
            "2\n",
            "4\n",
            "8\n",
            "9\n",
            "3\n"
          ],
          "name": "stdout"
        }
      ]
    }
  ]
}