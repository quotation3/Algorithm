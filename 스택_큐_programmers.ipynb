{
  "nbformat": 4,
  "nbformat_minor": 0,
  "metadata": {
    "colab": {
      "name": "스택/큐_programmers.ipynb",
      "provenance": [],
      "collapsed_sections": [],
      "authorship_tag": "ABX9TyNv1EhTNV8gxZ2zweObm8ZY",
      "include_colab_link": true
    },
    "kernelspec": {
      "name": "python3",
      "display_name": "Python 3"
    }
  },
  "cells": [
    {
      "cell_type": "markdown",
      "metadata": {
        "id": "view-in-github",
        "colab_type": "text"
      },
      "source": [
        "<a href=\"https://colab.research.google.com/github/quotation3/Algorithm/blob/master/%EC%8A%A4%ED%83%9D_%ED%81%90_programmers.ipynb\" target=\"_parent\"><img src=\"https://colab.research.google.com/assets/colab-badge.svg\" alt=\"Open In Colab\"/></a>"
      ]
    },
    {
      "cell_type": "markdown",
      "metadata": {
        "id": "pg-t3RI0ImVw"
      },
      "source": [
        "### 주식가격"
      ]
    },
    {
      "cell_type": "markdown",
      "metadata": {
        "id": "SKYd_mvBIoul"
      },
      "source": [
        "초 단위로 기록된 주식가격이 담긴 배열 prices가 매개변수로 주어질 때, 가격이 떨어지지 않은 기간은 몇 초인지를 return 하도록 solution 함수를 완성하세요."
      ]
    },
    {
      "cell_type": "code",
      "metadata": {
        "id": "egVuiwC5GejO"
      },
      "source": [
        "prices = [1,2,3,2,3]\n",
        "# return [4, 3, 1, 1, 0]"
      ],
      "execution_count": null,
      "outputs": []
    },
    {
      "cell_type": "code",
      "metadata": {
        "id": "PHn8yCZ6IyzI",
        "outputId": "acd6eba2-b603-4d57-a9ea-ddb4e601b3bc",
        "colab": {
          "base_uri": "https://localhost:8080/"
        }
      },
      "source": [
        "answer = []\n",
        "for i in range(len(prices)):\n",
        "    check_num = 0\n",
        "    for j in range(i+1,len(prices)):\n",
        "        check_num = check_num+1\n",
        "        if prices[i] > prices[j]:\n",
        "            break\n",
        "    answer.append(check_num)\n",
        "answer"
      ],
      "execution_count": null,
      "outputs": [
        {
          "output_type": "execute_result",
          "data": {
            "text/plain": [
              "[4, 3, 1, 1, 0]"
            ]
          },
          "metadata": {
            "tags": []
          },
          "execution_count": 13
        }
      ]
    },
    {
      "cell_type": "code",
      "metadata": {
        "id": "7ffRH880PVJO"
      },
      "source": [
        "def solution(prices):\n",
        "    \n",
        "    answer = []\n",
        "    for i in range(len(prices)):\n",
        "        check_num = 0\n",
        "        for j in range(i+1,len(prices)):\n",
        "            check_num = check_num+1\n",
        "            if prices[i] > prices[j]:\n",
        "                break\n",
        "        answer.append(check_num)\n",
        "\n",
        "    return answer"
      ],
      "execution_count": null,
      "outputs": []
    },
    {
      "cell_type": "code",
      "metadata": {
        "id": "CoUIYd39Q2Lu",
        "outputId": "6356cffb-3a5e-4309-f00f-74a826bff784",
        "colab": {
          "base_uri": "https://localhost:8080/"
        }
      },
      "source": [
        "solution(prices)"
      ],
      "execution_count": null,
      "outputs": [
        {
          "output_type": "execute_result",
          "data": {
            "text/plain": [
              "[4, 3, 1, 1, 0]"
            ]
          },
          "metadata": {
            "tags": []
          },
          "execution_count": 15
        }
      ]
    },
    {
      "cell_type": "markdown",
      "metadata": {
        "id": "q2BUiMR7Q38g"
      },
      "source": [
        "큐 이용한 풀이"
      ]
    },
    {
      "cell_type": "code",
      "metadata": {
        "id": "yw56eP4xQ5zA"
      },
      "source": [
        "from collections import deque\n",
        "def solution(prices):\n",
        "    answer = []\n",
        "    prices = deque(prices)\n",
        "    while prices:\n",
        "        c = prices.popleft()\n",
        "\n",
        "        count = 0\n",
        "        for i in prices:\n",
        "            if c > i:\n",
        "                count += 1\n",
        "                break\n",
        "            count += 1\n",
        "\n",
        "        answer.append(count)\n",
        "\n",
        "    return answer"
      ],
      "execution_count": null,
      "outputs": []
    },
    {
      "cell_type": "markdown",
      "metadata": {
        "id": "MqFTRHBdSvfH"
      },
      "source": [
        "### 기능개발"
      ]
    },
    {
      "cell_type": "markdown",
      "metadata": {
        "id": "K6mMghEUSxwR"
      },
      "source": [
        "프로그래머스 팀에서는 기능 개선 작업을 수행 중입니다. 각 기능은 진도가 100%일 때 서비스에 반영할 수 있습니다.\n",
        "\n",
        "또, 각 기능의 개발속도는 모두 다르기 때문에 뒤에 있는 기능이 앞에 있는 기능보다 먼저 개발될 수 있고, 이때 뒤에 있는 기능은 앞에 있는 기능이 배포될 때 함께 배포됩니다.\n",
        "\n",
        "먼저 배포되어야 하는 순서대로 작업의 진도가 적힌 정수 배열 progresses와 각 작업의 개발 속도가 적힌 정수 배열 speeds가 주어질 때 각 배포마다 몇 개의 기능이 배포되는지를 return 하도록 solution 함수를 완성하세요."
      ]
    },
    {
      "cell_type": "code",
      "metadata": {
        "id": "i0tQmaWWS0Zm"
      },
      "source": [
        "progresses = [93, 30, 55]\n",
        "speeds = [1, 30, 5]\n",
        "# return [2, 1]"
      ],
      "execution_count": 3,
      "outputs": []
    },
    {
      "cell_type": "code",
      "metadata": {
        "id": "Sx6nlUOcS810",
        "outputId": "4ffb44b9-dea9-4c1f-cd7b-ac9c87804de5",
        "colab": {
          "base_uri": "https://localhost:8080/"
        }
      },
      "source": [
        "day = []\n",
        "for i in range(len(progresses)):\n",
        "    if (100-progresses[i])%speeds[i] != 0:\n",
        "        day.append((100-progresses[i])//speeds[i]+1)\n",
        "    else:\n",
        "        day.append((100-progresses[i])/speeds[i])\n",
        "day"
      ],
      "execution_count": 9,
      "outputs": [
        {
          "output_type": "execute_result",
          "data": {
            "text/plain": [
              "[7.0, 3, 9.0]"
            ]
          },
          "metadata": {
            "tags": []
          },
          "execution_count": 9
        }
      ]
    },
    {
      "cell_type": "code",
      "metadata": {
        "id": "QZZjSEUYucv5",
        "outputId": "8a04346f-3cd9-4b91-d017-fbd7c4ab87b8",
        "colab": {
          "base_uri": "https://localhost:8080/"
        }
      },
      "source": [
        "answer = []\n",
        "for i,d in enumerate(day):\n",
        "    if i==0:\n",
        "        max = d\n",
        "        answer.append(1)\n",
        "        continue\n",
        "    if d<=max:\n",
        "        answer[-1]+=1\n",
        "    else:\n",
        "        max = d\n",
        "        answer.append(1)\n",
        "answer"
      ],
      "execution_count": 10,
      "outputs": [
        {
          "output_type": "execute_result",
          "data": {
            "text/plain": [
              "[2, 1]"
            ]
          },
          "metadata": {
            "tags": []
          },
          "execution_count": 10
        }
      ]
    },
    {
      "cell_type": "code",
      "metadata": {
        "id": "k1CklthuvILM"
      },
      "source": [
        "def solution(progresses,speeds):\n",
        "\n",
        "    day = []\n",
        "    for i in range(len(progresses)):\n",
        "        if (100-progresses[i])%speeds[i] != 0:\n",
        "            day.append((100-progresses[i])//speeds[i]+1)\n",
        "        else:\n",
        "            day.append((100-progresses[i])/speeds[i])\n",
        "\n",
        "    answer = []\n",
        "    for i,d in enumerate(day):\n",
        "        if i==0:\n",
        "            max = d\n",
        "            answer.append(1)\n",
        "            continue\n",
        "        if d<=max:\n",
        "            answer[-1]+=1\n",
        "        else:\n",
        "            max = d\n",
        "            answer.append(1)\n",
        "\n",
        "    return answer"
      ],
      "execution_count": 13,
      "outputs": []
    },
    {
      "cell_type": "code",
      "metadata": {
        "id": "_N1v5qjdKSVV",
        "outputId": "1872d084-f914-43fc-d831-8e97cb7bad72",
        "colab": {
          "base_uri": "https://localhost:8080/"
        }
      },
      "source": [
        "solution(progresses,speeds)"
      ],
      "execution_count": 14,
      "outputs": [
        {
          "output_type": "execute_result",
          "data": {
            "text/plain": [
              "[2, 1]"
            ]
          },
          "metadata": {
            "tags": []
          },
          "execution_count": 14
        }
      ]
    },
    {
      "cell_type": "markdown",
      "metadata": {
        "id": "ytlhaunZS56c"
      },
      "source": [
        "### 다리를 지나는 트럭"
      ]
    },
    {
      "cell_type": "markdown",
      "metadata": {
        "id": "QYPvEDD0S9Ay"
      },
      "source": [
        "트럭 여러 대가 강을 가로지르는 일 차선 다리를 정해진 순으로 건너려 합니다. 모든 트럭이 다리를 건너려면 최소 몇 초가 걸리는지 알아내야 합니다. 트럭은 1초에 1만큼 움직이며, 다리 길이는 bridge_length이고 다리는 무게 weight까지 견딥니다.\n",
        "※ 트럭이 다리에 완전히 오르지 않은 경우, 이 트럭의 무게는 고려하지 않습니다."
      ]
    },
    {
      "cell_type": "code",
      "metadata": {
        "id": "A68taVTjS_zu"
      },
      "source": [
        "bridge_length = 2\n",
        "weight = 10\n",
        "truck_weights = [7,4,5,6]\n",
        "# return 8"
      ],
      "execution_count": 49,
      "outputs": []
    },
    {
      "cell_type": "code",
      "metadata": {
        "id": "do0Ieq6WaVoe"
      },
      "source": [
        "def solution(bridge_length, weight, truck_weights):\n",
        "    time = 0\n",
        "    q = [0] * bridge_length\n",
        "    \n",
        "    while q:\n",
        "        time += 1\n",
        "        q.pop(0)\n",
        "        if truck_weights:\n",
        "            if sum(q) + truck_weights[0] <= weight:\n",
        "                q.append(truck_weights.pop(0))\n",
        "            else:\n",
        "                q.append(0)\n",
        "    \n",
        "    return time"
      ],
      "execution_count": 50,
      "outputs": []
    },
    {
      "cell_type": "code",
      "metadata": {
        "id": "oH7H1pjchqjj",
        "outputId": "b3fc74f8-cf35-4364-9397-f2170f69ddbc",
        "colab": {
          "base_uri": "https://localhost:8080/"
        }
      },
      "source": [
        "solution(bridge_length, weight, truck_weights)"
      ],
      "execution_count": 51,
      "outputs": [
        {
          "output_type": "execute_result",
          "data": {
            "text/plain": [
              "8"
            ]
          },
          "metadata": {
            "tags": []
          },
          "execution_count": 51
        }
      ]
    }
  ]
}