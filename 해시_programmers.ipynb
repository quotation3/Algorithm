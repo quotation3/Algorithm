{
  "nbformat": 4,
  "nbformat_minor": 0,
  "metadata": {
    "colab": {
      "name": "해시_programmers.ipynb",
      "provenance": [],
      "collapsed_sections": [],
      "authorship_tag": "ABX9TyMxvPfwSxwz42f8mijprKVr",
      "include_colab_link": true
    },
    "kernelspec": {
      "name": "python3",
      "display_name": "Python 3"
    }
  },
  "cells": [
    {
      "cell_type": "markdown",
      "metadata": {
        "id": "view-in-github",
        "colab_type": "text"
      },
      "source": [
        "<a href=\"https://colab.research.google.com/github/quotation3/Algorithm/blob/master/%ED%95%B4%EC%8B%9C_programmers.ipynb\" target=\"_parent\"><img src=\"https://colab.research.google.com/assets/colab-badge.svg\" alt=\"Open In Colab\"/></a>"
      ]
    },
    {
      "cell_type": "markdown",
      "metadata": {
        "id": "hjfVvbJ9pEXT"
      },
      "source": [
        "### 완주하지 못한 선수"
      ]
    },
    {
      "cell_type": "markdown",
      "metadata": {
        "id": "Ws1Wb0dixeOn"
      },
      "source": [
        "수많은 마라톤 선수들이 마라톤에 참여하였습니다. 단 한 명의 선수를 제외하고는 모든 선수가 마라톤을 완주하였습니다.\n",
        "\n",
        "마라톤에 참여한 선수들의 이름이 담긴 배열 participant와 완주한 선수들의 이름이 담긴 배열 completion이 주어질 때, 완주하지 못한 선수의 이름을 return 하도록 solution 함수를 작성해주세요."
      ]
    },
    {
      "cell_type": "code",
      "metadata": {
        "id": "Vov3-1obxdHu"
      },
      "source": [
        "participant = ['leo', 'kiki', 'eden']\n",
        "completion = ['eden', 'kiki']\n",
        "# return 'leo'"
      ],
      "execution_count": null,
      "outputs": []
    },
    {
      "cell_type": "markdown",
      "metadata": {
        "id": "ZccFgN7tohcT"
      },
      "source": [
        "입출력 예 설명\n",
        "예제 #1\n",
        "leo는 참여자 명단에는 있지만, 완주자 명단에는 없기 때문에 완주하지 못했습니다.\n",
        "\n",
        "예제 #2\n",
        "vinko는 참여자 명단에는 있지만, 완주자 명단에는 없기 때문에 완주하지 못했습니다.\n",
        "\n",
        "예제 #3\n",
        "mislav는 참여자 명단에는 두 명이 있지만, 완주자 명단에는 한 명밖에 없기 때문에 한명은 완주하지 못했습니다."
      ]
    },
    {
      "cell_type": "code",
      "metadata": {
        "id": "kqd7F-xXxqdu"
      },
      "source": [
        "import collections\n",
        "\n",
        "def solution(participant, completion):\n",
        "    answer = collections.Counter(participant) - collections.Counter(completion)\n",
        "    return list(answer.keys())[0]"
      ],
      "execution_count": null,
      "outputs": []
    },
    {
      "cell_type": "code",
      "metadata": {
        "id": "nNUwpYpyn77O",
        "outputId": "84b76c15-1558-4f33-9f99-a0e62441319f",
        "colab": {
          "base_uri": "https://localhost:8080/",
          "height": 35
        }
      },
      "source": [
        "solution(participant, completion)"
      ],
      "execution_count": null,
      "outputs": [
        {
          "output_type": "execute_result",
          "data": {
            "application/vnd.google.colaboratory.intrinsic+json": {
              "type": "string"
            },
            "text/plain": [
              "'leo'"
            ]
          },
          "metadata": {
            "tags": []
          },
          "execution_count": 130
        }
      ]
    },
    {
      "cell_type": "markdown",
      "metadata": {
        "id": "MoMVFiXIpMYV"
      },
      "source": [
        "### 전화번호 목록"
      ]
    },
    {
      "cell_type": "markdown",
      "metadata": {
        "id": "TNfEkFCUxb4Y"
      },
      "source": [
        "전화번호부에 적힌 전화번호 중, 한 번호가 다른 번호의 접두어인 경우가 있는지 확인하려 합니다.\n",
        "전화번호가 다음과 같을 경우, 구조대 전화번호는 영석이의 전화번호의 접두사입니다.\n",
        "\n",
        "구조대 : 119\n",
        "박준영 : 97 674 223\n",
        "지영석 : 11 9552 4421\n",
        "전화번호부에 적힌 전화번호를 담은 배열 phone_book 이 solution 함수의 매개변수로 주어질 때, 어떤 번호가 다른 번호의 접두어인 경우가 있으면 false를 그렇지 않으면 true를 return 하도록 solution 함수를 작성해주세요."
      ]
    },
    {
      "cell_type": "code",
      "metadata": {
        "id": "FvWs10YT6Ids"
      },
      "source": [
        "phone_book = ['119', '97674223', '1195524421']\n",
        "# return False"
      ],
      "execution_count": null,
      "outputs": []
    },
    {
      "cell_type": "code",
      "metadata": {
        "id": "bst53vsg6dM9"
      },
      "source": [
        "def solution(phone_book):\n",
        "    phone_book.sort()\n",
        "    for p1, p2 in zip(phone_book, phone_book[1:]):\n",
        "        if p2.startswith(p1):\n",
        "            return False\n",
        "    return True"
      ],
      "execution_count": null,
      "outputs": []
    },
    {
      "cell_type": "code",
      "metadata": {
        "id": "QT_uTOrD65wT",
        "outputId": "e9b2438a-d8cd-4f66-d59b-bc385115482b",
        "colab": {
          "base_uri": "https://localhost:8080/",
          "height": 35
        }
      },
      "source": [
        "solution(phone_book)"
      ],
      "execution_count": null,
      "outputs": [
        {
          "output_type": "execute_result",
          "data": {
            "text/plain": [
              "False"
            ]
          },
          "metadata": {
            "tags": []
          },
          "execution_count": 134
        }
      ]
    },
    {
      "cell_type": "markdown",
      "metadata": {
        "id": "1dgiCjnIpPJD"
      },
      "source": [
        "### 위장"
      ]
    },
    {
      "cell_type": "markdown",
      "metadata": {
        "id": "HRDg5CYBAeRj"
      },
      "source": [
        "스파이들은 매일 다른 옷을 조합하여 입어 자신을 위장합니다.\n",
        "\n",
        "예를 들어 스파이가 가진 옷이 아래와 같고 오늘 스파이가 동그란 안경, 긴 코트, 파란색 티셔츠를 입었다면 다음날은 청바지를 추가로 입거나 동그란 안경 대신 검정 선글라스를 착용하거나 해야 합니다.\n",
        "\n",
        "스파이가 가진 의상들이 담긴 2차원 배열 clothes가 주어질 때 서로 다른 옷의 조합의 수를 return 하도록 solution 함수를 작성해주세요."
      ]
    },
    {
      "cell_type": "code",
      "metadata": {
        "id": "bzyJjRRCAdy4"
      },
      "source": [
        "clothes = [['yellow_hat', 'headgear'], ['blue_sunglasses', 'eyewear'], ['green_turban', 'headgear']]\n",
        "# return 5"
      ],
      "execution_count": null,
      "outputs": []
    },
    {
      "cell_type": "markdown",
      "metadata": {
        "id": "X7p4B_ZPo77c"
      },
      "source": [
        "예제 #1\n",
        "headgear에 해당하는 의상이 yellow_hat, green_turban이고 eyewear에 해당하는 의상이 blue_sunglasses이므로 아래와 같이 5개의 조합이 가능합니다."
      ]
    },
    {
      "cell_type": "code",
      "metadata": {
        "id": "Wa14zx1miv7D"
      },
      "source": [
        "import collections\n",
        "\n",
        "def solution(clothes):\n",
        "    type_lis = []\n",
        "    for i in clothes:\n",
        "        type_lis.append(i[1])\n",
        "    type_cnt = collections.Counter(type_lis)\n",
        "\n",
        "    result = 1\n",
        "    for num in list(type_cnt.values()):\n",
        "        result *= (num+1)\n",
        "    return result-1"
      ],
      "execution_count": null,
      "outputs": []
    },
    {
      "cell_type": "code",
      "metadata": {
        "id": "qkR88SiNm5hY",
        "outputId": "fd2267a1-47b9-488a-e829-d8b35977032c",
        "colab": {
          "base_uri": "https://localhost:8080/",
          "height": 35
        }
      },
      "source": [
        "solution(clothes)"
      ],
      "execution_count": null,
      "outputs": [
        {
          "output_type": "execute_result",
          "data": {
            "text/plain": [
              "5"
            ]
          },
          "metadata": {
            "tags": []
          },
          "execution_count": 125
        }
      ]
    },
    {
      "cell_type": "code",
      "metadata": {
        "id": "_bn0w60nm4J0"
      },
      "source": [
        "# 방법2\n",
        "def solution(clothes):\n",
        "    from collections import Counter\n",
        "    from functools import reduce\n",
        "    cnt = Counter([kind for name, kind in clothes])\n",
        "    answer = reduce(lambda x, y: x*(y+1), cnt.values(), 1) - 1\n",
        "    return answer"
      ],
      "execution_count": null,
      "outputs": []
    },
    {
      "cell_type": "markdown",
      "metadata": {
        "id": "188An77XpTMb"
      },
      "source": [
        "### 베스트 앨범"
      ]
    },
    {
      "cell_type": "markdown",
      "metadata": {
        "id": "np5EM7MBnl2s"
      },
      "source": [
        "스트리밍 사이트에서 장르 별로 가장 많이 재생된 노래를 두 개씩 모아 베스트 앨범을 출시하려 합니다. 노래는 고유 번호로 구분하며, 노래를 수록하는 기준은 다음과 같습니다.\n",
        "\n",
        "속한 노래가 많이 재생된 장르를 먼저 수록합니다.\n",
        "장르 내에서 많이 재생된 노래를 먼저 수록합니다.\n",
        "장르 내에서 재생 횟수가 같은 노래 중에서는 고유 번호가 낮은 노래를 먼저 수록합니다.\n",
        "노래의 장르를 나타내는 문자열 배열 genres와 노래별 재생 횟수를 나타내는 정수 배열 plays가 주어질 때, 베스트 앨범에 들어갈 노래의 고유 번호를 순서대로 return 하도록 solution 함수를 완성하세요."
      ]
    },
    {
      "cell_type": "code",
      "metadata": {
        "id": "lXsytFzxnnhH"
      },
      "source": [
        "genres = ['classic', 'pop', 'classic', 'classic', 'pop']\n",
        "plays = [500, 600, 150, 800, 2500]\n",
        "# return [4, 1, 3, 0]"
      ],
      "execution_count": 41,
      "outputs": []
    },
    {
      "cell_type": "markdown",
      "metadata": {
        "id": "0PX1Xc45obzV"
      },
      "source": [
        "입출력 예 설명\n",
        "classic 장르는 1,450회 재생되었으며, classic 노래는 다음과 같습니다.\n",
        "\n",
        "고유 번호 3: 800회 재생\n",
        "고유 번호 0: 500회 재생\n",
        "고유 번호 2: 150회 재생\n",
        "pop 장르는 3,100회 재생되었으며, pop 노래는 다음과 같습니다.\n",
        "\n",
        "고유 번호 4: 2,500회 재생\n",
        "고유 번호 1: 600회 재생\n",
        "따라서 pop 장르의 [4, 1]번 노래를 먼저, classic 장르의 [3, 0]번 노래를 그다음에 수록합니다."
      ]
    },
    {
      "cell_type": "code",
      "metadata": {
        "id": "BgGvCwC2HpHh",
        "outputId": "150475b9-f01d-41f1-c4ed-2470b960fa86",
        "colab": {
          "base_uri": "https://localhost:8080/",
          "height": 35
        }
      },
      "source": [
        "genres_plays = {}\n",
        "for i in range(len(genres)):\n",
        "    if genres[i] in genres_plays.keys():\n",
        "        genres_plays[genres[i]].append([i,plays[i]])\n",
        "    else:\n",
        "        genres_plays[genres[i]] = [[i, plays[i]]]\n",
        "genres_plays"
      ],
      "execution_count": null,
      "outputs": [
        {
          "output_type": "execute_result",
          "data": {
            "text/plain": [
              "{'classic': [[0, 500], [2, 150], [3, 800]], 'pop': [[1, 600], [4, 2500]]}"
            ]
          },
          "metadata": {
            "tags": []
          },
          "execution_count": 26
        }
      ]
    },
    {
      "cell_type": "code",
      "metadata": {
        "id": "QOqTgM3hM_fY",
        "outputId": "2c86cc68-b127-4077-f2d2-337197fe3537",
        "colab": {
          "base_uri": "https://localhost:8080/",
          "height": 35
        }
      },
      "source": [
        "dic_cnt = {}\n",
        "for key in genres_plays.keys():\n",
        "    result = 0\n",
        "    for i in range(len(genres_plays[key])):\n",
        "        result += genres_plays[key][i][1]\n",
        "    dic_cnt[key]=result\n",
        "dic_cnt"
      ],
      "execution_count": null,
      "outputs": [
        {
          "output_type": "execute_result",
          "data": {
            "text/plain": [
              "{'classic': 1450, 'pop': 3100}"
            ]
          },
          "metadata": {
            "tags": []
          },
          "execution_count": 27
        }
      ]
    },
    {
      "cell_type": "code",
      "metadata": {
        "id": "I7UJ4_nWNvai",
        "outputId": "a385039a-08af-4849-83a3-8ba89560d579",
        "colab": {
          "base_uri": "https://localhost:8080/",
          "height": 35
        }
      },
      "source": [
        "genres_sort = sorted(dic_cnt,key= lambda x:x[1], reverse=True)\n",
        "genres_sort"
      ],
      "execution_count": null,
      "outputs": [
        {
          "output_type": "execute_result",
          "data": {
            "text/plain": [
              "['pop', 'classic']"
            ]
          },
          "metadata": {
            "tags": []
          },
          "execution_count": 33
        }
      ]
    },
    {
      "cell_type": "code",
      "metadata": {
        "id": "Zqp2MxrYTjdp",
        "outputId": "c788a04c-784f-4604-fcbf-5e8684518693",
        "colab": {
          "base_uri": "https://localhost:8080/",
          "height": 35
        }
      },
      "source": [
        "answer = []\n",
        "\n",
        "for g in genres_sort:\n",
        "\n",
        "    # 장르의 곡이 1곡이면 answer에 추가\n",
        "    if len(genres_plays[g]) == 1:\n",
        "        answer.append(genres_plays[g[0]])\n",
        "\n",
        "    # 장르의 곡이 1곡보다 많으면 모든 곡 tmp리스트에 넣고  정렬 후 상위 2개만 answser에 추가\n",
        "    else:\n",
        "        tmp = []\n",
        "        for i in range(len(genres_plays[g])):\n",
        "            tmp.append(genres_plays[g][i])\n",
        "        tmp.sort(key=lambda x:x[1], reverse=True)\n",
        "        answer.append(tmp[0][0])\n",
        "        answer.append(tmp[1][0])\n",
        "        \n",
        "answer"
      ],
      "execution_count": null,
      "outputs": [
        {
          "output_type": "execute_result",
          "data": {
            "text/plain": [
              "[4, 1, 3, 0]"
            ]
          },
          "metadata": {
            "tags": []
          },
          "execution_count": 36
        }
      ]
    },
    {
      "cell_type": "code",
      "metadata": {
        "id": "PWwHvqrRip99"
      },
      "source": [
        "def solution(genres, plays):\n",
        "\n",
        "    genres_plays = {}\n",
        "    for i in range(len(genres)):\n",
        "        if genres[i] in genres_plays.keys():\n",
        "            genres_plays[genres[i]].append([i,plays[i]])\n",
        "        else:\n",
        "            genres_plays[genres[i]] = [[i, plays[i]]]\n",
        "    \n",
        "    dic_cnt = {}\n",
        "    for key in genres_plays.keys():\n",
        "        result = 0\n",
        "        for i in range(len(genres_plays[key])):\n",
        "            result += genres_plays[key][i][1]\n",
        "        dic_cnt[key]=result\n",
        "    \n",
        "    genres_sort = sorted(dic_cnt,key= lambda x:x[1], reverse=True)\n",
        "\n",
        "    answer = []\n",
        "\n",
        "    for g in genres_sort:\n",
        "\n",
        "        # 장르의 곡이 1곡이면 answer에 추가\n",
        "        if len(genres_plays[g]) == 1:\n",
        "            answer.append(genres_plays[g[0]])\n",
        "\n",
        "        # 장르의 곡이 1곡보다 많으면 모든 곡 tmp리스트에 넣고  정렬 후 상위 2개만 answser에 추가\n",
        "        else:\n",
        "            tmp = []\n",
        "            for i in range(len(genres_plays[g])):\n",
        "                tmp.append(genres_plays[g][i])\n",
        "            tmp.sort(key=lambda x:x[1], reverse=True)\n",
        "            answer.append(tmp[0][0])\n",
        "            answer.append(tmp[1][0])\n",
        "            \n",
        "    answer\n",
        "\n",
        "\n",
        "    return answer"
      ],
      "execution_count": 88,
      "outputs": []
    },
    {
      "cell_type": "code",
      "metadata": {
        "id": "Grc9ushajAjj",
        "outputId": "a616cb78-ed25-4bcb-d0ea-43a6dde4fadb",
        "colab": {
          "base_uri": "https://localhost:8080/",
          "height": 35
        }
      },
      "source": [
        "solution(genres, plays)"
      ],
      "execution_count": 89,
      "outputs": [
        {
          "output_type": "execute_result",
          "data": {
            "text/plain": [
              "[4, 1, 3, 0]"
            ]
          },
          "metadata": {
            "tags": []
          },
          "execution_count": 89
        }
      ]
    },
    {
      "cell_type": "markdown",
      "metadata": {
        "id": "enXhwmGLkC69"
      },
      "source": [
        "시간 에러 -> 1. 함수화로 간소화 2. 정렬할때 items()하는게 더 단축되는 듯 (정확한건 아님)"
      ]
    },
    {
      "cell_type": "code",
      "metadata": {
        "id": "IuNjdAe3ZhIU"
      },
      "source": [
        "def play_sum(li):\n",
        "    total = 0\n",
        "    for i in range(len(li)):\n",
        "        total += li[i][1]\n",
        "    return total\n",
        "\n",
        "def get_top_2(li):\n",
        "    li = sorted(li,key = lambda x:x[1], reverse=True)\n",
        "    top1, top2 = li[0][0], li[1][0]\n",
        "    return top1, top2\n",
        "\n",
        "def solution(genres, plays):\n",
        "\n",
        "    unique_genres = set(genres)\n",
        "\n",
        "    genres_plays = {}\n",
        "    for i in range(len(genres)):\n",
        "        if genres[i] in genres_plays.keys():\n",
        "            genres_plays[genres[i]].append([i,plays[i]])\n",
        "        else:\n",
        "            genres_plays[genres[i]] = [[i, plays[i]]]\n",
        "\n",
        "    genres_plays_sum = {}\n",
        "    for genre in unique_genres:\n",
        "        li = genres_plays[genre]\n",
        "        genres_plays_sum[genre] = play_sum(li)\n",
        "\n",
        "\n",
        "    answer = []\n",
        "    genres_plays_sum = sorted(genres_plays_sum.items(), key=(lambda x:x[1]), reverse=True)\n",
        "    for g in genres_plays_sum:\n",
        "        if len(genres_plays[g[0]]) == 1:\n",
        "            answer.append(genres_plays[g[0]][0][0])\n",
        "        else:\n",
        "            a,b = get_top_2(genres_plays[g[0]])\n",
        "            answer.append(a)\n",
        "            answer.append(b)\n",
        "\n",
        "    return answer"
      ],
      "execution_count": 69,
      "outputs": []
    },
    {
      "cell_type": "code",
      "metadata": {
        "id": "KBkhehTHaeE7",
        "outputId": "e643eb38-9955-47e8-d499-0cfe44ad775a",
        "colab": {
          "base_uri": "https://localhost:8080/",
          "height": 35
        }
      },
      "source": [
        "solution(genres, plays)"
      ],
      "execution_count": 80,
      "outputs": [
        {
          "output_type": "execute_result",
          "data": {
            "text/plain": [
              "[4, 1, 3, 0]"
            ]
          },
          "metadata": {
            "tags": []
          },
          "execution_count": 80
        }
      ]
    }
  ]
}