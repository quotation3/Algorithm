{
  "nbformat": 4,
  "nbformat_minor": 0,
  "metadata": {
    "colab": {
      "name": "구현.ipynb",
      "provenance": [],
      "authorship_tag": "ABX9TyPwMXxxYSIQfq+cFb9CtX52",
      "include_colab_link": true
    },
    "kernelspec": {
      "name": "python3",
      "display_name": "Python 3"
    }
  },
  "cells": [
    {
      "cell_type": "markdown",
      "metadata": {
        "id": "view-in-github",
        "colab_type": "text"
      },
      "source": [
        "<a href=\"https://colab.research.google.com/github/quotation3/Algorithm/blob/master/%EA%B5%AC%ED%98%84.ipynb\" target=\"_parent\"><img src=\"https://colab.research.google.com/assets/colab-badge.svg\" alt=\"Open In Colab\"/></a>"
      ]
    },
    {
      "cell_type": "markdown",
      "metadata": {
        "id": "XTzdvIdzGyPt"
      },
      "source": [
        "상하좌우"
      ]
    },
    {
      "cell_type": "code",
      "metadata": {
        "id": "Q0jftoNoGsH6",
        "outputId": "ef07549a-6706-4bd6-b509-0c03e7a637e8",
        "colab": {
          "base_uri": "https://localhost:8080/",
          "height": 53
        }
      },
      "source": [
        "n = int(input())\n",
        "x,y = 1,1\n",
        "plans = input().split()"
      ],
      "execution_count": null,
      "outputs": [
        {
          "output_type": "stream",
          "text": [
            "5\n",
            "R R R U D D\n"
          ],
          "name": "stdout"
        }
      ]
    },
    {
      "cell_type": "code",
      "metadata": {
        "id": "mSSYSpi0HFc5"
      },
      "source": [
        "dx = [0,0,-1,1]\n",
        "dy = [-1,1,0,0]\n",
        "move_types = ['L','R','U','D']"
      ],
      "execution_count": null,
      "outputs": []
    },
    {
      "cell_type": "code",
      "metadata": {
        "id": "ZKatmLmLHWoq",
        "outputId": "aa728ec7-035a-4611-b8a2-78c30f82741f",
        "colab": {
          "base_uri": "https://localhost:8080/",
          "height": 35
        }
      },
      "source": [
        "for plan in plans:\n",
        "    for i in range(len(move_types)):\n",
        "        if plan == move_types[i]:\n",
        "            nx = x+dx[i]\n",
        "            ny = y+dy[i]\n",
        "    if nx<1 or ny<1 or nx>n or ny>n:\n",
        "        continue\n",
        "\n",
        "    x,y = nx, ny\n",
        "print(x,y)"
      ],
      "execution_count": null,
      "outputs": [
        {
          "output_type": "stream",
          "text": [
            "3 6\n"
          ],
          "name": "stdout"
        }
      ]
    }
  ]
}