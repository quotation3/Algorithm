{
  "nbformat": 4,
  "nbformat_minor": 0,
  "metadata": {
    "colab": {
      "name": "알고리즘연습.ipynb",
      "provenance": [],
      "collapsed_sections": [],
      "authorship_tag": "ABX9TyN1ZfZqLaR4w9xR/8jFOd4W",
      "include_colab_link": true
    },
    "kernelspec": {
      "name": "python3",
      "display_name": "Python 3"
    }
  },
  "cells": [
    {
      "cell_type": "markdown",
      "metadata": {
        "id": "view-in-github",
        "colab_type": "text"
      },
      "source": [
        "<a href=\"https://colab.research.google.com/github/quotation3/Algorithm/blob/master/%EC%95%8C%EA%B3%A0%EB%A6%AC%EC%A6%98%EC%97%B0%EC%8A%B5.ipynb\" target=\"_parent\"><img src=\"https://colab.research.google.com/assets/colab-badge.svg\" alt=\"Open In Colab\"/></a>"
      ]
    },
    {
      "cell_type": "markdown",
      "metadata": {
        "id": "OZcx5wnuKD62"
      },
      "source": [
        "정수받아서 각 자리 수 중 큰 수가 앞으로 오게 정렬하기"
      ]
    },
    {
      "cell_type": "code",
      "metadata": {
        "id": "IMXJOw1XHTJ_"
      },
      "source": [
        "import heapq\n",
        "\n",
        "def solution(n):\n",
        "    lis = [i for i in str(n)]\n",
        "    h = []\n",
        "    result = []\n",
        "    for i in lis:\n",
        "        heapq.heappush(h,i)\n",
        "    for j in range(len(h)):\n",
        "        result.append(heapq.heappop(h))\n",
        "        result.sort(reverse=True)\n",
        "    return int(''.join(list(map(str,result))))"
      ],
      "execution_count": 65,
      "outputs": []
    },
    {
      "cell_type": "code",
      "metadata": {
        "id": "iQXmi42vFxVw",
        "outputId": "8556d7aa-2802-467e-9464-396545c529f8",
        "colab": {
          "base_uri": "https://localhost:8080/",
          "height": 35
        }
      },
      "source": [
        "solution(118372)"
      ],
      "execution_count": 67,
      "outputs": [
        {
          "output_type": "execute_result",
          "data": {
            "application/vnd.google.colaboratory.intrinsic+json": {
              "type": "string"
            },
            "text/plain": [
              "'873211'"
            ]
          },
          "metadata": {
            "tags": []
          },
          "execution_count": 67
        }
      ]
    },
    {
      "cell_type": "markdown",
      "metadata": {
        "id": "EcveseQ4J-GO"
      },
      "source": [
        "평균 구하기"
      ]
    },
    {
      "cell_type": "code",
      "metadata": {
        "id": "jPpoCHEEJgQR"
      },
      "source": [
        "import numpy as np\n",
        "\n",
        "def solution(arr):\n",
        "    new = np.array(arr)\n",
        "    return np.mean(new)"
      ],
      "execution_count": 69,
      "outputs": []
    },
    {
      "cell_type": "code",
      "metadata": {
        "id": "1IuML-KgJ50R",
        "outputId": "d6b7529f-1528-4b6a-d8b2-3aa8a7a9a7b3",
        "colab": {
          "base_uri": "https://localhost:8080/",
          "height": 35
        }
      },
      "source": [
        "solution([1,2,3,4,5])"
      ],
      "execution_count": 70,
      "outputs": [
        {
          "output_type": "execute_result",
          "data": {
            "text/plain": [
              "3.0"
            ]
          },
          "metadata": {
            "tags": []
          },
          "execution_count": 70
        }
      ]
    },
    {
      "cell_type": "markdown",
      "metadata": {
        "id": "nOYopccfLRfA"
      },
      "source": [
        "땅따먹기\n"
      ]
    },
    {
      "cell_type": "code",
      "metadata": {
        "id": "p4w2nljoLSgg"
      },
      "source": [
        "land = [[1,2,3,5],[5,6,7,8],[4,3,2,1]]"
      ],
      "execution_count": 134,
      "outputs": []
    },
    {
      "cell_type": "code",
      "metadata": {
        "id": "YEV2aSeyYg_T"
      },
      "source": [
        "def solution(land):    \n",
        "    for i in range(len(land)-1):\n",
        "        land[i+1][0] += max(land[i][1],land[i][2],land[i][3])\n",
        "        land[i+1][1] += max(land[i][0],land[i][2],land[i][3])\n",
        "        land[i+1][2] += max(land[i][0],land[i][1],land[i][3])\n",
        "        land[i+1][3] += max(land[i][0],land[i][1],land[i][2])\n",
        "\n",
        "    return max(land[len(land)-1])\n",
        "\n",
        "# i+1행의 최댓값을 i행에서 i+1 최댓값의 인덱스와 같은 인덱스를 제외한 나머지 3개의 최댓값과 더한다\n",
        "# 마지막행에는 각 인덱스가 안겹치게 만들어진 최댓값이 나옴. 마지막행에서 최댓값이 정답"
      ],
      "execution_count": 139,
      "outputs": []
    },
    {
      "cell_type": "code",
      "metadata": {
        "id": "cq1nLAmLLYr6",
        "outputId": "1ac44c3e-44b8-467a-8713-69b460a954f1",
        "colab": {
          "base_uri": "https://localhost:8080/",
          "height": 35
        }
      },
      "source": [
        "solution(land)"
      ],
      "execution_count": 140,
      "outputs": [
        {
          "output_type": "execute_result",
          "data": {
            "text/plain": [
              "16"
            ]
          },
          "metadata": {
            "tags": []
          },
          "execution_count": 140
        }
      ]
    },
    {
      "cell_type": "markdown",
      "metadata": {
        "id": "K8TDfVIJT8ms"
      },
      "source": [
        "포켓몬 고르기"
      ]
    },
    {
      "cell_type": "code",
      "metadata": {
        "id": "68vSWs_HT_Gp"
      },
      "source": [
        "nums = [3,1,2,3]"
      ],
      "execution_count": 119,
      "outputs": []
    },
    {
      "cell_type": "code",
      "metadata": {
        "id": "uyeVNPPPUNt0"
      },
      "source": [
        "def solution(nums):\n",
        "    if len(nums)/2 < len(set(nums)):\n",
        "        return len(nums)/2\n",
        "    else:\n",
        "        return len(set(nums))"
      ],
      "execution_count": 144,
      "outputs": []
    },
    {
      "cell_type": "code",
      "metadata": {
        "id": "lEu-1y2zkPia",
        "outputId": "a7bbd76c-6a3c-42ab-a344-c2da26a68e26",
        "colab": {
          "base_uri": "https://localhost:8080/",
          "height": 35
        }
      },
      "source": [
        "solution(nums)"
      ],
      "execution_count": 145,
      "outputs": [
        {
          "output_type": "execute_result",
          "data": {
            "text/plain": [
              "2.0"
            ]
          },
          "metadata": {
            "tags": []
          },
          "execution_count": 145
        }
      ]
    }
  ]
}