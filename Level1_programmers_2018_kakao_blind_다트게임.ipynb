{
  "nbformat": 4,
  "nbformat_minor": 0,
  "metadata": {
    "colab": {
      "name": "Level1_programmers_2018_kakao_blind_다트게임.ipynb",
      "provenance": [],
      "authorship_tag": "ABX9TyPsLgXR9I1ptFUz9WnTvqoc",
      "include_colab_link": true
    },
    "kernelspec": {
      "name": "python3",
      "display_name": "Python 3"
    }
  },
  "cells": [
    {
      "cell_type": "markdown",
      "metadata": {
        "id": "view-in-github",
        "colab_type": "text"
      },
      "source": [
        "<a href=\"https://colab.research.google.com/github/quotation3/Algorithm/blob/master/Level1_programmers_2018_kakao_blind_%EB%8B%A4%ED%8A%B8%EA%B2%8C%EC%9E%84.ipynb\" target=\"_parent\"><img src=\"https://colab.research.google.com/assets/colab-badge.svg\" alt=\"Open In Colab\"/></a>"
      ]
    },
    {
      "cell_type": "code",
      "metadata": {
        "id": "ZLODygKGFkNn"
      },
      "source": [
        "dartResult = '1S2D*3T'\r\n",
        "# answer = 37"
      ],
      "execution_count": 24,
      "outputs": []
    },
    {
      "cell_type": "code",
      "metadata": {
        "id": "M7HFy0JrMQh3"
      },
      "source": [
        "def solution(dartResult):\r\n",
        "\r\n",
        "    dart = []\r\n",
        "    answer = []\r\n",
        "    for i in range(len(dartResult)):\r\n",
        "        if dartResult[i] == '1' and dartResult[i+1] == '0':\r\n",
        "            dart.append('10')\r\n",
        "        elif dartResult[i] == '0' and dartResult[i-1] == '1':\r\n",
        "            continue\r\n",
        "        else:\r\n",
        "            dart.append(dartResult[i])\r\n",
        "\r\n",
        "    for i in range(1,len(dart)):\r\n",
        "        if dart[i] == 'S':\r\n",
        "            answer.append(int(dart[i-1]))\r\n",
        "        elif dart[i] == 'D':\r\n",
        "            answer.append(int(dart[i-1])**2)\r\n",
        "        elif dart[i] == 'T':\r\n",
        "            answer.append(int(dart[i-1])**3)\r\n",
        "        \r\n",
        "        if dart[i] == '*':\r\n",
        "            if len(answer) > 1:\r\n",
        "                answer[-1] = answer[-1]*2\r\n",
        "                answer[-2] = answer[-2]*2\r\n",
        "            else:\r\n",
        "                answer[-1] = answer[-1]*2\r\n",
        "        elif dart[i] == '#':\r\n",
        "            answer[-1]=answer[-1]*(-1)\r\n",
        "\r\n",
        "    return sum(answer)"
      ],
      "execution_count": 23,
      "outputs": []
    },
    {
      "cell_type": "code",
      "metadata": {
        "colab": {
          "base_uri": "https://localhost:8080/"
        },
        "id": "HB8A649PSowp",
        "outputId": "8d208be6-a221-4da6-da64-c55f9dbdd4da"
      },
      "source": [
        "solution(dartResult)"
      ],
      "execution_count": 25,
      "outputs": [
        {
          "output_type": "execute_result",
          "data": {
            "text/plain": [
              "37"
            ]
          },
          "metadata": {
            "tags": []
          },
          "execution_count": 25
        }
      ]
    }
  ]
}