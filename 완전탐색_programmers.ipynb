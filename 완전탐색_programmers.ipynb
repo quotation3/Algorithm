{
  "nbformat": 4,
  "nbformat_minor": 0,
  "metadata": {
    "colab": {
      "name": "완전탐색_programmers.ipynb",
      "provenance": [],
      "collapsed_sections": [],
      "authorship_tag": "ABX9TyM+wUsoU300VVwaFeUAG46D",
      "include_colab_link": true
    },
    "kernelspec": {
      "name": "python3",
      "display_name": "Python 3"
    }
  },
  "cells": [
    {
      "cell_type": "markdown",
      "metadata": {
        "id": "view-in-github",
        "colab_type": "text"
      },
      "source": [
        "<a href=\"https://colab.research.google.com/github/quotation3/Algorithm/blob/master/%EC%99%84%EC%A0%84%ED%83%90%EC%83%89_programmers.ipynb\" target=\"_parent\"><img src=\"https://colab.research.google.com/assets/colab-badge.svg\" alt=\"Open In Colab\"/></a>"
      ]
    },
    {
      "cell_type": "markdown",
      "metadata": {
        "id": "pkm4jwAS5ckH"
      },
      "source": [
        "### 모의고사"
      ]
    },
    {
      "cell_type": "markdown",
      "metadata": {
        "id": "eMshdoNe5cIO"
      },
      "source": [
        "수포자는 수학을 포기한 사람의 준말입니다. 수포자 삼인방은 모의고사에 수학 문제를 전부 찍으려 합니다. 수포자는 1번 문제부터 마지막 문제까지 다음과 같이 찍습니다.\n",
        "\n",
        "1번 수포자가 찍는 방식: 1, 2, 3, 4, 5, 1, 2, 3, 4, 5, ...\n",
        "2번 수포자가 찍는 방식: 2, 1, 2, 3, 2, 4, 2, 5, 2, 1, 2, 3, 2, 4, 2, 5, ...\n",
        "3번 수포자가 찍는 방식: 3, 3, 1, 1, 2, 2, 4, 4, 5, 5, 3, 3, 1, 1, 2, 2, 4, 4, 5, 5, ...\n",
        "\n",
        "1번 문제부터 마지막 문제까지의 정답이 순서대로 들은 배열 answers가 주어졌을 때, 가장 많은 문제를 맞힌 사람이 누구인지 배열에 담아 return 하도록 solution 함수를 작성해주세요."
      ]
    },
    {
      "cell_type": "code",
      "metadata": {
        "id": "TVzqtt2a5WW8"
      },
      "source": [
        "answers = [1,2,3,4,5]\n",
        "# return [1]"
      ],
      "execution_count": 11,
      "outputs": []
    },
    {
      "cell_type": "code",
      "metadata": {
        "id": "5u98weTn6__K",
        "outputId": "ff78f644-cc23-4a9c-b7fa-021f6c2860d0",
        "colab": {
          "base_uri": "https://localhost:8080/"
        }
      },
      "source": [
        "a = [1, 2, 3, 4, 5]\n",
        "b = [2, 1, 2, 3, 2, 4, 2, 5]\n",
        "c = [3, 3, 1, 1, 2, 2, 4, 4, 5, 5]\n",
        "\n",
        "cnt_a = 0\n",
        "cnt_b = 0\n",
        "cnt_c = 0\n",
        "\n",
        "for i in range(len(answers)):\n",
        "\n",
        "    if a[i%len(answers)] == answers[i]:\n",
        "        cnt_a += 1\n",
        "    if b[i%len(answers)] == answers[i]:\n",
        "        cnt_b += 1\n",
        "    if c[i%len(answers)] == answers[i]:\n",
        "        cnt_c += 1\n",
        "\n",
        "result = [cnt_a, cnt_b, cnt_c]\n",
        "\n",
        "answer = []\n",
        "for idx, s in enumerate(result):\n",
        "    if max(result) == s:\n",
        "        answer.append(idx+1)\n",
        "\n",
        "print(sorted(answer, reverse=False))"
      ],
      "execution_count": 16,
      "outputs": [
        {
          "output_type": "stream",
          "text": [
            "[1]\n"
          ],
          "name": "stdout"
        }
      ]
    },
    {
      "cell_type": "code",
      "metadata": {
        "id": "niq5QucF9WKP"
      },
      "source": [
        "def solution(answers):\n",
        "    \n",
        "    a = [1, 2, 3, 4, 5]\n",
        "    b = [2, 1, 2, 3, 2, 4, 2, 5]\n",
        "    c = [3, 3, 1, 1, 2, 2, 4, 4, 5, 5]\n",
        "    cnt_a = 0\n",
        "    cnt_b = 0\n",
        "    cnt_c = 0\n",
        "\n",
        "    for i in range(len(answers)):\n",
        "\n",
        "        if a[i%len(a)] == answers[i]:\n",
        "            cnt_a += 1\n",
        "        if b[i%len(b)] == answers[i]:\n",
        "            cnt_b += 1\n",
        "        if c[i%len(c)] == answers[i]:\n",
        "            cnt_c += 1\n",
        "    \n",
        "    result = [cnt_a, cnt_b, cnt_c]\n",
        "\n",
        "    answer = []\n",
        "    for idx, s in enumerate(result):\n",
        "        if max(result) == s:\n",
        "            answer.append(idx+1)\n",
        "\n",
        "    return sorted(answer, reverse=False)"
      ],
      "execution_count": 17,
      "outputs": []
    },
    {
      "cell_type": "code",
      "metadata": {
        "id": "oVDEIW1rgZn0",
        "outputId": "f8cfcf5d-f04e-416b-cf37-e331172863c3",
        "colab": {
          "base_uri": "https://localhost:8080/"
        }
      },
      "source": [
        "solution(answers)"
      ],
      "execution_count": 18,
      "outputs": [
        {
          "output_type": "execute_result",
          "data": {
            "text/plain": [
              "[1]"
            ]
          },
          "metadata": {
            "tags": []
          },
          "execution_count": 18
        }
      ]
    },
    {
      "cell_type": "markdown",
      "metadata": {
        "id": "TPj1bn0fh2Sp"
      },
      "source": [
        "### 소수 찾기"
      ]
    },
    {
      "cell_type": "markdown",
      "metadata": {
        "id": "my93Usr_h3yP"
      },
      "source": [
        "한자리 숫자가 적힌 종이 조각이 흩어져있습니다. 흩어진 종이 조각을 붙여 소수를 몇 개 만들 수 있는지 알아내려 합니다.\n",
        "\n",
        "각 종이 조각에 적힌 숫자가 적힌 문자열 numbers가 주어졌을 때, 종이 조각으로 만들 수 있는 소수가 몇 개인지 return 하도록 solution 함수를 완성해주세요."
      ]
    },
    {
      "cell_type": "code",
      "metadata": {
        "id": "AY463Z1Sh67F"
      },
      "source": [
        "numbers = '011'\n",
        "# return 3"
      ],
      "execution_count": 96,
      "outputs": []
    },
    {
      "cell_type": "code",
      "metadata": {
        "id": "oj8_bTAliCpe",
        "outputId": "e3f8517c-ef13-4c40-e820-cfc009d7a586",
        "colab": {
          "base_uri": "https://localhost:8080/"
        }
      },
      "source": [
        "lis = [i for i in numbers]\n",
        "lis"
      ],
      "execution_count": 97,
      "outputs": [
        {
          "output_type": "execute_result",
          "data": {
            "text/plain": [
              "['0', '1', '1']"
            ]
          },
          "metadata": {
            "tags": []
          },
          "execution_count": 97
        }
      ]
    },
    {
      "cell_type": "code",
      "metadata": {
        "id": "8TPwbtVqiaEB",
        "outputId": "52a2143d-2106-49c4-c453-9df2a5429e02",
        "colab": {
          "base_uri": "https://localhost:8080/"
        }
      },
      "source": [
        "from itertools import permutations\n",
        "\n",
        "num_list = []\n",
        "for i in range(len(lis)):\n",
        "    num_list.extend(list(permutations(lis, i+1)))\n",
        "num_list = list(set([int(''.join(j)) for j in num_list]))\n",
        "num_list"
      ],
      "execution_count": 98,
      "outputs": [
        {
          "output_type": "execute_result",
          "data": {
            "text/plain": [
              "[0, 1, 101, 10, 11, 110]"
            ]
          },
          "metadata": {
            "tags": []
          },
          "execution_count": 98
        }
      ]
    },
    {
      "cell_type": "code",
      "metadata": {
        "id": "pxNcaNh_FQg4"
      },
      "source": [
        "def check(n):\n",
        "    k = math.sqrt(n)\n",
        "    if n < 2: \n",
        "        return False\n",
        "\n",
        "    for i in range(2, int(k)+1):\n",
        "        if n % i == 0:\n",
        "            return False\n",
        "    return True"
      ],
      "execution_count": 99,
      "outputs": []
    },
    {
      "cell_type": "code",
      "metadata": {
        "id": "weOKokKPnEm5"
      },
      "source": [
        "from itertools import permutations\n",
        "import math\n",
        "\n",
        "def check(n):\n",
        "    k = math.sqrt(n)\n",
        "    if n < 2: \n",
        "        return False\n",
        "\n",
        "    for i in range(2, int(k)+1):\n",
        "        if n % i == 0:\n",
        "            return False\n",
        "    return True\n",
        "\n",
        "def solution(numbers):\n",
        "    answer = []\n",
        "    for k in range(1, len(numbers)+1):\n",
        "        perlist = list(map(''.join, permutations(list(numbers), k)))\n",
        "        for i in list(set(perlist)):\n",
        "            if check(int(i)):\n",
        "                answer.append(int(i))\n",
        "\n",
        "    answer = len(set(answer))\n",
        "\n",
        "    return answer"
      ],
      "execution_count": 100,
      "outputs": []
    },
    {
      "cell_type": "code",
      "metadata": {
        "id": "UlJm5aJ5nYY_",
        "outputId": "3b867e18-d640-4ba9-85d6-0c657b9d38d7",
        "colab": {
          "base_uri": "https://localhost:8080/"
        }
      },
      "source": [
        "solution(numbers)"
      ],
      "execution_count": 101,
      "outputs": [
        {
          "output_type": "execute_result",
          "data": {
            "text/plain": [
              "2"
            ]
          },
          "metadata": {
            "tags": []
          },
          "execution_count": 101
        }
      ]
    },
    {
      "cell_type": "markdown",
      "metadata": {
        "id": "fl6rzyn3NZwa"
      },
      "source": [
        "### 카펫"
      ]
    },
    {
      "cell_type": "markdown",
      "metadata": {
        "id": "dS5A6FPHNbak"
      },
      "source": [
        "Leo는 카펫을 사러 갔다가 아래 그림과 같이 중앙에는 노란색으로 칠해져 있고 테두리 1줄은 갈색으로 칠해져 있는 격자 모양 카펫을 봤습니다.\n",
        "Leo는 집으로 돌아와서 아까 본 카펫의 노란색과 갈색으로 색칠된 격자의 개수는 기억했지만, 전체 카펫의 크기는 기억하지 못했습니다.\n",
        "\n",
        "Leo가 본 카펫에서 갈색 격자의 수 brown, 노란색 격자의 수 yellow가 매개변수로 주어질 때 카펫의 가로, 세로 크기를 순서대로 배열에 담아 return 하도록 solution 함수를 작성해주세요."
      ]
    },
    {
      "cell_type": "code",
      "metadata": {
        "id": "q9aGV6Z7Nfpq"
      },
      "source": [
        "brown = 24\n",
        "yellow = 24\n",
        "# return = [8,6]"
      ],
      "execution_count": 107,
      "outputs": []
    },
    {
      "cell_type": "code",
      "metadata": {
        "id": "L--j_MxhODrv",
        "outputId": "58b837c7-66bd-4da6-8282-affc22004d65",
        "colab": {
          "base_uri": "https://localhost:8080/"
        }
      },
      "source": [
        "yaksu = []\n",
        "for i in range(1, int(yellow**0.5)+1):\n",
        "    if yellow%i == 0:\n",
        "       yaksu.append([i,yellow/i])\n",
        "print(yaksu)"
      ],
      "execution_count": 108,
      "outputs": [
        {
          "output_type": "stream",
          "text": [
            "[[1, 24.0], [2, 12.0], [3, 8.0], [4, 6.0]]\n"
          ],
          "name": "stdout"
        }
      ]
    },
    {
      "cell_type": "code",
      "metadata": {
        "id": "0pmRMUkRU2Ry",
        "outputId": "2dc983b7-18e0-4669-c6c3-37ce40873701",
        "colab": {
          "base_uri": "https://localhost:8080/"
        }
      },
      "source": [
        "for a,b in yaksu:\n",
        "    if (a+2)*(b+2)-yellow==brown:\n",
        "        print(a+2,b+2)"
      ],
      "execution_count": 110,
      "outputs": [
        {
          "output_type": "stream",
          "text": [
            "6 8.0\n"
          ],
          "name": "stdout"
        }
      ]
    },
    {
      "cell_type": "code",
      "metadata": {
        "id": "xjPLpAYKVOyA"
      },
      "source": [
        "def solution(brown, yellow):\n",
        "    yaksu = []\n",
        "    for i in range(1, int(yellow**0.5)+1):\n",
        "        if yellow%i == 0:\n",
        "            yaksu.append([i,yellow/i])\n",
        "    for a,b in yaksu:\n",
        "        if (a+2)*(b+2)-yellow==brown:\n",
        "            answer = [a+2,b+2]\n",
        "\n",
        "    if answer[0]<answer[1]:\n",
        "        answer[0],answer[1]= answer[1],answer[0]\n",
        "    return answer"
      ],
      "execution_count": 114,
      "outputs": []
    },
    {
      "cell_type": "code",
      "metadata": {
        "id": "WAofgwNyVXZY",
        "outputId": "194053f2-ec12-4469-d0f1-bc0f932d2b7c",
        "colab": {
          "base_uri": "https://localhost:8080/"
        }
      },
      "source": [
        "solution(brown,yellow)"
      ],
      "execution_count": 115,
      "outputs": [
        {
          "output_type": "execute_result",
          "data": {
            "text/plain": [
              "[8.0, 6]"
            ]
          },
          "metadata": {
            "tags": []
          },
          "execution_count": 115
        }
      ]
    }
  ]
}