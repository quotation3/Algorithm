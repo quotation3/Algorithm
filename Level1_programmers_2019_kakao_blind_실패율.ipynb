{
  "nbformat": 4,
  "nbformat_minor": 0,
  "metadata": {
    "colab": {
      "name": "Level1_programmers_2019_kakao_blind_실패율.ipynb",
      "provenance": [],
      "authorship_tag": "ABX9TyPiH1pHN59eU9agdVVw+xrL",
      "include_colab_link": true
    },
    "kernelspec": {
      "name": "python3",
      "display_name": "Python 3"
    }
  },
  "cells": [
    {
      "cell_type": "markdown",
      "metadata": {
        "id": "view-in-github",
        "colab_type": "text"
      },
      "source": [
        "<a href=\"https://colab.research.google.com/github/quotation3/Algorithm/blob/master/Level1_programmers_2019_kakao_blind_%EC%8B%A4%ED%8C%A8%EC%9C%A8.ipynb\" target=\"_parent\"><img src=\"https://colab.research.google.com/assets/colab-badge.svg\" alt=\"Open In Colab\"/></a>"
      ]
    },
    {
      "cell_type": "markdown",
      "metadata": {
        "id": "VqxoNXZntR33"
      },
      "source": [
        "### 실패율\r\n"
      ]
    },
    {
      "cell_type": "code",
      "metadata": {
        "id": "E4tm-5tisBIp"
      },
      "source": [
        "N = 5\r\n",
        "stages = [2, 1, 2, 6, 2, 4, 3, 3]\r\n",
        "# result [3,4,2,1,5]"
      ],
      "execution_count": 87,
      "outputs": []
    },
    {
      "cell_type": "code",
      "metadata": {
        "id": "92F73zyXtbqh"
      },
      "source": [
        "# 시간초과\r\n",
        "\r\n",
        "def solution(N, stages):\r\n",
        "\r\n",
        "    stages.sort()\r\n",
        "    i = 1\r\n",
        "    failure = []\r\n",
        "    result = []\r\n",
        "    while i<N+1:\r\n",
        "        failure.append([i, stages.count(i)/len(stages)])\r\n",
        "        for j in range(stages.count(i)):\r\n",
        "            stages.remove(i)\r\n",
        "        i+=1\r\n",
        "    \r\n",
        "    for i in sorted(failure, key = lambda x : (-x[1], x[0])):\r\n",
        "        result.append(i[0])\r\n",
        "\r\n",
        "    return result"
      ],
      "execution_count": 88,
      "outputs": []
    },
    {
      "cell_type": "code",
      "metadata": {
        "colab": {
          "base_uri": "https://localhost:8080/"
        },
        "id": "IGQ_mS4L5Km0",
        "outputId": "2992730c-e48b-416c-bfc2-369d868ebedf"
      },
      "source": [
        "solution(N, stages)"
      ],
      "execution_count": 89,
      "outputs": [
        {
          "output_type": "execute_result",
          "data": {
            "text/plain": [
              "[3, 4, 2, 1, 5]"
            ]
          },
          "metadata": {
            "tags": []
          },
          "execution_count": 89
        }
      ]
    },
    {
      "cell_type": "code",
      "metadata": {
        "id": "ByRRJpP5ABIt"
      },
      "source": [
        "N = 5\r\n",
        "stages = [2, 1, 2, 6, 2, 4, 3, 3]\r\n",
        "# result [3,4,2,1,5]"
      ],
      "execution_count": 91,
      "outputs": []
    },
    {
      "cell_type": "code",
      "metadata": {
        "id": "ZhjnkU485XsV"
      },
      "source": [
        "# 시간초과\r\n",
        "\r\n",
        "import collections\r\n",
        "\r\n",
        "def solution(N, stages):\r\n",
        "\r\n",
        "    lis = collections.Counter(stages)\r\n",
        "    failure  = []\r\n",
        "    result = []\r\n",
        "    i = 1\r\n",
        "    while i<N+1:\r\n",
        "        sum_value = 0\r\n",
        "        for j in lis:\r\n",
        "            sum_value+=lis[j]\r\n",
        "        failure.append([i,lis[i]/sum_value])\r\n",
        "        del lis[i]\r\n",
        "        i+=1\r\n",
        "\r\n",
        "    for i in sorted(failure, key = lambda x : (-x[1], x[0])):\r\n",
        "        result.append(i[0])\r\n",
        "\r\n",
        "    return result"
      ],
      "execution_count": 92,
      "outputs": []
    },
    {
      "cell_type": "code",
      "metadata": {
        "colab": {
          "base_uri": "https://localhost:8080/"
        },
        "id": "6nAqflUi5l8J",
        "outputId": "d7285d6e-70c0-4b9e-9c54-49202bf3a507"
      },
      "source": [
        "solution(N, stages)"
      ],
      "execution_count": 93,
      "outputs": [
        {
          "output_type": "execute_result",
          "data": {
            "text/plain": [
              "[3, 4, 2, 1, 5]"
            ]
          },
          "metadata": {
            "tags": []
          },
          "execution_count": 93
        }
      ]
    },
    {
      "cell_type": "code",
      "metadata": {
        "id": "f3hNUlSBAGQN"
      },
      "source": [
        "N = 5\r\n",
        "stages = [2, 1, 2, 6, 2, 4, 3, 3]\r\n",
        "# result [3,4,2,1,5]"
      ],
      "execution_count": 94,
      "outputs": []
    },
    {
      "cell_type": "code",
      "metadata": {
        "id": "-9w-1M_s-vSt"
      },
      "source": [
        "def solution(N,stages):\r\n",
        "    result = {}\r\n",
        "    length = len(stages)\r\n",
        "\r\n",
        "    for i in range(1,N+1):\r\n",
        "        if length != 0:\r\n",
        "            result[i] = stages.count(i)/length\r\n",
        "            length -= stages.count(i)\r\n",
        "        else:\r\n",
        "            result[i] = 0\r\n",
        "    \r\n",
        "    return sorted(result, key = lambda x : -result[x])"
      ],
      "execution_count": 95,
      "outputs": []
    },
    {
      "cell_type": "code",
      "metadata": {
        "colab": {
          "base_uri": "https://localhost:8080/"
        },
        "id": "B9L2YwgC_RYi",
        "outputId": "39348156-2c05-4964-defd-8c6d63a5ceea"
      },
      "source": [
        "solution(N,stages)"
      ],
      "execution_count": 96,
      "outputs": [
        {
          "output_type": "execute_result",
          "data": {
            "text/plain": [
              "[3, 4, 2, 1, 5]"
            ]
          },
          "metadata": {
            "tags": []
          },
          "execution_count": 96
        }
      ]
    },
    {
      "cell_type": "code",
      "metadata": {
        "id": "7woSPCdpD67F"
      },
      "source": [
        "# 다른 풀이\r\n",
        "\r\n",
        "def solution(N, stages):\r\n",
        "    fail = {}\r\n",
        "    for i in range(1,N+1):\r\n",
        "        try:\r\n",
        "            fail_ = len([a for a in stages if a==i])/len([a for a in stages if a>=i])\r\n",
        "        except:\r\n",
        "            fail_ = 0\r\n",
        "        fail[i]=fail_\r\n",
        "    answer = sorted(fail, key=fail.get, reverse=True)\r\n",
        "    return answer"
      ],
      "execution_count": 100,
      "outputs": []
    },
    {
      "cell_type": "code",
      "metadata": {
        "colab": {
          "base_uri": "https://localhost:8080/"
        },
        "id": "Ieq8JzkcD8YA",
        "outputId": "398a85dc-f12b-49ff-939c-19b12c053697"
      },
      "source": [
        "solution(N,stages)"
      ],
      "execution_count": 101,
      "outputs": [
        {
          "output_type": "execute_result",
          "data": {
            "text/plain": [
              "[3, 4, 2, 1, 5]"
            ]
          },
          "metadata": {
            "tags": []
          },
          "execution_count": 101
        }
      ]
    }
  ]
}