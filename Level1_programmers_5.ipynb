{
  "nbformat": 4,
  "nbformat_minor": 0,
  "metadata": {
    "colab": {
      "name": "Level1_programmers_5.ipynb",
      "provenance": [],
      "authorship_tag": "ABX9TyNZKDB74YJD6SckexdO631S",
      "include_colab_link": true
    },
    "kernelspec": {
      "name": "python3",
      "display_name": "Python 3"
    }
  },
  "cells": [
    {
      "cell_type": "markdown",
      "metadata": {
        "id": "view-in-github",
        "colab_type": "text"
      },
      "source": [
        "<a href=\"https://colab.research.google.com/github/quotation3/Algorithm/blob/master/Level1_programmers_5.ipynb\" target=\"_parent\"><img src=\"https://colab.research.google.com/assets/colab-badge.svg\" alt=\"Open In Colab\"/></a>"
      ]
    },
    {
      "cell_type": "markdown",
      "metadata": {
        "id": "lRl2mXgXdjH9"
      },
      "source": [
        "### 콜라츠 추측"
      ]
    },
    {
      "cell_type": "code",
      "metadata": {
        "id": "JeTJZvagddVc"
      },
      "source": [
        "num = 6\r\n",
        "# result = 8"
      ],
      "execution_count": 25,
      "outputs": []
    },
    {
      "cell_type": "code",
      "metadata": {
        "id": "hU7D1ZJ7dwUU"
      },
      "source": [
        "def solution(num):\r\n",
        "    if num == 1:\r\n",
        "        return 0\r\n",
        "\r\n",
        "    cnt = 0\r\n",
        "    while True:\r\n",
        "        if num%2 == 0:\r\n",
        "            num = num/2\r\n",
        "            cnt +=1\r\n",
        "        else:\r\n",
        "            num = num*3+1\r\n",
        "            cnt +=1\r\n",
        "\r\n",
        "        if num == 1:\r\n",
        "            return cnt\r\n",
        "\r\n",
        "        elif cnt == 500:\r\n",
        "            return -1\r\n",
        "            break"
      ],
      "execution_count": 26,
      "outputs": []
    },
    {
      "cell_type": "code",
      "metadata": {
        "colab": {
          "base_uri": "https://localhost:8080/"
        },
        "id": "2-DBVDltgtPs",
        "outputId": "abac15d1-5038-4da2-9e47-35ace6e5fd7f"
      },
      "source": [
        "solution(num)"
      ],
      "execution_count": 27,
      "outputs": [
        {
          "output_type": "execute_result",
          "data": {
            "text/plain": [
              "8"
            ]
          },
          "metadata": {
            "tags": []
          },
          "execution_count": 27
        }
      ]
    },
    {
      "cell_type": "markdown",
      "metadata": {
        "id": "Ro2Obo5Rg5Ee"
      },
      "source": [
        "### 평균 구하기"
      ]
    },
    {
      "cell_type": "code",
      "metadata": {
        "id": "iqzQLyEYhUH7"
      },
      "source": [
        "arr = [1,2,3,4]\r\n",
        "# return 2.5"
      ],
      "execution_count": 28,
      "outputs": []
    },
    {
      "cell_type": "code",
      "metadata": {
        "id": "RaBsPJW1hYcf"
      },
      "source": [
        "import numpy as np\r\n",
        "def solution(arr):\r\n",
        "    return np.mean(np.array(arr))"
      ],
      "execution_count": 31,
      "outputs": []
    },
    {
      "cell_type": "code",
      "metadata": {
        "id": "pNvK3TdKh3Mv"
      },
      "source": [
        "def solution(arr):\r\n",
        "    return sum(arr)/len(arr)"
      ],
      "execution_count": 35,
      "outputs": []
    },
    {
      "cell_type": "code",
      "metadata": {
        "colab": {
          "base_uri": "https://localhost:8080/"
        },
        "id": "mvICupYyhs-9",
        "outputId": "72465d09-368a-48fa-be53-ee9858250451"
      },
      "source": [
        "solution(arr)"
      ],
      "execution_count": 34,
      "outputs": [
        {
          "output_type": "execute_result",
          "data": {
            "text/plain": [
              "2.5"
            ]
          },
          "metadata": {
            "tags": []
          },
          "execution_count": 34
        }
      ]
    },
    {
      "cell_type": "markdown",
      "metadata": {
        "id": "cb7G533VjU7t"
      },
      "source": [
        "### 하샤드 수"
      ]
    },
    {
      "cell_type": "code",
      "metadata": {
        "id": "AIHjLP8IjWOP"
      },
      "source": [
        "n = 10\r\n",
        "# return True"
      ],
      "execution_count": 52,
      "outputs": []
    },
    {
      "cell_type": "code",
      "metadata": {
        "id": "a08Qc9dojZPw"
      },
      "source": [
        "def solution(n):\r\n",
        "    return n%sum(list(map(int,str(n))))==0 and True or False"
      ],
      "execution_count": 53,
      "outputs": []
    },
    {
      "cell_type": "code",
      "metadata": {
        "colab": {
          "base_uri": "https://localhost:8080/"
        },
        "id": "5zS5X9bWlNHW",
        "outputId": "141d87bb-83da-41b7-b5d2-bee08ef230f7"
      },
      "source": [
        "solution(n)"
      ],
      "execution_count": 54,
      "outputs": [
        {
          "output_type": "execute_result",
          "data": {
            "text/plain": [
              "True"
            ]
          },
          "metadata": {
            "tags": []
          },
          "execution_count": 54
        }
      ]
    },
    {
      "cell_type": "markdown",
      "metadata": {
        "id": "VUoZbxLIlqzE"
      },
      "source": [
        "### 핸드폰 번호 가리기"
      ]
    },
    {
      "cell_type": "code",
      "metadata": {
        "id": "Wsun7riSlxPp"
      },
      "source": [
        "s='01033334444'\r\n",
        "# return *******4444"
      ],
      "execution_count": 55,
      "outputs": []
    },
    {
      "cell_type": "code",
      "metadata": {
        "id": "mWOwLy2al4KR"
      },
      "source": [
        "def solution(s):\r\n",
        "    return \"*\"*(len(s)-4) + s[-4:]"
      ],
      "execution_count": 62,
      "outputs": []
    },
    {
      "cell_type": "code",
      "metadata": {
        "colab": {
          "base_uri": "https://localhost:8080/",
          "height": 35
        },
        "id": "NoMQomE1mnPf",
        "outputId": "08d5e971-3a80-4625-96d1-281dd3eaafa8"
      },
      "source": [
        "solution(s)"
      ],
      "execution_count": 63,
      "outputs": [
        {
          "output_type": "execute_result",
          "data": {
            "application/vnd.google.colaboratory.intrinsic+json": {
              "type": "string"
            },
            "text/plain": [
              "'*******4444'"
            ]
          },
          "metadata": {
            "tags": []
          },
          "execution_count": 63
        }
      ]
    },
    {
      "cell_type": "markdown",
      "metadata": {
        "id": "mhJD7adomvcV"
      },
      "source": [
        "### 행렬의 덧셈"
      ]
    },
    {
      "cell_type": "code",
      "metadata": {
        "id": "mye-YpcHnDpF"
      },
      "source": [
        "arr1 = [[1,2],[2,3]]\r\n",
        "arr2 = [[3,4],[5,6]]\r\n",
        "# return [[4,6],[7,9]]"
      ],
      "execution_count": 64,
      "outputs": []
    },
    {
      "cell_type": "code",
      "metadata": {
        "id": "pbbEqN-6nJo7"
      },
      "source": [
        "import numpy as np\r\n",
        "def solution(arr1, arr2):\r\n",
        "    lis = np.array(arr1)+np.array(arr2)\r\n",
        "    answer = []\r\n",
        "    for i in lis:\r\n",
        "        answer.append(i.tolist())\r\n",
        "    return answer"
      ],
      "execution_count": 70,
      "outputs": []
    },
    {
      "cell_type": "code",
      "metadata": {
        "colab": {
          "base_uri": "https://localhost:8080/"
        },
        "id": "fERZRWhgoLcS",
        "outputId": "305c8ee5-2ee4-4d7a-f534-d043d6a94278"
      },
      "source": [
        "solution(arr1, arr2)"
      ],
      "execution_count": 81,
      "outputs": [
        {
          "output_type": "execute_result",
          "data": {
            "text/plain": [
              "array([[4, 6],\n",
              "       [7, 9]])"
            ]
          },
          "metadata": {
            "tags": []
          },
          "execution_count": 81
        }
      ]
    },
    {
      "cell_type": "code",
      "metadata": {
        "id": "dDiQ2yPopLIu"
      },
      "source": [
        "# 다른 풀이\r\n",
        "def sumMatrix(A,B):\r\n",
        "    answer = [[c + d for c, d in zip(a, b)] for a, b in zip(A,B)]\r\n",
        "    return answer"
      ],
      "execution_count": 85,
      "outputs": []
    },
    {
      "cell_type": "markdown",
      "metadata": {
        "id": "5QBEWrO6qMMp"
      },
      "source": [
        "### x만큼 간격이 있는 n개의 숫자"
      ]
    },
    {
      "cell_type": "code",
      "metadata": {
        "id": "CKfdshmpqZdn"
      },
      "source": [
        "x = 2\r\n",
        "n = 5\r\n",
        "# answer = [2,4,6,8,10]"
      ],
      "execution_count": 90,
      "outputs": []
    },
    {
      "cell_type": "code",
      "metadata": {
        "id": "HIgpD-NBqPZr"
      },
      "source": [
        "def solution(x, n):\r\n",
        "    return [x*i for i in range(1,n+1)]"
      ],
      "execution_count": 94,
      "outputs": []
    },
    {
      "cell_type": "code",
      "metadata": {
        "colab": {
          "base_uri": "https://localhost:8080/"
        },
        "id": "2jJvxY6Vq3_V",
        "outputId": "3cb19b25-cb12-4db1-b0a8-7628ab690aa6"
      },
      "source": [
        "solution(x, n)"
      ],
      "execution_count": 95,
      "outputs": [
        {
          "output_type": "execute_result",
          "data": {
            "text/plain": [
              "[2, 4, 6, 8, 10]"
            ]
          },
          "metadata": {
            "tags": []
          },
          "execution_count": 95
        }
      ]
    },
    {
      "cell_type": "markdown",
      "metadata": {
        "id": "h_y0HXAvrt2n"
      },
      "source": [
        "### 직사각형 별찍기"
      ]
    },
    {
      "cell_type": "code",
      "metadata": {
        "colab": {
          "base_uri": "https://localhost:8080/"
        },
        "id": "IE01aBhtrvyt",
        "outputId": "54d7dfe9-cc85-4bf3-9263-24017d5abdac"
      },
      "source": [
        "a, b = map(int, input().strip().split(' '))\r\n",
        "for i in range(b):\r\n",
        "    print('*'*a)"
      ],
      "execution_count": 97,
      "outputs": [
        {
          "output_type": "stream",
          "text": [
            "5 3\n",
            "*****\n",
            "*****\n",
            "*****\n"
          ],
          "name": "stdout"
        }
      ]
    },
    {
      "cell_type": "code",
      "metadata": {
        "colab": {
          "base_uri": "https://localhost:8080/",
          "height": 35
        },
        "id": "Qsug64nfsKR1",
        "outputId": "61ec4248-97dc-473e-e33d-9c4fbd8de63c"
      },
      "source": [
        "# 다른 풀이\r\n",
        "answer = ('*'*a +'\\n')*b\r\n",
        "answer"
      ],
      "execution_count": 99,
      "outputs": [
        {
          "output_type": "execute_result",
          "data": {
            "application/vnd.google.colaboratory.intrinsic+json": {
              "type": "string"
            },
            "text/plain": [
              "'*****\\n*****\\n*****\\n'"
            ]
          },
          "metadata": {
            "tags": []
          },
          "execution_count": 99
        }
      ]
    }
  ]
}