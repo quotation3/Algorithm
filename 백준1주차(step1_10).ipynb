{
  "nbformat": 4,
  "nbformat_minor": 0,
  "metadata": {
    "colab": {
      "name": "백준1주차(step1-10).ipynb",
      "provenance": [],
      "collapsed_sections": [],
      "authorship_tag": "ABX9TyOihXLLQmiJ9s09ldDV41zo",
      "include_colab_link": true
    },
    "kernelspec": {
      "name": "python3",
      "display_name": "Python 3"
    }
  },
  "cells": [
    {
      "cell_type": "markdown",
      "metadata": {
        "id": "view-in-github",
        "colab_type": "text"
      },
      "source": [
        "<a href=\"https://colab.research.google.com/github/quotation3/Algorithm/blob/master/%EB%B0%B1%EC%A4%801%EC%A3%BC%EC%B0%A8(step1_10).ipynb\" target=\"_parent\"><img src=\"https://colab.research.google.com/assets/colab-badge.svg\" alt=\"Open In Colab\"/></a>"
      ]
    },
    {
      "cell_type": "code",
      "metadata": {
        "id": "yne4syf45R9N",
        "colab": {
          "base_uri": "https://localhost:8080/"
        },
        "outputId": "dc7b6ef7-236a-457a-d897-dd4375c05a83"
      },
      "source": [
        "# 입출력과 사칙연산 - Hello World\n",
        "print('Hello World!')"
      ],
      "execution_count": 1,
      "outputs": [
        {
          "output_type": "stream",
          "text": [
            "Hello World!\n"
          ],
          "name": "stdout"
        }
      ]
    },
    {
      "cell_type": "code",
      "metadata": {
        "id": "oj-EfT8WuXoP",
        "colab": {
          "base_uri": "https://localhost:8080/"
        },
        "outputId": "13a0b055-a92a-441f-8484-67fdeaec73de"
      },
      "source": [
        "# 입출력과 사칙연산 - 고양이\n",
        "print(\"\\\\    /\\\\\\n )  ( ')\\n(  /  )\\n \\(__)|\")"
      ],
      "execution_count": 2,
      "outputs": [
        {
          "output_type": "stream",
          "text": [
            "\\    /\\\n",
            " )  ( ')\n",
            "(  /  )\n",
            " \\(__)|\n"
          ],
          "name": "stdout"
        }
      ]
    },
    {
      "cell_type": "code",
      "metadata": {
        "id": "vwxfnpoU54jm",
        "colab": {
          "base_uri": "https://localhost:8080/"
        },
        "outputId": "8b8a55c6-3b29-4646-81b5-04b66b9b8963"
      },
      "source": [
        "# if문 - 두 수 비교하기\n",
        "A, B = input().split(' ')\n",
        "A = int(A)\n",
        "B = int(B)\n",
        "if A>B:\n",
        "    print('>')\n",
        "elif A<B:\n",
        "    print('<')\n",
        "else :\n",
        "    print('==')"
      ],
      "execution_count": 3,
      "outputs": [
        {
          "output_type": "stream",
          "text": [
            "5 4\n",
            ">\n"
          ],
          "name": "stdout"
        }
      ]
    },
    {
      "cell_type": "code",
      "metadata": {
        "id": "zkwTeuHu8fom",
        "colab": {
          "base_uri": "https://localhost:8080/"
        },
        "outputId": "43e2f19c-a0d4-45ce-88e9-395b71c1ba5b"
      },
      "source": [
        "# if문 - 윤년\n",
        "year = int(input(''))\n",
        "\n",
        "if year%4 == 0 and year%100 != 0:\n",
        "    print('1')\n",
        "elif year%400  == 0:\n",
        "    print('1')\n",
        "else:\n",
        "    print('0')"
      ],
      "execution_count": 4,
      "outputs": [
        {
          "output_type": "stream",
          "text": [
            "2016\n",
            "1\n"
          ],
          "name": "stdout"
        }
      ]
    },
    {
      "cell_type": "code",
      "metadata": {
        "id": "G7rK09CD_qEz",
        "colab": {
          "base_uri": "https://localhost:8080/"
        },
        "outputId": "3acf9e37-6151-43f8-a485-b1255509ca34"
      },
      "source": [
        "# for문 - 구구단\n",
        "N = int(input())\n",
        "for i in range(1,10):\n",
        "    print(N,'*',i,'=',N*i)"
      ],
      "execution_count": 5,
      "outputs": [
        {
          "output_type": "stream",
          "text": [
            "9\n",
            "9 * 1 = 9\n",
            "9 * 2 = 18\n",
            "9 * 3 = 27\n",
            "9 * 4 = 36\n",
            "9 * 5 = 45\n",
            "9 * 6 = 54\n",
            "9 * 7 = 63\n",
            "9 * 8 = 72\n",
            "9 * 9 = 81\n"
          ],
          "name": "stdout"
        }
      ]
    },
    {
      "cell_type": "code",
      "metadata": {
        "id": "DocvXz3hAoXq",
        "colab": {
          "base_uri": "https://localhost:8080/"
        },
        "outputId": "2a1e6ddd-a274-48b7-9a71-5657c89975fc"
      },
      "source": [
        "# for문 - N찍기\n",
        "a = int(input())\n",
        "for i in range(1,a+1):\n",
        "    print(i)"
      ],
      "execution_count": 6,
      "outputs": [
        {
          "output_type": "stream",
          "text": [
            "5\n",
            "1\n",
            "2\n",
            "3\n",
            "4\n",
            "5\n"
          ],
          "name": "stdout"
        }
      ]
    },
    {
      "cell_type": "code",
      "metadata": {
        "id": "EoxSfegsfCg0",
        "colab": {
          "base_uri": "https://localhost:8080/"
        },
        "outputId": "9d5ea35f-83ed-4e7e-86e6-11e4dd0153fa"
      },
      "source": [
        "# while문 - A+B - 5\n",
        "while True:\n",
        "    A,B = input().split(' ')\n",
        "    A = int(A)\n",
        "    B = int(B)\n",
        "    if A != 0 and B != 0:\n",
        "        print(A+B)\n",
        "\n",
        "    if A == 0 and B == 0:\n",
        "        break"
      ],
      "execution_count": 7,
      "outputs": [
        {
          "output_type": "stream",
          "text": [
            "6 7\n",
            "13\n",
            "15 4\n",
            "19\n",
            "0 0\n"
          ],
          "name": "stdout"
        }
      ]
    },
    {
      "cell_type": "code",
      "metadata": {
        "id": "-bcdUmNBf8ch",
        "colab": {
          "base_uri": "https://localhost:8080/"
        },
        "outputId": "ec8c943f-72af-447d-ed61-5c26509d1c45"
      },
      "source": [
        "# while문 - 더하기 사이클\n",
        "a = int(input())\n",
        "check = a\n",
        "cnt = 0\n",
        "\n",
        "while True:\n",
        "    x = a//10 + a%10\n",
        "    new_x = (a%10)*10 + x%10\n",
        "    cnt += 1\n",
        "    a = new_x\n",
        "    if new_x == check:\n",
        "        break\n",
        "print(cnt)"
      ],
      "execution_count": 8,
      "outputs": [
        {
          "output_type": "stream",
          "text": [
            "42\n",
            "4\n"
          ],
          "name": "stdout"
        }
      ]
    },
    {
      "cell_type": "code",
      "metadata": {
        "id": "-pU5ucrCUZ7q",
        "colab": {
          "base_uri": "https://localhost:8080/"
        },
        "outputId": "07a039bf-3c2e-47fb-d956-f67faabf050c"
      },
      "source": [
        "# 실습1 - 평균 점수\n",
        "s = []\n",
        "for j in range(5):\n",
        "    a=int(input())\n",
        "    if a<40:\n",
        "        a = 40\n",
        "    s.append(a)\n",
        "\n",
        "avg = int(sum(s)/5)\n",
        "print(avg)"
      ],
      "execution_count": 9,
      "outputs": [
        {
          "output_type": "stream",
          "text": [
            "61\n",
            "85\n",
            "63\n",
            "14\n",
            "77\n",
            "65\n"
          ],
          "name": "stdout"
        }
      ]
    },
    {
      "cell_type": "code",
      "metadata": {
        "id": "lZ4MBuywWZcu",
        "colab": {
          "base_uri": "https://localhost:8080/"
        },
        "outputId": "49369207-8783-4bae-8c36-efaec4a87c6b"
      },
      "source": [
        "# 실습1 - 세 수\n",
        "a, b, c = input().split()\n",
        "a = int(a)\n",
        "b = int(b)\n",
        "c = int(c)\n",
        "\n",
        "n_li = [a,b,c]\n",
        "list(reversed(n_li))[1]"
      ],
      "execution_count": 16,
      "outputs": [
        {
          "output_type": "stream",
          "text": [
            "85 74 12\n"
          ],
          "name": "stdout"
        },
        {
          "output_type": "execute_result",
          "data": {
            "text/plain": [
              "74"
            ]
          },
          "metadata": {
            "tags": []
          },
          "execution_count": 16
        }
      ]
    },
    {
      "cell_type": "code",
      "metadata": {
        "id": "WxX23ABcX6bp",
        "colab": {
          "base_uri": "https://localhost:8080/"
        },
        "outputId": "cf1afcf9-d199-497e-b6bb-cab2c84f38ac"
      },
      "source": [
        "# 실습1 - 세 수\n",
        "a = list(input().split())\n",
        "for i in range(len(a)):\n",
        "    a[i] = int(a[i])\n",
        "a.sort(reverse=True)\n",
        "print(a[1])"
      ],
      "execution_count": 17,
      "outputs": [
        {
          "output_type": "stream",
          "text": [
            "6 4 12\n",
            "6\n"
          ],
          "name": "stdout"
        }
      ]
    },
    {
      "cell_type": "code",
      "metadata": {
        "id": "TIbjrifqa2F4",
        "colab": {
          "base_uri": "https://localhost:8080/"
        },
        "outputId": "3c06ff20-236b-481d-c31e-a6a8bdd14f9d"
      },
      "source": [
        "# 1차원 배열 - 최소, 최대\n",
        "a = int(input())\n",
        "b = input().split()\n",
        "n_li = []\n",
        "for i in range(a):\n",
        "    n_li.append(int(b[i]))\n",
        "    \n",
        "print(min(n_li), max(n_li))"
      ],
      "execution_count": 20,
      "outputs": [
        {
          "output_type": "stream",
          "text": [
            "3\n",
            "4 5 3\n",
            "3 5\n"
          ],
          "name": "stdout"
        }
      ]
    },
    {
      "cell_type": "code",
      "metadata": {
        "id": "O7zXHXXZbxEY",
        "colab": {
          "base_uri": "https://localhost:8080/"
        },
        "outputId": "91ee6de5-ab8f-4910-d3ac-94a5d06832e8"
      },
      "source": [
        "# 1차원 배열 - 숫자의 개수\n",
        "a = int(input())\n",
        "b = int(input())\n",
        "c = int(input())\n",
        "\n",
        "n= str(a*b*c)\n",
        "\n",
        "for i in range(10):\n",
        "    print(n.count(str(i)))"
      ],
      "execution_count": 21,
      "outputs": [
        {
          "output_type": "stream",
          "text": [
            "2\n",
            "9\n",
            "7\n",
            "0\n",
            "1\n",
            "1\n",
            "0\n",
            "0\n",
            "0\n",
            "1\n",
            "0\n",
            "0\n",
            "0\n"
          ],
          "name": "stdout"
        }
      ]
    },
    {
      "cell_type": "code",
      "metadata": {
        "id": "zsB0j35Yd7lN",
        "colab": {
          "base_uri": "https://localhost:8080/"
        },
        "outputId": "9366c90c-fd9f-435f-cbeb-4152cd201cb8"
      },
      "source": [
        "# 1차원 배열 - 평균은 넘겠지\n",
        "n = int(input())\n",
        "result = []\n",
        "for i in range(n):\n",
        "    s_li = list(map(int, input().split()))\n",
        "    avg = sum(s_li[1:])/s_li[0]\n",
        "    cnt=0\n",
        "    for j in s_li[1:]:\n",
        "        if j > avg:\n",
        "            cnt+=1\n",
        "    result.append(cnt/s_li[0])\n",
        "\n",
        "for r in result:\n",
        "    print(format(r,'.3%'))"
      ],
      "execution_count": 24,
      "outputs": [
        {
          "output_type": "stream",
          "text": [
            "3\n",
            "94 51 64\n",
            "75 56 35\n",
            "41 56 98\n",
            "2.128%\n",
            "2.667%\n",
            "4.878%\n"
          ],
          "name": "stdout"
        }
      ]
    },
    {
      "cell_type": "code",
      "metadata": {
        "id": "xXRtDCwKRA3Q"
      },
      "source": [
        "# 함수 - 정수 N개의 합\n",
        "def solve(a):\n",
        "    ans = 0\n",
        "    for v in a:\n",
        "        ans += v\n",
        "    return ans"
      ],
      "execution_count": 25,
      "outputs": []
    },
    {
      "cell_type": "code",
      "metadata": {
        "id": "ZC0J7jpGkMmz",
        "colab": {
          "base_uri": "https://localhost:8080/"
        },
        "outputId": "6c4e421d-36f1-4dc1-a7a1-d9c5b2af2d5f"
      },
      "source": [
        "# 함수 - 한수\n",
        "n = int(input())\n",
        "cnt = 0\n",
        "\n",
        "for i in range(1, n+1):\n",
        "    if i <=99:\n",
        "        cnt+=1\n",
        "    else:\n",
        "        if int(str(i)[0])-int(str(i)[1]) == int(str(i)[1])-int(str(i)[2]):\n",
        "            cnt+=1\n",
        "cnt"
      ],
      "execution_count": 26,
      "outputs": [
        {
          "output_type": "stream",
          "text": [
            "5\n"
          ],
          "name": "stdout"
        },
        {
          "output_type": "execute_result",
          "data": {
            "text/plain": [
              "5"
            ]
          },
          "metadata": {
            "tags": []
          },
          "execution_count": 26
        }
      ]
    },
    {
      "cell_type": "code",
      "metadata": {
        "id": "vbKg7k7_o4FN",
        "colab": {
          "base_uri": "https://localhost:8080/"
        },
        "outputId": "99a369b7-6bcf-43c8-c45a-655c940f5534"
      },
      "source": [
        "# 문자열 - 아스키코드\n",
        "x = input()\n",
        "print(ord(x))"
      ],
      "execution_count": 34,
      "outputs": [
        {
          "output_type": "stream",
          "text": [
            "d\n",
            "100\n"
          ],
          "name": "stdout"
        }
      ]
    },
    {
      "cell_type": "code",
      "metadata": {
        "id": "n6yp27oZsoA4",
        "colab": {
          "base_uri": "https://localhost:8080/"
        },
        "outputId": "c687df55-cc03-4b9c-d111-525693f24fd6"
      },
      "source": [
        "# 문자열 - 상수\n",
        "a, b = input().split()\n",
        "a = int(a)\n",
        "b = int(b)\n",
        "new_a = int(str(a)[::-1])\n",
        "new_b = int(str(b)[::-1])\n",
        "\n",
        "print(max(new_a,new_b))"
      ],
      "execution_count": 35,
      "outputs": [
        {
          "output_type": "stream",
          "text": [
            "6 4\n",
            "6\n"
          ],
          "name": "stdout"
        }
      ]
    },
    {
      "cell_type": "code",
      "metadata": {
        "id": "YCjUgTfatZUE",
        "colab": {
          "base_uri": "https://localhost:8080/"
        },
        "outputId": "37ecae9b-733d-4ca3-a55f-564bd96c724c"
      },
      "source": [
        "# 수학1 - 손익분기점\n",
        "a,b,c = map(int, input().split())\n",
        "if b>=c:\n",
        "    print(-1)\n",
        "else:\n",
        "    n = a/(c-b)\n",
        "    print(int(n)+1)"
      ],
      "execution_count": 36,
      "outputs": [
        {
          "output_type": "stream",
          "text": [
            "51 54 68\n",
            "4\n"
          ],
          "name": "stdout"
        }
      ]
    },
    {
      "cell_type": "code",
      "metadata": {
        "id": "RomJ_GoFzNMe",
        "colab": {
          "base_uri": "https://localhost:8080/"
        },
        "outputId": "47aa8146-41e2-4ba8-fc8e-e07d305ec697"
      },
      "source": [
        "# 수학1 - 분수찾기\n",
        "n = int(input())\n",
        "lis = []\n",
        "if n<5:\n",
        "    print(-1)\n",
        "else:\n",
        "    for y in range((n//3)+1):\n",
        "        for x in range((n//5)+1):\n",
        "            if ((5*x + 3*y) == n) :\n",
        "                lis.append(x+y)\n",
        "    print(min(lis))"
      ],
      "execution_count": 38,
      "outputs": [
        {
          "output_type": "stream",
          "text": [
            "65\n",
            "13\n"
          ],
          "name": "stdout"
        }
      ]
    },
    {
      "cell_type": "code",
      "metadata": {
        "id": "o-_FJPVM9bU5",
        "colab": {
          "base_uri": "https://localhost:8080/"
        },
        "outputId": "f7ff9bf2-25d3-4071-cad3-b9f1fe3c58fd"
      },
      "source": [
        "# 수학2 - 소수찾기\n",
        "n = int(input())\n",
        "a = list(map(int,(input().split())))\n",
        "result = 0\n",
        "for x in a:\n",
        "    cnt = 0\n",
        "    if x==1:\n",
        "        continue\n",
        "    for y in range(2,x+1):\n",
        "       if x%y == 0:\n",
        "           cnt+=1\n",
        "    if cnt==1:\n",
        "        result +=1\n",
        "result"
      ],
      "execution_count": 39,
      "outputs": [
        {
          "output_type": "stream",
          "text": [
            "77\n",
            "58\n"
          ],
          "name": "stdout"
        },
        {
          "output_type": "execute_result",
          "data": {
            "text/plain": [
              "0"
            ]
          },
          "metadata": {
            "tags": []
          },
          "execution_count": 39
        }
      ]
    },
    {
      "cell_type": "code",
      "metadata": {
        "id": "L4gQw8ylNpYj",
        "colab": {
          "base_uri": "https://localhost:8080/"
        },
        "outputId": "5877d4bc-bdea-4728-ad9b-9384b234f058"
      },
      "source": [
        "# 수학2 - 직사각형에서 탈출\n",
        "x,y, w, h = map(int,(input().split()))\n",
        "print(min([x, y, w - x, h - y]))"
      ],
      "execution_count": 41,
      "outputs": [
        {
          "output_type": "stream",
          "text": [
            "2 4 4 3\n",
            "-1\n"
          ],
          "name": "stdout"
        }
      ]
    }
  ]
}