{
  "nbformat": 4,
  "nbformat_minor": 0,
  "metadata": {
    "colab": {
      "name": "힙_programmers.ipynb",
      "provenance": [],
      "collapsed_sections": [],
      "authorship_tag": "ABX9TyN475mOqiMFqMPuxdsVLHhk",
      "include_colab_link": true
    },
    "kernelspec": {
      "name": "python3",
      "display_name": "Python 3"
    }
  },
  "cells": [
    {
      "cell_type": "markdown",
      "metadata": {
        "id": "view-in-github",
        "colab_type": "text"
      },
      "source": [
        "<a href=\"https://colab.research.google.com/github/quotation3/Algorithm/blob/master/%ED%9E%99_programmers.ipynb\" target=\"_parent\"><img src=\"https://colab.research.google.com/assets/colab-badge.svg\" alt=\"Open In Colab\"/></a>"
      ]
    },
    {
      "cell_type": "markdown",
      "metadata": {
        "id": "r9oZSiZXIA_W"
      },
      "source": [
        "### 더 맵게"
      ]
    },
    {
      "cell_type": "markdown",
      "metadata": {
        "id": "dodqOpEJIDoF"
      },
      "source": [
        "매운 것을 좋아하는 Leo는 모든 음식의 스코빌 지수를 K 이상으로 만들고 싶습니다. 모든 음식의 스코빌 지수를 K 이상으로 만들기 위해 Leo는 스코빌 지수가 가장 낮은 두 개의 음식을 아래와 같이 특별한 방법으로 섞어 새로운 음식을 만듭니다.\n",
        "\n",
        "섞은 음식의 스코빌 지수 = 가장 맵지 않은 음식의 스코빌 지수 + (두 번째로 맵지 않은 음식의 스코빌 지수 * 2)\n",
        "\n",
        "Leo는 모든 음식의 스코빌 지수가 K 이상이 될 때까지 반복하여 섞습니다.\n",
        "Leo가 가진 음식의 스코빌 지수를 담은 배열 scoville과 원하는 스코빌 지수 K가 주어질 때, 모든 음식의 스코빌 지수를 K 이상으로 만들기 위해 섞어야 하는 최소 횟수를 return 하도록 solution 함수를 작성해주세요."
      ]
    },
    {
      "cell_type": "code",
      "metadata": {
        "id": "iKBrrVj9H-on"
      },
      "source": [
        "scoville = [1, 2, 3, 9, 10, 12]\n",
        "K = 2\n",
        "# return 2"
      ],
      "execution_count": 1,
      "outputs": []
    },
    {
      "cell_type": "code",
      "metadata": {
        "id": "luogO1eXJKlJ"
      },
      "source": [
        "import heapq\n",
        "\n",
        "def solution(scoville,K):\n",
        "    heap = []\n",
        "    for i in scoville:\n",
        "        heapq.heappush(heap,i)\n",
        "    \n",
        "    mix_cnt = 0\n",
        "    while heap[0] < K:\n",
        "        try:\n",
        "            heapq.heappush(heap, heapq.heappop(heap)+(heapq.heappop(heap)*2))\n",
        "        except IndexError:\n",
        "            return -1\n",
        "        mix_cnt += 1\n",
        "    \n",
        "    return mix_cnt"
      ],
      "execution_count": 2,
      "outputs": []
    },
    {
      "cell_type": "code",
      "metadata": {
        "id": "HnX2nvrZJ8MQ",
        "outputId": "7854af25-bee3-483a-819e-9be28bd924b3",
        "colab": {
          "base_uri": "https://localhost:8080/"
        }
      },
      "source": [
        "solution(scoville, 7)"
      ],
      "execution_count": 3,
      "outputs": [
        {
          "output_type": "execute_result",
          "data": {
            "text/plain": [
              "2"
            ]
          },
          "metadata": {
            "tags": []
          },
          "execution_count": 3
        }
      ]
    },
    {
      "cell_type": "markdown",
      "metadata": {
        "id": "7kgOegluVqTq"
      },
      "source": [
        "### 디스크 컨트롤러"
      ]
    },
    {
      "cell_type": "code",
      "metadata": {
        "id": "m5uf0MVoWBex"
      },
      "source": [
        "jobs = [[0, 3], [1, 9], [2, 6]]\n",
        "# return 9"
      ],
      "execution_count": 4,
      "outputs": []
    },
    {
      "cell_type": "code",
      "metadata": {
        "id": "aFP6ueeiWE3-",
        "outputId": "e20d4e7f-4c6d-4c49-d835-84b5f084e334",
        "colab": {
          "base_uri": "https://localhost:8080/"
        }
      },
      "source": [
        "import heapq\n",
        "\n",
        "lis = []\n",
        "for t,s in jobs:\n",
        "    heapq.heappush(lis,(t,s))\n",
        "lis"
      ],
      "execution_count": 5,
      "outputs": [
        {
          "output_type": "execute_result",
          "data": {
            "text/plain": [
              "[(0, 3), (1, 9), (2, 6)]"
            ]
          },
          "metadata": {
            "tags": []
          },
          "execution_count": 5
        }
      ]
    },
    {
      "cell_type": "code",
      "metadata": {
        "id": "mzlfvkVsWnc6"
      },
      "source": [
        "import heapq\n",
        "\n",
        "def solution(jobs):\n",
        "    count, last, answer = 0, -1, 0\n",
        "    heap = []\n",
        "    jobs.sort()\n",
        "    # 시작시간 초기화\n",
        "    time = jobs[0][0]\n",
        "    while count < len(jobs):\n",
        "        for s, t in jobs:\n",
        "            if last < s <= time:\n",
        "                # 작업 소요시간으로 min heap을 만들기 위해 (t, s) 푸시\n",
        "                heapq.heappush(heap, (t, s))\n",
        "        # 바로 수행할 수 있는 작업이 있는 경우\n",
        "        if len(heap) > 0:\n",
        "            count += 1\n",
        "            last = time\n",
        "            term, start = heapq.heappop(heap)\n",
        "            time += term\n",
        "            answer += (time - start)\n",
        "        # 바로 수행할 수 있는 작업이 없는 경우\n",
        "        else:\n",
        "            time += 1\n",
        "    return answer//len(jobs)"
      ],
      "execution_count": 7,
      "outputs": []
    },
    {
      "cell_type": "code",
      "metadata": {
        "id": "DG0lL2kR-vp0",
        "outputId": "86ff963e-a42d-4d74-cefc-d99051925609",
        "colab": {
          "base_uri": "https://localhost:8080/"
        }
      },
      "source": [
        "solution(jobs)"
      ],
      "execution_count": 8,
      "outputs": [
        {
          "output_type": "execute_result",
          "data": {
            "text/plain": [
              "9"
            ]
          },
          "metadata": {
            "tags": []
          },
          "execution_count": 8
        }
      ]
    }
  ]
}