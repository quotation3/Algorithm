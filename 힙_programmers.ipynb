{
  "nbformat": 4,
  "nbformat_minor": 0,
  "metadata": {
    "colab": {
      "name": "힙_programmers.ipynb",
      "provenance": [],
      "collapsed_sections": [],
      "authorship_tag": "ABX9TyMUJRbBN4OT0f6YokPZZwrW",
      "include_colab_link": true
    },
    "kernelspec": {
      "name": "python3",
      "display_name": "Python 3"
    }
  },
  "cells": [
    {
      "cell_type": "markdown",
      "metadata": {
        "id": "view-in-github",
        "colab_type": "text"
      },
      "source": [
        "<a href=\"https://colab.research.google.com/github/quotation3/Algorithm/blob/master/%ED%9E%99_programmers.ipynb\" target=\"_parent\"><img src=\"https://colab.research.google.com/assets/colab-badge.svg\" alt=\"Open In Colab\"/></a>"
      ]
    },
    {
      "cell_type": "markdown",
      "metadata": {
        "id": "r9oZSiZXIA_W"
      },
      "source": [
        "### 더 맵게"
      ]
    },
    {
      "cell_type": "markdown",
      "metadata": {
        "id": "dodqOpEJIDoF"
      },
      "source": [
        "매운 것을 좋아하는 Leo는 모든 음식의 스코빌 지수를 K 이상으로 만들고 싶습니다. 모든 음식의 스코빌 지수를 K 이상으로 만들기 위해 Leo는 스코빌 지수가 가장 낮은 두 개의 음식을 아래와 같이 특별한 방법으로 섞어 새로운 음식을 만듭니다.\n",
        "\n",
        "섞은 음식의 스코빌 지수 = 가장 맵지 않은 음식의 스코빌 지수 + (두 번째로 맵지 않은 음식의 스코빌 지수 * 2)\n",
        "\n",
        "Leo는 모든 음식의 스코빌 지수가 K 이상이 될 때까지 반복하여 섞습니다.\n",
        "Leo가 가진 음식의 스코빌 지수를 담은 배열 scoville과 원하는 스코빌 지수 K가 주어질 때, 모든 음식의 스코빌 지수를 K 이상으로 만들기 위해 섞어야 하는 최소 횟수를 return 하도록 solution 함수를 작성해주세요."
      ]
    },
    {
      "cell_type": "code",
      "metadata": {
        "id": "iKBrrVj9H-on"
      },
      "source": [
        "scoville = [1, 2, 3, 9, 10, 12]\n",
        "K = 2\n",
        "# return 2"
      ],
      "execution_count": null,
      "outputs": []
    },
    {
      "cell_type": "code",
      "metadata": {
        "id": "luogO1eXJKlJ"
      },
      "source": [
        "import heapq\n",
        "\n",
        "def solution(scoville,K):\n",
        "    heap = []\n",
        "    for i in scoville:\n",
        "        heapq.heappush(heap,i)\n",
        "    \n",
        "    mix_cnt = 0\n",
        "    while heap[0] < K:\n",
        "        try:\n",
        "            heapq.heappush(heap, heapq.heappop(heap)+(heapq.heappop(heap)*2))\n",
        "        except IndexError:\n",
        "            return -1\n",
        "        mix_cnt += 1\n",
        "    \n",
        "    return mix_cnt"
      ],
      "execution_count": null,
      "outputs": []
    },
    {
      "cell_type": "code",
      "metadata": {
        "id": "HnX2nvrZJ8MQ",
        "outputId": "04da6970-d911-4b56-8a77-6a60c718bc80",
        "colab": {
          "base_uri": "https://localhost:8080/"
        }
      },
      "source": [
        "solution(scoville, 7)"
      ],
      "execution_count": null,
      "outputs": [
        {
          "output_type": "execute_result",
          "data": {
            "text/plain": [
              "2"
            ]
          },
          "metadata": {
            "tags": []
          },
          "execution_count": 13
        }
      ]
    },
    {
      "cell_type": "markdown",
      "metadata": {
        "id": "7kgOegluVqTq"
      },
      "source": [
        "### 디스크 컨트롤러"
      ]
    },
    {
      "cell_type": "code",
      "metadata": {
        "id": "m5uf0MVoWBex"
      },
      "source": [
        "jobs = [[0, 3], [1, 9], [2, 6]]\n",
        "# return 9"
      ],
      "execution_count": 1,
      "outputs": []
    },
    {
      "cell_type": "code",
      "metadata": {
        "id": "aFP6ueeiWE3-",
        "outputId": "5115d792-01e2-4a94-dc74-b0affe5abc8f",
        "colab": {
          "base_uri": "https://localhost:8080/"
        }
      },
      "source": [
        "import heapq\n",
        "\n",
        "lis = []\n",
        "for t,s in jobs:\n",
        "    heapq.heappush(lis,(t,s))\n",
        "lis"
      ],
      "execution_count": 2,
      "outputs": [
        {
          "output_type": "execute_result",
          "data": {
            "text/plain": [
              "[(0, 3), (1, 9), (2, 6)]"
            ]
          },
          "metadata": {
            "tags": []
          },
          "execution_count": 2
        }
      ]
    },
    {
      "cell_type": "code",
      "metadata": {
        "id": "mzlfvkVsWnc6",
        "outputId": "87f41d6f-464d-42a2-becb-76a31cc30c96",
        "colab": {
          "base_uri": "https://localhost:8080/"
        }
      },
      "source": [
        "answer = 0\n",
        "answer+=lis[0][1]\n",
        "print(answer)\n",
        "if lis[1][0] < answer:\n",
        "    answer+=lis[1][1]\n",
        "    answer-=lis[1][0]\n",
        "    print(answer)\n",
        "else:\n",
        "    answer+=(answer-lis[1][0]+lis[1][1])\n",
        "    print(answer)\n",
        "\n",
        "\n",
        "if lis[2][0] < answer:\n",
        "    answer+=lis[2][1]\n",
        "    answer-=lis[1][1]\n",
        "    print(answer)\n",
        "else:\n",
        "    answer+=(answer-lis[2][0]+lis[2][1])\n",
        "    print(answer)\n",
        "\n",
        "answer"
      ],
      "execution_count": 9,
      "outputs": [
        {
          "output_type": "stream",
          "text": [
            "3\n",
            "11\n",
            "8\n"
          ],
          "name": "stdout"
        },
        {
          "output_type": "execute_result",
          "data": {
            "text/plain": [
              "8"
            ]
          },
          "metadata": {
            "tags": []
          },
          "execution_count": 9
        }
      ]
    }
  ]
}