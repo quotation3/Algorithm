{
  "nbformat": 4,
  "nbformat_minor": 0,
  "metadata": {
    "colab": {
      "name": "힙_programmers.ipynb",
      "provenance": [],
      "collapsed_sections": [],
      "authorship_tag": "ABX9TyMztOnt6yXhM/Qv259wTt2u",
      "include_colab_link": true
    },
    "kernelspec": {
      "name": "python3",
      "display_name": "Python 3"
    }
  },
  "cells": [
    {
      "cell_type": "markdown",
      "metadata": {
        "id": "view-in-github",
        "colab_type": "text"
      },
      "source": [
        "<a href=\"https://colab.research.google.com/github/quotation3/Algorithm/blob/master/%ED%9E%99_programmers.ipynb\" target=\"_parent\"><img src=\"https://colab.research.google.com/assets/colab-badge.svg\" alt=\"Open In Colab\"/></a>"
      ]
    },
    {
      "cell_type": "markdown",
      "metadata": {
        "id": "r9oZSiZXIA_W"
      },
      "source": [
        "### 더 맵게"
      ]
    },
    {
      "cell_type": "markdown",
      "metadata": {
        "id": "dodqOpEJIDoF"
      },
      "source": [
        "매운 것을 좋아하는 Leo는 모든 음식의 스코빌 지수를 K 이상으로 만들고 싶습니다. 모든 음식의 스코빌 지수를 K 이상으로 만들기 위해 Leo는 스코빌 지수가 가장 낮은 두 개의 음식을 아래와 같이 특별한 방법으로 섞어 새로운 음식을 만듭니다.\n",
        "\n",
        "섞은 음식의 스코빌 지수 = 가장 맵지 않은 음식의 스코빌 지수 + (두 번째로 맵지 않은 음식의 스코빌 지수 * 2)\n",
        "\n",
        "Leo는 모든 음식의 스코빌 지수가 K 이상이 될 때까지 반복하여 섞습니다.\n",
        "Leo가 가진 음식의 스코빌 지수를 담은 배열 scoville과 원하는 스코빌 지수 K가 주어질 때, 모든 음식의 스코빌 지수를 K 이상으로 만들기 위해 섞어야 하는 최소 횟수를 return 하도록 solution 함수를 작성해주세요."
      ]
    },
    {
      "cell_type": "code",
      "metadata": {
        "id": "iKBrrVj9H-on"
      },
      "source": [
        "scoville = [1, 2, 3, 9, 10, 12]\n",
        "K = 2\n",
        "# return 2"
      ],
      "execution_count": 45,
      "outputs": []
    },
    {
      "cell_type": "code",
      "metadata": {
        "id": "luogO1eXJKlJ"
      },
      "source": [
        "import heapq\n",
        "\n",
        "def solution(scoville,K):\n",
        "    heap = []\n",
        "    for i in scoville:\n",
        "        heapq.heappush(heap,i)\n",
        "    \n",
        "    mix_cnt = 0\n",
        "    while heap[0] < K:\n",
        "        try:\n",
        "            heapq.heappush(heap, heapq.heappop(heap)+(heapq.heappop(heap)*2))\n",
        "        except IndexError:\n",
        "            return -1\n",
        "        mix_cnt += 1\n",
        "    \n",
        "    return mix_cnt"
      ],
      "execution_count": 46,
      "outputs": []
    },
    {
      "cell_type": "code",
      "metadata": {
        "id": "HnX2nvrZJ8MQ",
        "outputId": "98507e69-dec9-4c15-9070-ed9b2bbf43be",
        "colab": {
          "base_uri": "https://localhost:8080/"
        }
      },
      "source": [
        "solution(scoville, 7)"
      ],
      "execution_count": 47,
      "outputs": [
        {
          "output_type": "execute_result",
          "data": {
            "text/plain": [
              "2"
            ]
          },
          "metadata": {
            "tags": []
          },
          "execution_count": 47
        }
      ]
    },
    {
      "cell_type": "markdown",
      "metadata": {
        "id": "7kgOegluVqTq"
      },
      "source": [
        "### 디스크 컨트롤러"
      ]
    },
    {
      "cell_type": "code",
      "metadata": {
        "id": "m5uf0MVoWBex"
      },
      "source": [
        "jobs = [[0, 3], [1, 9], [2, 6]]\n",
        "# return 9"
      ],
      "execution_count": 48,
      "outputs": []
    },
    {
      "cell_type": "code",
      "metadata": {
        "id": "aFP6ueeiWE3-",
        "outputId": "a3bab869-e9c4-4d12-da4e-4e18b2216106",
        "colab": {
          "base_uri": "https://localhost:8080/"
        }
      },
      "source": [
        "import heapq\n",
        "\n",
        "lis = []\n",
        "for t,s in jobs:\n",
        "    heapq.heappush(lis,(t,s))\n",
        "lis"
      ],
      "execution_count": 49,
      "outputs": [
        {
          "output_type": "execute_result",
          "data": {
            "text/plain": [
              "[(0, 3), (1, 9), (2, 6)]"
            ]
          },
          "metadata": {
            "tags": []
          },
          "execution_count": 49
        }
      ]
    },
    {
      "cell_type": "code",
      "metadata": {
        "id": "mzlfvkVsWnc6"
      },
      "source": [
        "import heapq\n",
        "\n",
        "def solution(jobs):\n",
        "    count, last, answer = 0, -1, 0\n",
        "    heap = []\n",
        "    jobs.sort()\n",
        "    # 시작시간 초기화\n",
        "    time = jobs[0][0]\n",
        "    while count < len(jobs):\n",
        "        for s, t in jobs:\n",
        "            if last < s <= time:\n",
        "                # 작업 소요시간으로 min heap을 만들기 위해 (t, s) 푸시\n",
        "                heapq.heappush(heap, (t, s))\n",
        "        # 바로 수행할 수 있는 작업이 있는 경우\n",
        "        if len(heap) > 0:\n",
        "            count += 1\n",
        "            last = time\n",
        "            term, start = heapq.heappop(heap)\n",
        "            time += term\n",
        "            answer += (time - start)\n",
        "        # 바로 수행할 수 있는 작업이 없는 경우\n",
        "        else:\n",
        "            time += 1\n",
        "    return answer//len(jobs)"
      ],
      "execution_count": 50,
      "outputs": []
    },
    {
      "cell_type": "code",
      "metadata": {
        "id": "DG0lL2kR-vp0",
        "outputId": "6043a242-a871-4b16-c7f6-6d16bca69c03",
        "colab": {
          "base_uri": "https://localhost:8080/"
        }
      },
      "source": [
        "solution(jobs)"
      ],
      "execution_count": 51,
      "outputs": [
        {
          "output_type": "execute_result",
          "data": {
            "text/plain": [
              "9"
            ]
          },
          "metadata": {
            "tags": []
          },
          "execution_count": 51
        }
      ]
    },
    {
      "cell_type": "markdown",
      "metadata": {
        "id": "-rtw9w77rw1p"
      },
      "source": [
        "### 이중우선순위큐"
      ]
    },
    {
      "cell_type": "markdown",
      "metadata": {
        "id": "su1w1J_Vr289"
      },
      "source": [
        "I 숫자\t큐에 주어진 숫자를 삽입합니다.\n",
        "D 1\t큐에서 최댓값을 삭제합니다.\n",
        "D -1\t큐에서 최솟값을 삭제합니다.\n",
        "\n",
        "이중 우선순위 큐가 할 연산 operations가 매개변수로 주어질 때, 모든 연산을 처리한 후 큐가 비어있으면 [0,0] 비어있지 않으면 [최댓값, 최솟값]을 return 하도록 solution 함수를 구현해주세요."
      ]
    },
    {
      "cell_type": "code",
      "metadata": {
        "id": "2uStRTnhsPU9"
      },
      "source": [
        "operations = [\"I -45\", \"I 653\", \"D 1\", \"I -642\", \"I 45\", \"I 97\", \"D 1\", \"D -1\", \"I 333\"]\n",
        "# return [333, -45]"
      ],
      "execution_count": 52,
      "outputs": []
    },
    {
      "cell_type": "code",
      "metadata": {
        "id": "ujwNwM_JsT1h",
        "outputId": "66a1bed4-e72a-4f37-9a13-a22bc9fc7578",
        "colab": {
          "base_uri": "https://localhost:8080/"
        }
      },
      "source": [
        "import heapq\n",
        "\n",
        "answer = []\n",
        "\n",
        "for i in operations:\n",
        "    a,b = i.split(' ')\n",
        "    if a == 'I':\n",
        "        heapq.heappush(answer,int(b))\n",
        "    else:\n",
        "        if len(answer) > 0:\n",
        "            if b == '1':\n",
        "                answer.pop()\n",
        "            if b == '-1':\n",
        "                answer.pop(0)\n",
        "        else:\n",
        "            continue\n",
        "    print(answer) \n",
        "if len(answer) == 0:\n",
        "    print([0,0])\n",
        "if len(answer) > 0:\n",
        "    print([max(answer),min(answer)])"
      ],
      "execution_count": 53,
      "outputs": [
        {
          "output_type": "stream",
          "text": [
            "[-45]\n",
            "[-45, 653]\n",
            "[-45]\n",
            "[-642, -45]\n",
            "[-642, -45, 45]\n",
            "[-642, -45, 45, 97]\n",
            "[-642, -45, 45]\n",
            "[-45, 45]\n",
            "[-45, 45, 333]\n",
            "[333, -45]\n"
          ],
          "name": "stdout"
        }
      ]
    },
    {
      "cell_type": "code",
      "metadata": {
        "id": "ui1NmvDhs6tO"
      },
      "source": [
        "import heapq\n",
        "\n",
        "def solution(operations):\n",
        "    answer = []\n",
        "\n",
        "    for i in operations:\n",
        "        a,b = i.split(' ')\n",
        "        if a == 'I':\n",
        "            heapq.heappush(answer,int(b))\n",
        "        else:\n",
        "            if len(answer) > 0:\n",
        "                if b == '1':\n",
        "                    answer.pop()\n",
        "                if b == '-1':\n",
        "                    answer.pop(0)\n",
        "            else:\n",
        "                continue\n",
        "    if len(answer) == 0:\n",
        "        return [0,0]\n",
        "    if len(answer) > 0:\n",
        "        return [max(answer),min(answer)]"
      ],
      "execution_count": 54,
      "outputs": []
    },
    {
      "cell_type": "code",
      "metadata": {
        "id": "NSWC6cqbvnbM",
        "outputId": "15eb281a-113f-4731-c4dd-394f4ae4798d",
        "colab": {
          "base_uri": "https://localhost:8080/"
        }
      },
      "source": [
        "solution(operations)"
      ],
      "execution_count": 55,
      "outputs": [
        {
          "output_type": "execute_result",
          "data": {
            "text/plain": [
              "[333, -45]"
            ]
          },
          "metadata": {
            "tags": []
          },
          "execution_count": 55
        }
      ]
    }
  ]
}