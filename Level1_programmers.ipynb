{
  "nbformat": 4,
  "nbformat_minor": 0,
  "metadata": {
    "colab": {
      "name": "Level1_programmers.ipynb",
      "provenance": [],
      "collapsed_sections": [],
      "authorship_tag": "ABX9TyNHnT3YhKzmj/Krt8stDZaA",
      "include_colab_link": true
    },
    "kernelspec": {
      "name": "python3",
      "display_name": "Python 3"
    }
  },
  "cells": [
    {
      "cell_type": "markdown",
      "metadata": {
        "id": "view-in-github",
        "colab_type": "text"
      },
      "source": [
        "<a href=\"https://colab.research.google.com/github/quotation3/Algorithm/blob/master/Level1_programmers.ipynb\" target=\"_parent\"><img src=\"https://colab.research.google.com/assets/colab-badge.svg\" alt=\"Open In Colab\"/></a>"
      ]
    },
    {
      "cell_type": "markdown",
      "metadata": {
        "id": "-DKx94JLd_En"
      },
      "source": [
        "### 내적"
      ]
    },
    {
      "cell_type": "markdown",
      "metadata": {
        "id": "hf9_dlPReCMI"
      },
      "source": [
        "길이가 같은 두 1차원 정수 배열 a, b가 매개변수로 주어집니다. a와 b의 내적을 return 하도록 solution 함수를 완성해주세요.\r\n",
        "\r\n",
        "이때, a와 b의 내적은 a[0]*b[0] + a[1]*b[1] + ... + a[n-1]*b[n-1] 입니다. (n은 a, b의 길이)"
      ]
    },
    {
      "cell_type": "code",
      "metadata": {
        "id": "rjcJudqIdeod"
      },
      "source": [
        "a = [1,2,3,4]\r\n",
        "b = [-3,-1,0,2]"
      ],
      "execution_count": null,
      "outputs": []
    },
    {
      "cell_type": "code",
      "metadata": {
        "colab": {
          "base_uri": "https://localhost:8080/"
        },
        "id": "Ava7LA2SePG0",
        "outputId": "bae26de3-9808-4f64-fe25-ec51d28f14e9"
      },
      "source": [
        "sum = 0\r\n",
        "for i in range(len(a)):\r\n",
        "    sum+=a[i]*b[i]\r\n",
        "print(sum)"
      ],
      "execution_count": null,
      "outputs": [
        {
          "output_type": "stream",
          "text": [
            "3\n"
          ],
          "name": "stdout"
        }
      ]
    },
    {
      "cell_type": "code",
      "metadata": {
        "id": "Ldf8xaiueng1"
      },
      "source": [
        "def solution(a,b):\r\n",
        "\r\n",
        "    sum = 0\r\n",
        "    for i in range(len(a)):\r\n",
        "        sum+=a[i]*b[i]\r\n",
        "        \r\n",
        "    return sum"
      ],
      "execution_count": null,
      "outputs": []
    },
    {
      "cell_type": "code",
      "metadata": {
        "colab": {
          "base_uri": "https://localhost:8080/"
        },
        "id": "D604_U7ceujS",
        "outputId": "79a13df7-69f1-442e-9484-bc9426d95b33"
      },
      "source": [
        "solution(a,b)"
      ],
      "execution_count": null,
      "outputs": [
        {
          "output_type": "execute_result",
          "data": {
            "text/plain": [
              "3"
            ]
          },
          "metadata": {
            "tags": []
          },
          "execution_count": 6
        }
      ]
    },
    {
      "cell_type": "markdown",
      "metadata": {
        "id": "v2-BXutwkaME"
      },
      "source": [
        "###크레인 인형뽑기 게임"
      ]
    },
    {
      "cell_type": "code",
      "metadata": {
        "id": "d15lWCVWkdUv"
      },
      "source": [
        "board = [[0,0,0,0,0],[0,0,1,0,3],[0,2,5,0,1],[4,2,4,4,2],[3,5,1,3,1]]\r\n",
        "moves = [1,5,3,5,1,2,1,4]"
      ],
      "execution_count": null,
      "outputs": []
    },
    {
      "cell_type": "code",
      "metadata": {
        "colab": {
          "base_uri": "https://localhost:8080/"
        },
        "id": "Fy0ODI5QtYta",
        "outputId": "1fc4b3f7-2d42-4d15-dc82-9b3a6467b6b9"
      },
      "source": [
        "board = [[0,0,0,0,0],[0,0,1,0,3],[0,2,5,0,1],[4,2,4,4,2],[3,5,1,3,1]]\r\n",
        "moves = [1,5,3,5,1,2,1,4]\r\n",
        "cnt=0\r\n",
        "result = []\r\n",
        "\r\n",
        "for m in moves:\r\n",
        "    for b in range(len(board)):\r\n",
        "        if board[b][m-1] != 0:\r\n",
        "            result.append(board[b][m-1])\r\n",
        "            board[b][m-1] = 0\r\n",
        "\r\n",
        "            if len(result)>1:\r\n",
        "                if result[-1]==result[-2]:\r\n",
        "                    result.pop(-1)\r\n",
        "                    result.pop(-1)\r\n",
        "                    cnt+=2\r\n",
        "            break\r\n",
        "print(cnt)"
      ],
      "execution_count": null,
      "outputs": [
        {
          "output_type": "stream",
          "text": [
            "4\n"
          ],
          "name": "stdout"
        }
      ]
    },
    {
      "cell_type": "code",
      "metadata": {
        "id": "cwWruuvJvTCc"
      },
      "source": [
        "def solution(board, moves):\r\n",
        "    cnt = 0\r\n",
        "    result = []\r\n",
        "\r\n",
        "    for m in moves:\r\n",
        "        for b in range(len(board)):\r\n",
        "            if board[b][m-1] != 0:\r\n",
        "                result.append(board[b][m-1])\r\n",
        "                board[b][m-1] = 0\r\n",
        "\r\n",
        "                if len(result)>1:\r\n",
        "                    if result[-1]==result[-2]:\r\n",
        "                        result.pop(-1)\r\n",
        "                        result.pop(-1)\r\n",
        "                        cnt+=2\r\n",
        "                break\r\n",
        "\r\n",
        "    return cnt"
      ],
      "execution_count": null,
      "outputs": []
    },
    {
      "cell_type": "code",
      "metadata": {
        "colab": {
          "base_uri": "https://localhost:8080/"
        },
        "id": "rmqRSRdk0-ju",
        "outputId": "0089012d-10a9-47dd-8406-e1892a0b9c9b"
      },
      "source": [
        "solution(board, moves)"
      ],
      "execution_count": null,
      "outputs": [
        {
          "output_type": "execute_result",
          "data": {
            "text/plain": [
              "4"
            ]
          },
          "metadata": {
            "tags": []
          },
          "execution_count": 71
        }
      ]
    },
    {
      "cell_type": "markdown",
      "metadata": {
        "id": "EcwJG5ZVakC3"
      },
      "source": [
        "두 개 뽑아서 더하기\r\n"
      ]
    },
    {
      "cell_type": "markdown",
      "metadata": {
        "id": "VMTlA9_Mb71V"
      },
      "source": [
        "정수 배열 numbers가 주어집니다. numbers에서 서로 다른 인덱스에 있는 두 개의 수를 뽑아 더해서 만들 수 있는 모든 수를 배열에 오름차순으로 담아 return 하도록 solution 함수를 완성해주세요."
      ]
    },
    {
      "cell_type": "code",
      "metadata": {
        "id": "SVH9LoOKb8kW"
      },
      "source": [
        "numbers = [2,1,3,4,1]\r\n",
        "result = [2,3,4,5,6,7]"
      ],
      "execution_count": 57,
      "outputs": []
    },
    {
      "cell_type": "code",
      "metadata": {
        "id": "8NO0gi9GcxBv"
      },
      "source": [
        "from itertools import combinations\r\n",
        "\r\n",
        "def solution(numbers):\r\n",
        "    answer = set()\r\n",
        "    for i in list(combinations(numbers,2)):\r\n",
        "        answer.add(sum(i))\r\n",
        "    return sorted(answer)"
      ],
      "execution_count": 58,
      "outputs": []
    }
  ]
}