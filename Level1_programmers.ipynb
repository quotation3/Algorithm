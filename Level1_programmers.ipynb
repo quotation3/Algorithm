{
  "nbformat": 4,
  "nbformat_minor": 0,
  "metadata": {
    "colab": {
      "name": "Level1_programmers.ipynb",
      "provenance": [],
      "authorship_tag": "ABX9TyPlFv0Ebc9ReAJvaIfa5JwH",
      "include_colab_link": true
    },
    "kernelspec": {
      "name": "python3",
      "display_name": "Python 3"
    }
  },
  "cells": [
    {
      "cell_type": "markdown",
      "metadata": {
        "id": "view-in-github",
        "colab_type": "text"
      },
      "source": [
        "<a href=\"https://colab.research.google.com/github/quotation3/Algorithm/blob/master/Level1_programmers.ipynb\" target=\"_parent\"><img src=\"https://colab.research.google.com/assets/colab-badge.svg\" alt=\"Open In Colab\"/></a>"
      ]
    },
    {
      "cell_type": "markdown",
      "metadata": {
        "id": "-DKx94JLd_En"
      },
      "source": [
        "### 내적"
      ]
    },
    {
      "cell_type": "markdown",
      "metadata": {
        "id": "hf9_dlPReCMI"
      },
      "source": [
        "길이가 같은 두 1차원 정수 배열 a, b가 매개변수로 주어집니다. a와 b의 내적을 return 하도록 solution 함수를 완성해주세요.\r\n",
        "\r\n",
        "이때, a와 b의 내적은 a[0]*b[0] + a[1]*b[1] + ... + a[n-1]*b[n-1] 입니다. (n은 a, b의 길이)"
      ]
    },
    {
      "cell_type": "code",
      "metadata": {
        "id": "rjcJudqIdeod"
      },
      "source": [
        "a = [1,2,3,4]\r\n",
        "b = [-3,-1,0,2]"
      ],
      "execution_count": 1,
      "outputs": []
    },
    {
      "cell_type": "code",
      "metadata": {
        "colab": {
          "base_uri": "https://localhost:8080/"
        },
        "id": "Ava7LA2SePG0",
        "outputId": "bae26de3-9808-4f64-fe25-ec51d28f14e9"
      },
      "source": [
        "sum = 0\r\n",
        "for i in range(len(a)):\r\n",
        "    sum+=a[i]*b[i]\r\n",
        "print(sum)"
      ],
      "execution_count": 4,
      "outputs": [
        {
          "output_type": "stream",
          "text": [
            "3\n"
          ],
          "name": "stdout"
        }
      ]
    },
    {
      "cell_type": "code",
      "metadata": {
        "id": "Ldf8xaiueng1"
      },
      "source": [
        "def solution(a,b):\r\n",
        "\r\n",
        "    sum = 0\r\n",
        "    for i in range(len(a)):\r\n",
        "        sum+=a[i]*b[i]\r\n",
        "        \r\n",
        "    return sum"
      ],
      "execution_count": 5,
      "outputs": []
    },
    {
      "cell_type": "code",
      "metadata": {
        "colab": {
          "base_uri": "https://localhost:8080/"
        },
        "id": "D604_U7ceujS",
        "outputId": "79a13df7-69f1-442e-9484-bc9426d95b33"
      },
      "source": [
        "solution(a,b)"
      ],
      "execution_count": 6,
      "outputs": [
        {
          "output_type": "execute_result",
          "data": {
            "text/plain": [
              "3"
            ]
          },
          "metadata": {
            "tags": []
          },
          "execution_count": 6
        }
      ]
    },
    {
      "cell_type": "markdown",
      "metadata": {
        "id": "v2-BXutwkaME"
      },
      "source": [
        "###크레인 인형뽑기 게임"
      ]
    },
    {
      "cell_type": "code",
      "metadata": {
        "id": "d15lWCVWkdUv"
      },
      "source": [
        "board = [[0,0,0,0,0],[0,0,1,0,3],[0,2,5,0,1],[4,2,4,4,2],[3,5,1,3,1]]\r\n",
        "moves = [1,5,3,5,1,2,1,4]"
      ],
      "execution_count": 7,
      "outputs": []
    }
  ]
}