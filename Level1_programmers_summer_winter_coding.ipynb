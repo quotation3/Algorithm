{
  "nbformat": 4,
  "nbformat_minor": 0,
  "metadata": {
    "colab": {
      "name": "Level1_programmers_summer/winter_coding.ipynb",
      "provenance": [],
      "collapsed_sections": [],
      "authorship_tag": "ABX9TyMXDhLsEuwDMk9W+K3ynlbV",
      "include_colab_link": true
    },
    "kernelspec": {
      "name": "python3",
      "display_name": "Python 3"
    }
  },
  "cells": [
    {
      "cell_type": "markdown",
      "metadata": {
        "id": "view-in-github",
        "colab_type": "text"
      },
      "source": [
        "<a href=\"https://colab.research.google.com/github/quotation3/Algorithm/blob/master/Level1_programmers_summer_winter_coding.ipynb\" target=\"_parent\"><img src=\"https://colab.research.google.com/assets/colab-badge.svg\" alt=\"Open In Colab\"/></a>"
      ]
    },
    {
      "cell_type": "markdown",
      "metadata": {
        "id": "-xKCgTmfPIFE"
      },
      "source": [
        "### 예산"
      ]
    },
    {
      "cell_type": "code",
      "metadata": {
        "id": "dft-c6Iei8nq"
      },
      "source": [
        "d = [1,3,2,5,4]\r\n",
        "budget = 9\r\n",
        "# result = 3"
      ],
      "execution_count": 17,
      "outputs": []
    },
    {
      "cell_type": "code",
      "metadata": {
        "colab": {
          "base_uri": "https://localhost:8080/"
        },
        "id": "FfKwrHKrQXY7",
        "outputId": "7d750666-3401-4b97-812e-7c12b7b35736"
      },
      "source": [
        "# 시간초과\r\n",
        "\r\n",
        "from itertools import combinations\r\n",
        "\r\n",
        "def solution(d, budget):\r\n",
        "    result = []\r\n",
        "    for i in range(len(d),0,-1):\r\n",
        "        for j in list(combinations(d,i)):\r\n",
        "            if sum(j) <= budget:\r\n",
        "                result.append(i)\r\n",
        "    return max(result)"
      ],
      "execution_count": 33,
      "outputs": [
        {
          "output_type": "execute_result",
          "data": {
            "text/plain": [
              "3"
            ]
          },
          "metadata": {
            "tags": []
          },
          "execution_count": 33
        }
      ]
    },
    {
      "cell_type": "code",
      "metadata": {
        "id": "hZBEsuOdVpBt"
      },
      "source": [
        "def solution(d, budget):\r\n",
        "    cnt = 0\r\n",
        "    d.sort()\r\n",
        "    for i in range(len(d)):\r\n",
        "        if d[i]<=budget:\r\n",
        "            cnt+=1\r\n",
        "            budget -= d[i]\r\n",
        "        else:\r\n",
        "            break\r\n",
        "    return cnt "
      ],
      "execution_count": 35,
      "outputs": []
    },
    {
      "cell_type": "code",
      "metadata": {
        "colab": {
          "base_uri": "https://localhost:8080/"
        },
        "id": "MVWIRDBAWwhE",
        "outputId": "f37d9fd8-79b4-4aa8-a43c-c0f094193cf4"
      },
      "source": [
        "solution(d, budget)"
      ],
      "execution_count": 36,
      "outputs": [
        {
          "output_type": "execute_result",
          "data": {
            "text/plain": [
              "3"
            ]
          },
          "metadata": {
            "tags": []
          },
          "execution_count": 36
        }
      ]
    },
    {
      "cell_type": "code",
      "metadata": {
        "id": "4zfUe3qIWWP0"
      },
      "source": [
        "# 다른 풀이\r\n",
        "\r\n",
        "def solution(d, budget):\r\n",
        "    d.sort()\r\n",
        "    while budget < sum(d):\r\n",
        "        d.pop()\r\n",
        "    return len(d)"
      ],
      "execution_count": 34,
      "outputs": []
    },
    {
      "cell_type": "code",
      "metadata": {
        "colab": {
          "base_uri": "https://localhost:8080/"
        },
        "id": "ZNrnvjaSWyV-",
        "outputId": "bdbc8ef0-a174-4716-cdaa-5e63aab4cd1f"
      },
      "source": [
        "solution(d, budget)"
      ],
      "execution_count": 37,
      "outputs": [
        {
          "output_type": "execute_result",
          "data": {
            "text/plain": [
              "3"
            ]
          },
          "metadata": {
            "tags": []
          },
          "execution_count": 37
        }
      ]
    }
  ]
}